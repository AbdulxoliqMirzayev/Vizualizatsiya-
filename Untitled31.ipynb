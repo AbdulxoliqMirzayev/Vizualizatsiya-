{
  "nbformat": 4,
  "nbformat_minor": 0,
  "metadata": {
    "colab": {
      "provenance": [],
      "authorship_tag": "ABX9TyOKeklyCU/rYIu8YXt1Q2vL",
      "include_colab_link": true
    },
    "kernelspec": {
      "name": "python3",
      "display_name": "Python 3"
    },
    "language_info": {
      "name": "python"
    },
    "widgets": {
      "application/vnd.jupyter.widget-state+json": {
        "bdaf27de8ac745a7b1381adee39dc505": {
          "model_module": "@jupyter-widgets/controls",
          "model_name": "ButtonModel",
          "model_module_version": "1.5.0",
          "state": {
            "_dom_classes": [],
            "_model_module": "@jupyter-widgets/controls",
            "_model_module_version": "1.5.0",
            "_model_name": "ButtonModel",
            "_view_count": null,
            "_view_module": "@jupyter-widgets/controls",
            "_view_module_version": "1.5.0",
            "_view_name": "ButtonView",
            "button_style": "",
            "description": "Toggle Pandas/Lux",
            "disabled": false,
            "icon": "",
            "layout": "IPY_MODEL_4de5766e2b504d97af35807718c5c5b8",
            "style": "IPY_MODEL_c065cc4c011b4aaaa6e519fa6a3cbe02",
            "tooltip": ""
          }
        },
        "4de5766e2b504d97af35807718c5c5b8": {
          "model_module": "@jupyter-widgets/base",
          "model_name": "LayoutModel",
          "model_module_version": "1.2.0",
          "state": {
            "_model_module": "@jupyter-widgets/base",
            "_model_module_version": "1.2.0",
            "_model_name": "LayoutModel",
            "_view_count": null,
            "_view_module": "@jupyter-widgets/base",
            "_view_module_version": "1.2.0",
            "_view_name": "LayoutView",
            "align_content": null,
            "align_items": null,
            "align_self": null,
            "border": null,
            "bottom": null,
            "display": null,
            "flex": null,
            "flex_flow": null,
            "grid_area": null,
            "grid_auto_columns": null,
            "grid_auto_flow": null,
            "grid_auto_rows": null,
            "grid_column": null,
            "grid_gap": null,
            "grid_row": null,
            "grid_template_areas": null,
            "grid_template_columns": null,
            "grid_template_rows": null,
            "height": null,
            "justify_content": null,
            "justify_items": null,
            "left": null,
            "margin": null,
            "max_height": null,
            "max_width": null,
            "min_height": null,
            "min_width": null,
            "object_fit": null,
            "object_position": null,
            "order": null,
            "overflow": null,
            "overflow_x": null,
            "overflow_y": null,
            "padding": null,
            "right": null,
            "top": "5px",
            "visibility": null,
            "width": "140px"
          }
        },
        "c065cc4c011b4aaaa6e519fa6a3cbe02": {
          "model_module": "@jupyter-widgets/controls",
          "model_name": "ButtonStyleModel",
          "model_module_version": "1.5.0",
          "state": {
            "_model_module": "@jupyter-widgets/controls",
            "_model_module_version": "1.5.0",
            "_model_name": "ButtonStyleModel",
            "_view_count": null,
            "_view_module": "@jupyter-widgets/base",
            "_view_module_version": "1.2.0",
            "_view_name": "StyleView",
            "button_color": null,
            "font_weight": ""
          }
        },
        "3f18973518ad4651b111f712eb3667a7": {
          "model_module": "@jupyter-widgets/output",
          "model_name": "OutputModel",
          "model_module_version": "1.0.0",
          "state": {
            "_dom_classes": [],
            "_model_module": "@jupyter-widgets/output",
            "_model_module_version": "1.0.0",
            "_model_name": "OutputModel",
            "_view_count": null,
            "_view_module": "@jupyter-widgets/output",
            "_view_module_version": "1.0.0",
            "_view_name": "OutputView",
            "layout": "IPY_MODEL_fc28e8e861b64a66a66e18e135ff5ded",
            "msg_id": "",
            "outputs": [
              {
                "output_type": "display_data",
                "data": {
                  "text/plain": "LuxWidget(message='<ul><li>Large scatterplots detected: Lux is automatically binning scatterplots to heatmaps.…",
                  "application/vnd.jupyter.widget-view+json": {
                    "version_major": 2,
                    "version_minor": 0,
                    "model_id": "be48bcfb509f4fecac38bda052721477"
                  }
                },
                "metadata": {
                  "application/vnd.jupyter.widget-view+json": {
                    "colab": {
                      "custom_widget_manager": {
                        "url": "https://ssl.gstatic.com/colaboratory-static/widgets/colab-cdn-widget-manager/2b70e893a8ba7c0f/manager.min.js"
                      }
                    }
                  }
                }
              }
            ]
          }
        },
        "fc28e8e861b64a66a66e18e135ff5ded": {
          "model_module": "@jupyter-widgets/base",
          "model_name": "LayoutModel",
          "model_module_version": "1.2.0",
          "state": {
            "_model_module": "@jupyter-widgets/base",
            "_model_module_version": "1.2.0",
            "_model_name": "LayoutModel",
            "_view_count": null,
            "_view_module": "@jupyter-widgets/base",
            "_view_module_version": "1.2.0",
            "_view_name": "LayoutView",
            "align_content": null,
            "align_items": null,
            "align_self": null,
            "border": null,
            "bottom": null,
            "display": null,
            "flex": null,
            "flex_flow": null,
            "grid_area": null,
            "grid_auto_columns": null,
            "grid_auto_flow": null,
            "grid_auto_rows": null,
            "grid_column": null,
            "grid_gap": null,
            "grid_row": null,
            "grid_template_areas": null,
            "grid_template_columns": null,
            "grid_template_rows": null,
            "height": null,
            "justify_content": null,
            "justify_items": null,
            "left": null,
            "margin": null,
            "max_height": null,
            "max_width": null,
            "min_height": null,
            "min_width": null,
            "object_fit": null,
            "object_position": null,
            "order": null,
            "overflow": null,
            "overflow_x": null,
            "overflow_y": null,
            "padding": null,
            "right": null,
            "top": null,
            "visibility": null,
            "width": null
          }
        },
        "be48bcfb509f4fecac38bda052721477": {
          "model_module": "luxwidget",
          "model_name": "LuxModel",
          "model_module_version": "0.1.11",
          "state": {
            "_dom_classes": [],
            "_model_module": "luxwidget",
            "_model_module_version": "0.1.11",
            "_model_name": "LuxModel",
            "_selectedVisIdxs": {},
            "_view_count": null,
            "_view_module": "luxwidget",
            "_view_module_version": "0.1.11",
            "_view_name": "LuxWidgetView",
            "all_column": false,
            "current_vis": {},
            "data": [],
            "deletedIndices": {},
            "intent": "",
            "layout": "IPY_MODEL_a954483da04d4b8e807a088feefa09c4",
            "message": "<ul><li>Large scatterplots detected: Lux is automatically binning scatterplots to heatmaps.</li><li>Lux is visualizing the previous version of the dataframe before you applied <code>head</code>.</li></ul>",
            "plotting_scale": 1,
            "recommendations": [
              {
                "action": "Correlation",
                "description": "Show relationships between two <p class='highlight-descriptor'>quantitative</p> attributes.",
                "long_description": "Correlation searches through all pairwise relationship between two quantitative attributes             (e.g., tax, price). The visualizations are ranked from most to least linearly correlated based on                 their Pearson’s correlation score.",
                "vspec": [
                  {
                    "config": {
                      "view": {
                        "continuousWidth": 400,
                        "continuousHeight": 300
                      },
                      "axis": {
                        "labelColor": "#505050",
                        "labelFont": "Helvetica Neue",
                        "labelFontSize": 9,
                        "labelFontWeight": 400,
                        "titleFont": "Helvetica Neue",
                        "titleFontSize": 11,
                        "titleFontWeight": 500
                      },
                      "legend": {
                        "labelFont": "Helvetica Neue",
                        "labelFontSize": 9,
                        "labelFontWeight": 400,
                        "titleFont": "Helvetica Neue",
                        "titleFontSize": 10,
                        "titleFontWeight": 500
                      },
                      "mark": {
                        "tooltip": {
                          "content": "encoding"
                        }
                      },
                      "scale": {
                        "maxOpacity": 1,
                        "minOpacity": 0.1
                      },
                      "title": {
                        "font": "Helvetica Neue",
                        "fontSize": 13,
                        "fontWeight": 500
                      }
                    },
                    "data": {
                      "name": "data-7b746d562863678838656f8551387f54"
                    },
                    "mark": "rect",
                    "encoding": {
                      "opacity": {
                        "field": "count",
                        "legend": null,
                        "scale": {
                          "type": "log"
                        },
                        "type": "quantitative"
                      },
                      "x": {
                        "axis": {
                          "title": "price"
                        },
                        "bin": {
                          "binned": true
                        },
                        "field": "xBinStart",
                        "type": "quantitative"
                      },
                      "x2": {
                        "field": "xBinEnd"
                      },
                      "y": {
                        "axis": {
                          "title": "tax"
                        },
                        "bin": {
                          "binned": true
                        },
                        "field": "yBinStart",
                        "type": "quantitative"
                      },
                      "y2": {
                        "field": "yBinEnd"
                      }
                    },
                    "height": 150,
                    "selection": {
                      "selector001": {
                        "type": "interval",
                        "bind": "scales",
                        "encodings": [
                          "x",
                          "y"
                        ]
                      }
                    },
                    "width": 160,
                    "$schema": "https://vega.github.io/schema/vega-lite/v4.17.0.json",
                    "datasets": {
                      "data-7b746d562863678838656f8551387f54": [
                        {
                          "count": 4,
                          "xBinStart": 1191.351,
                          "xBinEnd": 5316.225,
                          "yBinStart": 130.5,
                          "yBinEnd": 145
                        },
                        {
                          "count": 1,
                          "xBinStart": 1191.351,
                          "xBinEnd": 5316.225,
                          "yBinStart": 145,
                          "yBinEnd": 159.5
                        },
                        {
                          "count": 1,
                          "xBinStart": 1191.351,
                          "xBinEnd": 5316.225,
                          "yBinStart": 159.5,
                          "yBinEnd": 174
                        },
                        {
                          "count": 2,
                          "xBinStart": 1191.351,
                          "xBinEnd": 5316.225,
                          "yBinStart": 188.5,
                          "yBinEnd": 203
                        },
                        {
                          "count": 1,
                          "xBinStart": 1191.351,
                          "xBinEnd": 5316.225,
                          "yBinStart": 203,
                          "yBinEnd": 217.5
                        },
                        {
                          "count": 3,
                          "xBinStart": 1191.351,
                          "xBinEnd": 5316.225,
                          "yBinStart": 232,
                          "yBinEnd": 246.5
                        },
                        {
                          "count": 1,
                          "xBinStart": 1191.351,
                          "xBinEnd": 5316.225,
                          "yBinStart": 304.5,
                          "yBinEnd": 319
                        },
                        {
                          "count": 5,
                          "xBinStart": 5316.225,
                          "xBinEnd": 9282.45,
                          "yBinStart": -0.58,
                          "yBinEnd": 14.5
                        },
                        {
                          "count": 14,
                          "xBinStart": 5316.225,
                          "xBinEnd": 9282.45,
                          "yBinStart": 14.5,
                          "yBinEnd": 29
                        },
                        {
                          "count": 25,
                          "xBinStart": 5316.225,
                          "xBinEnd": 9282.45,
                          "yBinStart": 29,
                          "yBinEnd": 43.5
                        },
                        {
                          "count": 16,
                          "xBinStart": 5316.225,
                          "xBinEnd": 9282.45,
                          "yBinStart": 116,
                          "yBinEnd": 130.5
                        },
                        {
                          "count": 26,
                          "xBinStart": 5316.225,
                          "xBinEnd": 9282.45,
                          "yBinStart": 130.5,
                          "yBinEnd": 145
                        },
                        {
                          "count": 6,
                          "xBinStart": 5316.225,
                          "xBinEnd": 9282.45,
                          "yBinStart": 145,
                          "yBinEnd": 159.5
                        },
                        {
                          "count": 7,
                          "xBinStart": 5316.225,
                          "xBinEnd": 9282.45,
                          "yBinStart": 159.5,
                          "yBinEnd": 174
                        },
                        {
                          "count": 1,
                          "xBinStart": 5316.225,
                          "xBinEnd": 9282.45,
                          "yBinStart": 174,
                          "yBinEnd": 188.5
                        },
                        {
                          "count": 11,
                          "xBinStart": 5316.225,
                          "xBinEnd": 9282.45,
                          "yBinStart": 188.5,
                          "yBinEnd": 203
                        },
                        {
                          "count": 6,
                          "xBinStart": 5316.225,
                          "xBinEnd": 9282.45,
                          "yBinStart": 203,
                          "yBinEnd": 217.5
                        },
                        {
                          "count": 1,
                          "xBinStart": 5316.225,
                          "xBinEnd": 9282.45,
                          "yBinStart": 217.5,
                          "yBinEnd": 232
                        },
                        {
                          "count": 5,
                          "xBinStart": 5316.225,
                          "xBinEnd": 9282.45,
                          "yBinStart": 232,
                          "yBinEnd": 246.5
                        },
                        {
                          "count": 1,
                          "xBinStart": 5316.225,
                          "xBinEnd": 9282.45,
                          "yBinStart": 261,
                          "yBinEnd": 275.5
                        },
                        {
                          "count": 5,
                          "xBinStart": 5316.225,
                          "xBinEnd": 9282.45,
                          "yBinStart": 290,
                          "yBinEnd": 304.5
                        },
                        {
                          "count": 2,
                          "xBinStart": 5316.225,
                          "xBinEnd": 9282.45,
                          "yBinStart": 536.5,
                          "yBinEnd": 551
                        },
                        {
                          "count": 3,
                          "xBinStart": 5316.225,
                          "xBinEnd": 9282.45,
                          "yBinStart": 551,
                          "yBinEnd": 565.5
                        },
                        {
                          "count": 46,
                          "xBinStart": 9282.45,
                          "xBinEnd": 13248.675,
                          "yBinStart": -0.58,
                          "yBinEnd": 14.5
                        },
                        {
                          "count": 286,
                          "xBinStart": 9282.45,
                          "xBinEnd": 13248.675,
                          "yBinStart": 14.5,
                          "yBinEnd": 29
                        },
                        {
                          "count": 141,
                          "xBinStart": 9282.45,
                          "xBinEnd": 13248.675,
                          "yBinStart": 29,
                          "yBinEnd": 43.5
                        },
                        {
                          "count": 98,
                          "xBinStart": 9282.45,
                          "xBinEnd": 13248.675,
                          "yBinStart": 116,
                          "yBinEnd": 130.5
                        },
                        {
                          "count": 146,
                          "xBinStart": 9282.45,
                          "xBinEnd": 13248.675,
                          "yBinStart": 130.5,
                          "yBinEnd": 145
                        },
                        {
                          "count": 30,
                          "xBinStart": 9282.45,
                          "xBinEnd": 13248.675,
                          "yBinStart": 145,
                          "yBinEnd": 159.5
                        },
                        {
                          "count": 34,
                          "xBinStart": 9282.45,
                          "xBinEnd": 13248.675,
                          "yBinStart": 159.5,
                          "yBinEnd": 174
                        },
                        {
                          "count": 26,
                          "xBinStart": 9282.45,
                          "xBinEnd": 13248.675,
                          "yBinStart": 188.5,
                          "yBinEnd": 203
                        },
                        {
                          "count": 3,
                          "xBinStart": 9282.45,
                          "xBinEnd": 13248.675,
                          "yBinStart": 203,
                          "yBinEnd": 217.5
                        },
                        {
                          "count": 3,
                          "xBinStart": 9282.45,
                          "xBinEnd": 13248.675,
                          "yBinStart": 232,
                          "yBinEnd": 246.5
                        },
                        {
                          "count": 1,
                          "xBinStart": 9282.45,
                          "xBinEnd": 13248.675,
                          "yBinStart": 246.5,
                          "yBinEnd": 261
                        },
                        {
                          "count": 2,
                          "xBinStart": 9282.45,
                          "xBinEnd": 13248.675,
                          "yBinStart": 261,
                          "yBinEnd": 275.5
                        },
                        {
                          "count": 1,
                          "xBinStart": 9282.45,
                          "xBinEnd": 13248.675,
                          "yBinStart": 290,
                          "yBinEnd": 304.5
                        },
                        {
                          "count": 1,
                          "xBinStart": 9282.45,
                          "xBinEnd": 13248.675,
                          "yBinStart": 319,
                          "yBinEnd": 333.5
                        },
                        {
                          "count": 6,
                          "xBinStart": 9282.45,
                          "xBinEnd": 13248.675,
                          "yBinStart": 551,
                          "yBinEnd": 565.5
                        },
                        {
                          "count": 52,
                          "xBinStart": 13248.675,
                          "xBinEnd": 17214.9,
                          "yBinStart": -0.58,
                          "yBinEnd": 14.5
                        },
                        {
                          "count": 657,
                          "xBinStart": 13248.675,
                          "xBinEnd": 17214.9,
                          "yBinStart": 14.5,
                          "yBinEnd": 29
                        },
                        {
                          "count": 367,
                          "xBinStart": 13248.675,
                          "xBinEnd": 17214.9,
                          "yBinStart": 29,
                          "yBinEnd": 43.5
                        },
                        {
                          "count": 2,
                          "xBinStart": 13248.675,
                          "xBinEnd": 17214.9,
                          "yBinStart": 101.5,
                          "yBinEnd": 116
                        },
                        {
                          "count": 350,
                          "xBinStart": 13248.675,
                          "xBinEnd": 17214.9,
                          "yBinStart": 116,
                          "yBinEnd": 130.5
                        },
                        {
                          "count": 439,
                          "xBinStart": 13248.675,
                          "xBinEnd": 17214.9,
                          "yBinStart": 130.5,
                          "yBinEnd": 145
                        },
                        {
                          "count": 144,
                          "xBinStart": 13248.675,
                          "xBinEnd": 17214.9,
                          "yBinStart": 145,
                          "yBinEnd": 159.5
                        },
                        {
                          "count": 31,
                          "xBinStart": 13248.675,
                          "xBinEnd": 17214.9,
                          "yBinStart": 159.5,
                          "yBinEnd": 174
                        },
                        {
                          "count": 37,
                          "xBinStart": 13248.675,
                          "xBinEnd": 17214.9,
                          "yBinStart": 188.5,
                          "yBinEnd": 203
                        },
                        {
                          "count": 7,
                          "xBinStart": 13248.675,
                          "xBinEnd": 17214.9,
                          "yBinStart": 203,
                          "yBinEnd": 217.5
                        },
                        {
                          "count": 2,
                          "xBinStart": 13248.675,
                          "xBinEnd": 17214.9,
                          "yBinStart": 246.5,
                          "yBinEnd": 261
                        },
                        {
                          "count": 9,
                          "xBinStart": 13248.675,
                          "xBinEnd": 17214.9,
                          "yBinStart": 290,
                          "yBinEnd": 304.5
                        },
                        {
                          "count": 2,
                          "xBinStart": 13248.675,
                          "xBinEnd": 17214.9,
                          "yBinStart": 551,
                          "yBinEnd": 565.5
                        },
                        {
                          "count": 63,
                          "xBinStart": 17214.9,
                          "xBinEnd": 21181.125,
                          "yBinStart": -0.58,
                          "yBinEnd": 14.5
                        },
                        {
                          "count": 261,
                          "xBinStart": 17214.9,
                          "xBinEnd": 21181.125,
                          "yBinStart": 14.5,
                          "yBinEnd": 29
                        },
                        {
                          "count": 380,
                          "xBinStart": 17214.9,
                          "xBinEnd": 21181.125,
                          "yBinStart": 29,
                          "yBinEnd": 43.5
                        },
                        {
                          "count": 363,
                          "xBinStart": 17214.9,
                          "xBinEnd": 21181.125,
                          "yBinStart": 116,
                          "yBinEnd": 130.5
                        },
                        {
                          "count": 1278,
                          "xBinStart": 17214.9,
                          "xBinEnd": 21181.125,
                          "yBinStart": 130.5,
                          "yBinEnd": 145
                        },
                        {
                          "count": 206,
                          "xBinStart": 17214.9,
                          "xBinEnd": 21181.125,
                          "yBinStart": 145,
                          "yBinEnd": 159.5
                        },
                        {
                          "count": 88,
                          "xBinStart": 17214.9,
                          "xBinEnd": 21181.125,
                          "yBinStart": 159.5,
                          "yBinEnd": 174
                        },
                        {
                          "count": 67,
                          "xBinStart": 17214.9,
                          "xBinEnd": 21181.125,
                          "yBinStart": 188.5,
                          "yBinEnd": 203
                        },
                        {
                          "count": 11,
                          "xBinStart": 17214.9,
                          "xBinEnd": 21181.125,
                          "yBinStart": 203,
                          "yBinEnd": 217.5
                        },
                        {
                          "count": 4,
                          "xBinStart": 17214.9,
                          "xBinEnd": 21181.125,
                          "yBinStart": 232,
                          "yBinEnd": 246.5
                        },
                        {
                          "count": 1,
                          "xBinStart": 17214.9,
                          "xBinEnd": 21181.125,
                          "yBinStart": 246.5,
                          "yBinEnd": 261
                        },
                        {
                          "count": 1,
                          "xBinStart": 17214.9,
                          "xBinEnd": 21181.125,
                          "yBinStart": 261,
                          "yBinEnd": 275.5
                        },
                        {
                          "count": 5,
                          "xBinStart": 17214.9,
                          "xBinEnd": 21181.125,
                          "yBinStart": 290,
                          "yBinEnd": 304.5
                        },
                        {
                          "count": 1,
                          "xBinStart": 17214.9,
                          "xBinEnd": 21181.125,
                          "yBinStart": 304.5,
                          "yBinEnd": 319
                        },
                        {
                          "count": 1,
                          "xBinStart": 17214.9,
                          "xBinEnd": 21181.125,
                          "yBinStart": 536.5,
                          "yBinEnd": 551
                        },
                        {
                          "count": 1,
                          "xBinStart": 17214.9,
                          "xBinEnd": 21181.125,
                          "yBinStart": 551,
                          "yBinEnd": 565.5
                        },
                        {
                          "count": 2,
                          "xBinStart": 21181.125,
                          "xBinEnd": 25147.35,
                          "yBinStart": -0.58,
                          "yBinEnd": 14.5
                        },
                        {
                          "count": 30,
                          "xBinStart": 21181.125,
                          "xBinEnd": 25147.35,
                          "yBinStart": 14.5,
                          "yBinEnd": 29
                        },
                        {
                          "count": 71,
                          "xBinStart": 21181.125,
                          "xBinEnd": 25147.35,
                          "yBinStart": 29,
                          "yBinEnd": 43.5
                        },
                        {
                          "count": 145,
                          "xBinStart": 21181.125,
                          "xBinEnd": 25147.35,
                          "yBinStart": 116,
                          "yBinEnd": 130.5
                        },
                        {
                          "count": 1574,
                          "xBinStart": 21181.125,
                          "xBinEnd": 25147.35,
                          "yBinStart": 130.5,
                          "yBinEnd": 145
                        },
                        {
                          "count": 154,
                          "xBinStart": 21181.125,
                          "xBinEnd": 25147.35,
                          "yBinStart": 145,
                          "yBinEnd": 159.5
                        },
                        {
                          "count": 71,
                          "xBinStart": 21181.125,
                          "xBinEnd": 25147.35,
                          "yBinStart": 159.5,
                          "yBinEnd": 174
                        },
                        {
                          "count": 44,
                          "xBinStart": 21181.125,
                          "xBinEnd": 25147.35,
                          "yBinStart": 188.5,
                          "yBinEnd": 203
                        },
                        {
                          "count": 10,
                          "xBinStart": 21181.125,
                          "xBinEnd": 25147.35,
                          "yBinStart": 203,
                          "yBinEnd": 217.5
                        },
                        {
                          "count": 7,
                          "xBinStart": 21181.125,
                          "xBinEnd": 25147.35,
                          "yBinStart": 232,
                          "yBinEnd": 246.5
                        },
                        {
                          "count": 17,
                          "xBinStart": 21181.125,
                          "xBinEnd": 25147.35,
                          "yBinStart": 246.5,
                          "yBinEnd": 261
                        },
                        {
                          "count": 3,
                          "xBinStart": 21181.125,
                          "xBinEnd": 25147.35,
                          "yBinStart": 261,
                          "yBinEnd": 275.5
                        },
                        {
                          "count": 7,
                          "xBinStart": 21181.125,
                          "xBinEnd": 25147.35,
                          "yBinStart": 290,
                          "yBinEnd": 304.5
                        },
                        {
                          "count": 2,
                          "xBinStart": 21181.125,
                          "xBinEnd": 25147.35,
                          "yBinStart": 304.5,
                          "yBinEnd": 319
                        },
                        {
                          "count": 2,
                          "xBinStart": 21181.125,
                          "xBinEnd": 25147.35,
                          "yBinStart": 319,
                          "yBinEnd": 333.5
                        },
                        {
                          "count": 2,
                          "xBinStart": 21181.125,
                          "xBinEnd": 25147.35,
                          "yBinStart": 551,
                          "yBinEnd": 565.5
                        },
                        {
                          "count": 6,
                          "xBinStart": 21181.125,
                          "xBinEnd": 25147.35,
                          "yBinStart": 565.5,
                          "yBinEnd": 580
                        },
                        {
                          "count": 1,
                          "xBinStart": 25147.35,
                          "xBinEnd": 29113.575,
                          "yBinStart": -0.58,
                          "yBinEnd": 14.5
                        },
                        {
                          "count": 1,
                          "xBinStart": 25147.35,
                          "xBinEnd": 29113.575,
                          "yBinStart": 14.5,
                          "yBinEnd": 29
                        },
                        {
                          "count": 5,
                          "xBinStart": 25147.35,
                          "xBinEnd": 29113.575,
                          "yBinStart": 29,
                          "yBinEnd": 43.5
                        },
                        {
                          "count": 40,
                          "xBinStart": 25147.35,
                          "xBinEnd": 29113.575,
                          "yBinStart": 116,
                          "yBinEnd": 130.5
                        },
                        {
                          "count": 1529,
                          "xBinStart": 25147.35,
                          "xBinEnd": 29113.575,
                          "yBinStart": 130.5,
                          "yBinEnd": 145
                        },
                        {
                          "count": 111,
                          "xBinStart": 25147.35,
                          "xBinEnd": 29113.575,
                          "yBinStart": 145,
                          "yBinEnd": 159.5
                        },
                        {
                          "count": 11,
                          "xBinStart": 25147.35,
                          "xBinEnd": 29113.575,
                          "yBinStart": 159.5,
                          "yBinEnd": 174
                        },
                        {
                          "count": 69,
                          "xBinStart": 25147.35,
                          "xBinEnd": 29113.575,
                          "yBinStart": 188.5,
                          "yBinEnd": 203
                        },
                        {
                          "count": 15,
                          "xBinStart": 25147.35,
                          "xBinEnd": 29113.575,
                          "yBinStart": 203,
                          "yBinEnd": 217.5
                        },
                        {
                          "count": 13,
                          "xBinStart": 25147.35,
                          "xBinEnd": 29113.575,
                          "yBinStart": 232,
                          "yBinEnd": 246.5
                        },
                        {
                          "count": 49,
                          "xBinStart": 25147.35,
                          "xBinEnd": 29113.575,
                          "yBinStart": 246.5,
                          "yBinEnd": 261
                        },
                        {
                          "count": 10,
                          "xBinStart": 25147.35,
                          "xBinEnd": 29113.575,
                          "yBinStart": 261,
                          "yBinEnd": 275.5
                        },
                        {
                          "count": 1,
                          "xBinStart": 25147.35,
                          "xBinEnd": 29113.575,
                          "yBinStart": 290,
                          "yBinEnd": 304.5
                        },
                        {
                          "count": 1,
                          "xBinStart": 25147.35,
                          "xBinEnd": 29113.575,
                          "yBinStart": 304.5,
                          "yBinEnd": 319
                        },
                        {
                          "count": 7,
                          "xBinStart": 25147.35,
                          "xBinEnd": 29113.575,
                          "yBinStart": 319,
                          "yBinEnd": 333.5
                        },
                        {
                          "count": 2,
                          "xBinStart": 25147.35,
                          "xBinEnd": 29113.575,
                          "yBinStart": 551,
                          "yBinEnd": 565.5
                        },
                        {
                          "count": 4,
                          "xBinStart": 25147.35,
                          "xBinEnd": 29113.575,
                          "yBinStart": 565.5,
                          "yBinEnd": 580
                        },
                        {
                          "count": 959,
                          "xBinStart": 29113.575,
                          "xBinEnd": 33079.8,
                          "yBinStart": 130.5,
                          "yBinEnd": 145
                        },
                        {
                          "count": 75,
                          "xBinStart": 29113.575,
                          "xBinEnd": 33079.8,
                          "yBinStart": 145,
                          "yBinEnd": 159.5
                        },
                        {
                          "count": 8,
                          "xBinStart": 29113.575,
                          "xBinEnd": 33079.8,
                          "yBinStart": 159.5,
                          "yBinEnd": 174
                        },
                        {
                          "count": 17,
                          "xBinStart": 29113.575,
                          "xBinEnd": 33079.8,
                          "yBinStart": 188.5,
                          "yBinEnd": 203
                        },
                        {
                          "count": 7,
                          "xBinStart": 29113.575,
                          "xBinEnd": 33079.8,
                          "yBinStart": 203,
                          "yBinEnd": 217.5
                        },
                        {
                          "count": 15,
                          "xBinStart": 29113.575,
                          "xBinEnd": 33079.8,
                          "yBinStart": 232,
                          "yBinEnd": 246.5
                        },
                        {
                          "count": 32,
                          "xBinStart": 29113.575,
                          "xBinEnd": 33079.8,
                          "yBinStart": 246.5,
                          "yBinEnd": 261
                        },
                        {
                          "count": 8,
                          "xBinStart": 29113.575,
                          "xBinEnd": 33079.8,
                          "yBinStart": 261,
                          "yBinEnd": 275.5
                        },
                        {
                          "count": 20,
                          "xBinStart": 29113.575,
                          "xBinEnd": 33079.8,
                          "yBinStart": 290,
                          "yBinEnd": 304.5
                        },
                        {
                          "count": 6,
                          "xBinStart": 29113.575,
                          "xBinEnd": 33079.8,
                          "yBinStart": 304.5,
                          "yBinEnd": 319
                        },
                        {
                          "count": 11,
                          "xBinStart": 29113.575,
                          "xBinEnd": 33079.8,
                          "yBinStart": 319,
                          "yBinEnd": 333.5
                        },
                        {
                          "count": 2,
                          "xBinStart": 29113.575,
                          "xBinEnd": 33079.8,
                          "yBinStart": 565.5,
                          "yBinEnd": 580
                        },
                        {
                          "count": 2,
                          "xBinStart": 33079.8,
                          "xBinEnd": 37046.025,
                          "yBinStart": 14.5,
                          "yBinEnd": 29
                        },
                        {
                          "count": 492,
                          "xBinStart": 33079.8,
                          "xBinEnd": 37046.025,
                          "yBinStart": 130.5,
                          "yBinEnd": 145
                        },
                        {
                          "count": 33,
                          "xBinStart": 33079.8,
                          "xBinEnd": 37046.025,
                          "yBinStart": 145,
                          "yBinEnd": 159.5
                        },
                        {
                          "count": 2,
                          "xBinStart": 33079.8,
                          "xBinEnd": 37046.025,
                          "yBinStart": 188.5,
                          "yBinEnd": 203
                        },
                        {
                          "count": 1,
                          "xBinStart": 33079.8,
                          "xBinEnd": 37046.025,
                          "yBinStart": 203,
                          "yBinEnd": 217.5
                        },
                        {
                          "count": 10,
                          "xBinStart": 33079.8,
                          "xBinEnd": 37046.025,
                          "yBinStart": 232,
                          "yBinEnd": 246.5
                        },
                        {
                          "count": 8,
                          "xBinStart": 33079.8,
                          "xBinEnd": 37046.025,
                          "yBinStart": 246.5,
                          "yBinEnd": 261
                        },
                        {
                          "count": 1,
                          "xBinStart": 33079.8,
                          "xBinEnd": 37046.025,
                          "yBinStart": 261,
                          "yBinEnd": 275.5
                        },
                        {
                          "count": 26,
                          "xBinStart": 33079.8,
                          "xBinEnd": 37046.025,
                          "yBinStart": 290,
                          "yBinEnd": 304.5
                        },
                        {
                          "count": 12,
                          "xBinStart": 33079.8,
                          "xBinEnd": 37046.025,
                          "yBinStart": 304.5,
                          "yBinEnd": 319
                        },
                        {
                          "count": 8,
                          "xBinStart": 33079.8,
                          "xBinEnd": 37046.025,
                          "yBinStart": 319,
                          "yBinEnd": 333.5
                        },
                        {
                          "count": 1,
                          "xBinStart": 33079.8,
                          "xBinEnd": 37046.025,
                          "yBinStart": 565.5,
                          "yBinEnd": 580
                        },
                        {
                          "count": 335,
                          "xBinStart": 37046.025,
                          "xBinEnd": 41012.25,
                          "yBinStart": 130.5,
                          "yBinEnd": 145
                        },
                        {
                          "count": 28,
                          "xBinStart": 37046.025,
                          "xBinEnd": 41012.25,
                          "yBinStart": 145,
                          "yBinEnd": 159.5
                        },
                        {
                          "count": 6,
                          "xBinStart": 37046.025,
                          "xBinEnd": 41012.25,
                          "yBinStart": 246.5,
                          "yBinEnd": 261
                        },
                        {
                          "count": 3,
                          "xBinStart": 37046.025,
                          "xBinEnd": 41012.25,
                          "yBinStart": 261,
                          "yBinEnd": 275.5
                        },
                        {
                          "count": 11,
                          "xBinStart": 37046.025,
                          "xBinEnd": 41012.25,
                          "yBinStart": 290,
                          "yBinEnd": 304.5
                        },
                        {
                          "count": 8,
                          "xBinStart": 37046.025,
                          "xBinEnd": 41012.25,
                          "yBinStart": 304.5,
                          "yBinEnd": 319
                        },
                        {
                          "count": 3,
                          "xBinStart": 37046.025,
                          "xBinEnd": 41012.25,
                          "yBinStart": 319,
                          "yBinEnd": 333.5
                        },
                        {
                          "count": 239,
                          "xBinStart": 41012.25,
                          "xBinEnd": 44978.475,
                          "yBinStart": 130.5,
                          "yBinEnd": 145
                        },
                        {
                          "count": 17,
                          "xBinStart": 41012.25,
                          "xBinEnd": 44978.475,
                          "yBinStart": 145,
                          "yBinEnd": 159.5
                        },
                        {
                          "count": 1,
                          "xBinStart": 41012.25,
                          "xBinEnd": 44978.475,
                          "yBinStart": 232,
                          "yBinEnd": 246.5
                        },
                        {
                          "count": 4,
                          "xBinStart": 41012.25,
                          "xBinEnd": 44978.475,
                          "yBinStart": 290,
                          "yBinEnd": 304.5
                        },
                        {
                          "count": 2,
                          "xBinStart": 41012.25,
                          "xBinEnd": 44978.475,
                          "yBinStart": 304.5,
                          "yBinEnd": 319
                        },
                        {
                          "count": 2,
                          "xBinStart": 41012.25,
                          "xBinEnd": 44978.475,
                          "yBinStart": 319,
                          "yBinEnd": 333.5
                        },
                        {
                          "count": 2,
                          "xBinStart": 41012.25,
                          "xBinEnd": 44978.475,
                          "yBinStart": 551,
                          "yBinEnd": 565.5
                        },
                        {
                          "count": 1,
                          "xBinStart": 41012.25,
                          "xBinEnd": 44978.475,
                          "yBinStart": 565.5,
                          "yBinEnd": 580
                        },
                        {
                          "count": 227,
                          "xBinStart": 44978.475,
                          "xBinEnd": 48944.7,
                          "yBinStart": 130.5,
                          "yBinEnd": 145
                        },
                        {
                          "count": 9,
                          "xBinStart": 44978.475,
                          "xBinEnd": 48944.7,
                          "yBinStart": 145,
                          "yBinEnd": 159.5
                        },
                        {
                          "count": 2,
                          "xBinStart": 44978.475,
                          "xBinEnd": 48944.7,
                          "yBinStart": 246.5,
                          "yBinEnd": 261
                        },
                        {
                          "count": 2,
                          "xBinStart": 44978.475,
                          "xBinEnd": 48944.7,
                          "yBinStart": 551,
                          "yBinEnd": 565.5
                        },
                        {
                          "count": 4,
                          "xBinStart": 44978.475,
                          "xBinEnd": 48944.7,
                          "yBinStart": 565.5,
                          "yBinEnd": 580
                        },
                        {
                          "count": 142,
                          "xBinStart": 48944.7,
                          "xBinEnd": 52910.925,
                          "yBinStart": 130.5,
                          "yBinEnd": 145
                        },
                        {
                          "count": 9,
                          "xBinStart": 48944.7,
                          "xBinEnd": 52910.925,
                          "yBinStart": 145,
                          "yBinEnd": 159.5
                        },
                        {
                          "count": 1,
                          "xBinStart": 48944.7,
                          "xBinEnd": 52910.925,
                          "yBinStart": 290,
                          "yBinEnd": 304.5
                        },
                        {
                          "count": 2,
                          "xBinStart": 48944.7,
                          "xBinEnd": 52910.925,
                          "yBinStart": 551,
                          "yBinEnd": 565.5
                        },
                        {
                          "count": 96,
                          "xBinStart": 52910.925,
                          "xBinEnd": 56877.15,
                          "yBinStart": 130.5,
                          "yBinEnd": 145
                        },
                        {
                          "count": 11,
                          "xBinStart": 52910.925,
                          "xBinEnd": 56877.15,
                          "yBinStart": 145,
                          "yBinEnd": 159.5
                        },
                        {
                          "count": 1,
                          "xBinStart": 52910.925,
                          "xBinEnd": 56877.15,
                          "yBinStart": 551,
                          "yBinEnd": 565.5
                        },
                        {
                          "count": 1,
                          "xBinStart": 52910.925,
                          "xBinEnd": 56877.15,
                          "yBinStart": 565.5,
                          "yBinEnd": 580
                        },
                        {
                          "count": 69,
                          "xBinStart": 56877.15,
                          "xBinEnd": 60843.375,
                          "yBinStart": 130.5,
                          "yBinEnd": 145
                        },
                        {
                          "count": 5,
                          "xBinStart": 56877.15,
                          "xBinEnd": 60843.375,
                          "yBinStart": 145,
                          "yBinEnd": 159.5
                        },
                        {
                          "count": 2,
                          "xBinStart": 56877.15,
                          "xBinEnd": 60843.375,
                          "yBinStart": 319,
                          "yBinEnd": 333.5
                        },
                        {
                          "count": 2,
                          "xBinStart": 56877.15,
                          "xBinEnd": 60843.375,
                          "yBinStart": 551,
                          "yBinEnd": 565.5
                        },
                        {
                          "count": 27,
                          "xBinStart": 60843.375,
                          "xBinEnd": 64809.6,
                          "yBinStart": 130.5,
                          "yBinEnd": 145
                        },
                        {
                          "count": 1,
                          "xBinStart": 60843.375,
                          "xBinEnd": 64809.6,
                          "yBinStart": 145,
                          "yBinEnd": 159.5
                        },
                        {
                          "count": 1,
                          "xBinStart": 60843.375,
                          "xBinEnd": 64809.6,
                          "yBinStart": 319,
                          "yBinEnd": 333.5
                        },
                        {
                          "count": 37,
                          "xBinStart": 64809.6,
                          "xBinEnd": 68775.825,
                          "yBinStart": 130.5,
                          "yBinEnd": 145
                        },
                        {
                          "count": 2,
                          "xBinStart": 64809.6,
                          "xBinEnd": 68775.825,
                          "yBinStart": 145,
                          "yBinEnd": 159.5
                        },
                        {
                          "count": 16,
                          "xBinStart": 68775.825,
                          "xBinEnd": 72742.05,
                          "yBinStart": 130.5,
                          "yBinEnd": 145
                        },
                        {
                          "count": 1,
                          "xBinStart": 68775.825,
                          "xBinEnd": 72742.05,
                          "yBinStart": 145,
                          "yBinEnd": 159.5
                        },
                        {
                          "count": 1,
                          "xBinStart": 68775.825,
                          "xBinEnd": 72742.05,
                          "yBinStart": 319,
                          "yBinEnd": 333.5
                        },
                        {
                          "count": 13,
                          "xBinStart": 72742.05,
                          "xBinEnd": 76708.275,
                          "yBinStart": 130.5,
                          "yBinEnd": 145
                        },
                        {
                          "count": 3,
                          "xBinStart": 72742.05,
                          "xBinEnd": 76708.275,
                          "yBinStart": 145,
                          "yBinEnd": 159.5
                        },
                        {
                          "count": 1,
                          "xBinStart": 72742.05,
                          "xBinEnd": 76708.275,
                          "yBinStart": 319,
                          "yBinEnd": 333.5
                        },
                        {
                          "count": 16,
                          "xBinStart": 76708.275,
                          "xBinEnd": 80674.5,
                          "yBinStart": 130.5,
                          "yBinEnd": 145
                        },
                        {
                          "count": 1,
                          "xBinStart": 76708.275,
                          "xBinEnd": 80674.5,
                          "yBinStart": 145,
                          "yBinEnd": 159.5
                        },
                        {
                          "count": 1,
                          "xBinStart": 76708.275,
                          "xBinEnd": 80674.5,
                          "yBinStart": 565.5,
                          "yBinEnd": 580
                        },
                        {
                          "count": 3,
                          "xBinStart": 80674.5,
                          "xBinEnd": 84640.725,
                          "yBinStart": 130.5,
                          "yBinEnd": 145
                        },
                        {
                          "count": 4,
                          "xBinStart": 84640.725,
                          "xBinEnd": 88606.95,
                          "yBinStart": 130.5,
                          "yBinEnd": 145
                        },
                        {
                          "count": 7,
                          "xBinStart": 88606.95,
                          "xBinEnd": 92573.175,
                          "yBinStart": 130.5,
                          "yBinEnd": 145
                        },
                        {
                          "count": 3,
                          "xBinStart": 92573.175,
                          "xBinEnd": 96539.4,
                          "yBinStart": 130.5,
                          "yBinEnd": 145
                        },
                        {
                          "count": 3,
                          "xBinStart": 96539.4,
                          "xBinEnd": 100505.625,
                          "yBinStart": 130.5,
                          "yBinEnd": 145
                        },
                        {
                          "count": 1,
                          "xBinStart": 96539.4,
                          "xBinEnd": 100505.625,
                          "yBinStart": 565.5,
                          "yBinEnd": 580
                        },
                        {
                          "count": 1,
                          "xBinStart": 100505.625,
                          "xBinEnd": 104471.85,
                          "yBinStart": 130.5,
                          "yBinEnd": 145
                        },
                        {
                          "count": 1,
                          "xBinStart": 100505.625,
                          "xBinEnd": 104471.85,
                          "yBinStart": 145,
                          "yBinEnd": 159.5
                        },
                        {
                          "count": 1,
                          "xBinStart": 104471.85,
                          "xBinEnd": 108438.075,
                          "yBinStart": 130.5,
                          "yBinEnd": 145
                        },
                        {
                          "count": 2,
                          "xBinStart": 104471.85,
                          "xBinEnd": 108438.075,
                          "yBinStart": 145,
                          "yBinEnd": 159.5
                        },
                        {
                          "count": 3,
                          "xBinStart": 108438.075,
                          "xBinEnd": 112404.3,
                          "yBinStart": 130.5,
                          "yBinEnd": 145
                        },
                        {
                          "count": 1,
                          "xBinStart": 108438.075,
                          "xBinEnd": 112404.3,
                          "yBinStart": 145,
                          "yBinEnd": 159.5
                        },
                        {
                          "count": 2,
                          "xBinStart": 112404.3,
                          "xBinEnd": 116370.525,
                          "yBinStart": 130.5,
                          "yBinEnd": 145
                        },
                        {
                          "count": 1,
                          "xBinStart": 120336.75,
                          "xBinEnd": 124302.975,
                          "yBinStart": 130.5,
                          "yBinEnd": 145
                        },
                        {
                          "count": 4,
                          "xBinStart": 124302.975,
                          "xBinEnd": 128269.2,
                          "yBinStart": 130.5,
                          "yBinEnd": 145
                        },
                        {
                          "count": 1,
                          "xBinStart": 128269.2,
                          "xBinEnd": 132235.425,
                          "yBinStart": 130.5,
                          "yBinEnd": 145
                        },
                        {
                          "count": 2,
                          "xBinStart": 132235.425,
                          "xBinEnd": 136201.65,
                          "yBinStart": 130.5,
                          "yBinEnd": 145
                        },
                        {
                          "count": 1,
                          "xBinStart": 132235.425,
                          "xBinEnd": 136201.65,
                          "yBinStart": 145,
                          "yBinEnd": 159.5
                        },
                        {
                          "count": 4,
                          "xBinStart": 136201.65,
                          "xBinEnd": 140167.875,
                          "yBinStart": 130.5,
                          "yBinEnd": 145
                        },
                        {
                          "count": 1,
                          "xBinStart": 140167.875,
                          "xBinEnd": 144134.1,
                          "yBinStart": 145,
                          "yBinEnd": 159.5
                        },
                        {
                          "count": 1,
                          "xBinStart": 148100.325,
                          "xBinEnd": 152066.55,
                          "yBinStart": 565.5,
                          "yBinEnd": 580
                        },
                        {
                          "count": 1,
                          "xBinStart": 152066.55,
                          "xBinEnd": 156032.775,
                          "yBinStart": 145,
                          "yBinEnd": 159.5
                        },
                        {
                          "count": 1,
                          "xBinStart": 156032.775,
                          "xBinEnd": 159999,
                          "yBinStart": 130.5,
                          "yBinEnd": 145
                        }
                      ]
                    },
                    "vislib": "vegalite"
                  },
                  {
                    "config": {
                      "view": {
                        "continuousWidth": 400,
                        "continuousHeight": 300
                      },
                      "axis": {
                        "labelColor": "#505050",
                        "labelFont": "Helvetica Neue",
                        "labelFontSize": 9,
                        "labelFontWeight": 400,
                        "titleFont": "Helvetica Neue",
                        "titleFontSize": 11,
                        "titleFontWeight": 500
                      },
                      "legend": {
                        "labelFont": "Helvetica Neue",
                        "labelFontSize": 9,
                        "labelFontWeight": 400,
                        "titleFont": "Helvetica Neue",
                        "titleFontSize": 10,
                        "titleFontWeight": 500
                      },
                      "mark": {
                        "tooltip": {
                          "content": "encoding"
                        }
                      },
                      "scale": {
                        "maxOpacity": 1,
                        "minOpacity": 0.1
                      },
                      "title": {
                        "font": "Helvetica Neue",
                        "fontSize": 13,
                        "fontWeight": 500
                      }
                    },
                    "data": {
                      "name": "data-c7e3db04dcd2075c2b24d0a02e20fc60"
                    },
                    "mark": "rect",
                    "encoding": {
                      "opacity": {
                        "field": "count",
                        "legend": null,
                        "scale": {
                          "type": "log"
                        },
                        "type": "quantitative"
                      },
                      "x": {
                        "axis": {
                          "title": "mpg"
                        },
                        "bin": {
                          "binned": true
                        },
                        "field": "xBinStart",
                        "type": "quantitative"
                      },
                      "x2": {
                        "field": "xBinEnd"
                      },
                      "y": {
                        "axis": {
                          "title": "mileage"
                        },
                        "bin": {
                          "binned": true
                        },
                        "field": "yBinStart",
                        "type": "quantitative"
                      },
                      "y2": {
                        "field": "yBinEnd"
                      }
                    },
                    "height": 150,
                    "selection": {
                      "selector002": {
                        "type": "interval",
                        "bind": "scales",
                        "encodings": [
                          "x",
                          "y"
                        ]
                      }
                    },
                    "width": 160,
                    "$schema": "https://vega.github.io/schema/vega-lite/v4.17.0.json",
                    "datasets": {
                      "data-c7e3db04dcd2075c2b24d0a02e20fc60": [
                        {
                          "count": 4,
                          "xBinStart": 0.884,
                          "xBinEnd": 6.505,
                          "yBinStart": -257.999,
                          "yBinEnd": 6475.975
                        },
                        {
                          "count": 1,
                          "xBinStart": 6.505,
                          "xBinEnd": 11.91,
                          "yBinStart": 6475.975,
                          "yBinEnd": 12950.95
                        },
                        {
                          "count": 30,
                          "xBinStart": 17.315,
                          "xBinEnd": 22.72,
                          "yBinStart": -257.999,
                          "yBinEnd": 6475.975
                        },
                        {
                          "count": 3,
                          "xBinStart": 17.315,
                          "xBinEnd": 22.72,
                          "yBinStart": 6475.975,
                          "yBinEnd": 12950.95
                        },
                        {
                          "count": 3,
                          "xBinStart": 17.315,
                          "xBinEnd": 22.72,
                          "yBinStart": 12950.95,
                          "yBinEnd": 19425.925
                        },
                        {
                          "count": 2,
                          "xBinStart": 17.315,
                          "xBinEnd": 22.72,
                          "yBinStart": 32375.875,
                          "yBinEnd": 38850.85
                        },
                        {
                          "count": 86,
                          "xBinStart": 22.72,
                          "xBinEnd": 28.125,
                          "yBinStart": -257.999,
                          "yBinEnd": 6475.975
                        },
                        {
                          "count": 14,
                          "xBinStart": 22.72,
                          "xBinEnd": 28.125,
                          "yBinStart": 6475.975,
                          "yBinEnd": 12950.95
                        },
                        {
                          "count": 6,
                          "xBinStart": 22.72,
                          "xBinEnd": 28.125,
                          "yBinStart": 12950.95,
                          "yBinEnd": 19425.925
                        },
                        {
                          "count": 9,
                          "xBinStart": 22.72,
                          "xBinEnd": 28.125,
                          "yBinStart": 19425.925,
                          "yBinEnd": 25900.9
                        },
                        {
                          "count": 1,
                          "xBinStart": 22.72,
                          "xBinEnd": 28.125,
                          "yBinStart": 25900.9,
                          "yBinEnd": 32375.875
                        },
                        {
                          "count": 3,
                          "xBinStart": 22.72,
                          "xBinEnd": 28.125,
                          "yBinStart": 32375.875,
                          "yBinEnd": 38850.85
                        },
                        {
                          "count": 8,
                          "xBinStart": 22.72,
                          "xBinEnd": 28.125,
                          "yBinStart": 38850.85,
                          "yBinEnd": 45325.825
                        },
                        {
                          "count": 1,
                          "xBinStart": 22.72,
                          "xBinEnd": 28.125,
                          "yBinStart": 45325.825,
                          "yBinEnd": 51800.8
                        },
                        {
                          "count": 3,
                          "xBinStart": 22.72,
                          "xBinEnd": 28.125,
                          "yBinStart": 51800.8,
                          "yBinEnd": 58275.775
                        },
                        {
                          "count": 367,
                          "xBinStart": 28.125,
                          "xBinEnd": 33.53,
                          "yBinStart": -257.999,
                          "yBinEnd": 6475.975
                        },
                        {
                          "count": 175,
                          "xBinStart": 28.125,
                          "xBinEnd": 33.53,
                          "yBinStart": 6475.975,
                          "yBinEnd": 12950.95
                        },
                        {
                          "count": 36,
                          "xBinStart": 28.125,
                          "xBinEnd": 33.53,
                          "yBinStart": 12950.95,
                          "yBinEnd": 19425.925
                        },
                        {
                          "count": 12,
                          "xBinStart": 28.125,
                          "xBinEnd": 33.53,
                          "yBinStart": 19425.925,
                          "yBinEnd": 25900.9
                        },
                        {
                          "count": 7,
                          "xBinStart": 28.125,
                          "xBinEnd": 33.53,
                          "yBinStart": 25900.9,
                          "yBinEnd": 32375.875
                        },
                        {
                          "count": 3,
                          "xBinStart": 28.125,
                          "xBinEnd": 33.53,
                          "yBinStart": 32375.875,
                          "yBinEnd": 38850.85
                        },
                        {
                          "count": 7,
                          "xBinStart": 28.125,
                          "xBinEnd": 33.53,
                          "yBinStart": 38850.85,
                          "yBinEnd": 45325.825
                        },
                        {
                          "count": 3,
                          "xBinStart": 28.125,
                          "xBinEnd": 33.53,
                          "yBinStart": 45325.825,
                          "yBinEnd": 51800.8
                        },
                        {
                          "count": 2,
                          "xBinStart": 28.125,
                          "xBinEnd": 33.53,
                          "yBinStart": 51800.8,
                          "yBinEnd": 58275.775
                        },
                        {
                          "count": 1,
                          "xBinStart": 28.125,
                          "xBinEnd": 33.53,
                          "yBinStart": 58275.775,
                          "yBinEnd": 64750.75
                        },
                        {
                          "count": 1,
                          "xBinStart": 28.125,
                          "xBinEnd": 33.53,
                          "yBinStart": 64750.75,
                          "yBinEnd": 71225.725
                        },
                        {
                          "count": 2,
                          "xBinStart": 28.125,
                          "xBinEnd": 33.53,
                          "yBinStart": 71225.725,
                          "yBinEnd": 77700.7
                        },
                        {
                          "count": 2,
                          "xBinStart": 28.125,
                          "xBinEnd": 33.53,
                          "yBinStart": 77700.7,
                          "yBinEnd": 84175.675
                        },
                        {
                          "count": 1,
                          "xBinStart": 28.125,
                          "xBinEnd": 33.53,
                          "yBinStart": 84175.675,
                          "yBinEnd": 90650.65
                        },
                        {
                          "count": 1,
                          "xBinStart": 28.125,
                          "xBinEnd": 33.53,
                          "yBinStart": 90650.65,
                          "yBinEnd": 97125.625
                        },
                        {
                          "count": 1,
                          "xBinStart": 28.125,
                          "xBinEnd": 33.53,
                          "yBinStart": 103600.6,
                          "yBinEnd": 110075.575
                        },
                        {
                          "count": 1,
                          "xBinStart": 28.125,
                          "xBinEnd": 33.53,
                          "yBinStart": 123025.525,
                          "yBinEnd": 129500.5
                        },
                        {
                          "count": 1,
                          "xBinStart": 28.125,
                          "xBinEnd": 33.53,
                          "yBinStart": 129500.5,
                          "yBinEnd": 135975.475
                        },
                        {
                          "count": 1,
                          "xBinStart": 28.125,
                          "xBinEnd": 33.53,
                          "yBinStart": 155400.4,
                          "yBinEnd": 161875.375
                        },
                        {
                          "count": 1,
                          "xBinStart": 28.125,
                          "xBinEnd": 33.53,
                          "yBinStart": 252525.025,
                          "yBinEnd": 259000
                        },
                        {
                          "count": 334,
                          "xBinStart": 33.53,
                          "xBinEnd": 38.935,
                          "yBinStart": -257.999,
                          "yBinEnd": 6475.975
                        },
                        {
                          "count": 137,
                          "xBinStart": 33.53,
                          "xBinEnd": 38.935,
                          "yBinStart": 6475.975,
                          "yBinEnd": 12950.95
                        },
                        {
                          "count": 73,
                          "xBinStart": 33.53,
                          "xBinEnd": 38.935,
                          "yBinStart": 12950.95,
                          "yBinEnd": 19425.925
                        },
                        {
                          "count": 65,
                          "xBinStart": 33.53,
                          "xBinEnd": 38.935,
                          "yBinStart": 19425.925,
                          "yBinEnd": 25900.9
                        },
                        {
                          "count": 33,
                          "xBinStart": 33.53,
                          "xBinEnd": 38.935,
                          "yBinStart": 25900.9,
                          "yBinEnd": 32375.875
                        },
                        {
                          "count": 22,
                          "xBinStart": 33.53,
                          "xBinEnd": 38.935,
                          "yBinStart": 32375.875,
                          "yBinEnd": 38850.85
                        },
                        {
                          "count": 18,
                          "xBinStart": 33.53,
                          "xBinEnd": 38.935,
                          "yBinStart": 38850.85,
                          "yBinEnd": 45325.825
                        },
                        {
                          "count": 10,
                          "xBinStart": 33.53,
                          "xBinEnd": 38.935,
                          "yBinStart": 45325.825,
                          "yBinEnd": 51800.8
                        },
                        {
                          "count": 4,
                          "xBinStart": 33.53,
                          "xBinEnd": 38.935,
                          "yBinStart": 51800.8,
                          "yBinEnd": 58275.775
                        },
                        {
                          "count": 7,
                          "xBinStart": 33.53,
                          "xBinEnd": 38.935,
                          "yBinStart": 58275.775,
                          "yBinEnd": 64750.75
                        },
                        {
                          "count": 3,
                          "xBinStart": 33.53,
                          "xBinEnd": 38.935,
                          "yBinStart": 64750.75,
                          "yBinEnd": 71225.725
                        },
                        {
                          "count": 1,
                          "xBinStart": 33.53,
                          "xBinEnd": 38.935,
                          "yBinStart": 71225.725,
                          "yBinEnd": 77700.7
                        },
                        {
                          "count": 3,
                          "xBinStart": 33.53,
                          "xBinEnd": 38.935,
                          "yBinStart": 77700.7,
                          "yBinEnd": 84175.675
                        },
                        {
                          "count": 2,
                          "xBinStart": 33.53,
                          "xBinEnd": 38.935,
                          "yBinStart": 84175.675,
                          "yBinEnd": 90650.65
                        },
                        {
                          "count": 1,
                          "xBinStart": 33.53,
                          "xBinEnd": 38.935,
                          "yBinStart": 90650.65,
                          "yBinEnd": 97125.625
                        },
                        {
                          "count": 1,
                          "xBinStart": 33.53,
                          "xBinEnd": 38.935,
                          "yBinStart": 103600.6,
                          "yBinEnd": 110075.575
                        },
                        {
                          "count": 481,
                          "xBinStart": 38.935,
                          "xBinEnd": 44.34,
                          "yBinStart": -257.999,
                          "yBinEnd": 6475.975
                        },
                        {
                          "count": 228,
                          "xBinStart": 38.935,
                          "xBinEnd": 44.34,
                          "yBinStart": 6475.975,
                          "yBinEnd": 12950.95
                        },
                        {
                          "count": 124,
                          "xBinStart": 38.935,
                          "xBinEnd": 44.34,
                          "yBinStart": 12950.95,
                          "yBinEnd": 19425.925
                        },
                        {
                          "count": 74,
                          "xBinStart": 38.935,
                          "xBinEnd": 44.34,
                          "yBinStart": 19425.925,
                          "yBinEnd": 25900.9
                        },
                        {
                          "count": 73,
                          "xBinStart": 38.935,
                          "xBinEnd": 44.34,
                          "yBinStart": 25900.9,
                          "yBinEnd": 32375.875
                        },
                        {
                          "count": 49,
                          "xBinStart": 38.935,
                          "xBinEnd": 44.34,
                          "yBinStart": 32375.875,
                          "yBinEnd": 38850.85
                        },
                        {
                          "count": 48,
                          "xBinStart": 38.935,
                          "xBinEnd": 44.34,
                          "yBinStart": 38850.85,
                          "yBinEnd": 45325.825
                        },
                        {
                          "count": 22,
                          "xBinStart": 38.935,
                          "xBinEnd": 44.34,
                          "yBinStart": 45325.825,
                          "yBinEnd": 51800.8
                        },
                        {
                          "count": 11,
                          "xBinStart": 38.935,
                          "xBinEnd": 44.34,
                          "yBinStart": 51800.8,
                          "yBinEnd": 58275.775
                        },
                        {
                          "count": 12,
                          "xBinStart": 38.935,
                          "xBinEnd": 44.34,
                          "yBinStart": 58275.775,
                          "yBinEnd": 64750.75
                        },
                        {
                          "count": 10,
                          "xBinStart": 38.935,
                          "xBinEnd": 44.34,
                          "yBinStart": 64750.75,
                          "yBinEnd": 71225.725
                        },
                        {
                          "count": 7,
                          "xBinStart": 38.935,
                          "xBinEnd": 44.34,
                          "yBinStart": 71225.725,
                          "yBinEnd": 77700.7
                        },
                        {
                          "count": 3,
                          "xBinStart": 38.935,
                          "xBinEnd": 44.34,
                          "yBinStart": 77700.7,
                          "yBinEnd": 84175.675
                        },
                        {
                          "count": 2,
                          "xBinStart": 38.935,
                          "xBinEnd": 44.34,
                          "yBinStart": 84175.675,
                          "yBinEnd": 90650.65
                        },
                        {
                          "count": 1,
                          "xBinStart": 38.935,
                          "xBinEnd": 44.34,
                          "yBinStart": 90650.65,
                          "yBinEnd": 97125.625
                        },
                        {
                          "count": 1,
                          "xBinStart": 38.935,
                          "xBinEnd": 44.34,
                          "yBinStart": 97125.625,
                          "yBinEnd": 103600.6
                        },
                        {
                          "count": 2,
                          "xBinStart": 38.935,
                          "xBinEnd": 44.34,
                          "yBinStart": 103600.6,
                          "yBinEnd": 110075.575
                        },
                        {
                          "count": 2,
                          "xBinStart": 38.935,
                          "xBinEnd": 44.34,
                          "yBinStart": 116550.55,
                          "yBinEnd": 123025.525
                        },
                        {
                          "count": 1,
                          "xBinStart": 38.935,
                          "xBinEnd": 44.34,
                          "yBinStart": 142450.45,
                          "yBinEnd": 148925.425
                        },
                        {
                          "count": 685,
                          "xBinStart": 44.34,
                          "xBinEnd": 49.745,
                          "yBinStart": -257.999,
                          "yBinEnd": 6475.975
                        },
                        {
                          "count": 385,
                          "xBinStart": 44.34,
                          "xBinEnd": 49.745,
                          "yBinStart": 6475.975,
                          "yBinEnd": 12950.95
                        },
                        {
                          "count": 335,
                          "xBinStart": 44.34,
                          "xBinEnd": 49.745,
                          "yBinStart": 12950.95,
                          "yBinEnd": 19425.925
                        },
                        {
                          "count": 149,
                          "xBinStart": 44.34,
                          "xBinEnd": 49.745,
                          "yBinStart": 19425.925,
                          "yBinEnd": 25900.9
                        },
                        {
                          "count": 91,
                          "xBinStart": 44.34,
                          "xBinEnd": 49.745,
                          "yBinStart": 25900.9,
                          "yBinEnd": 32375.875
                        },
                        {
                          "count": 73,
                          "xBinStart": 44.34,
                          "xBinEnd": 49.745,
                          "yBinStart": 32375.875,
                          "yBinEnd": 38850.85
                        },
                        {
                          "count": 44,
                          "xBinStart": 44.34,
                          "xBinEnd": 49.745,
                          "yBinStart": 38850.85,
                          "yBinEnd": 45325.825
                        },
                        {
                          "count": 35,
                          "xBinStart": 44.34,
                          "xBinEnd": 49.745,
                          "yBinStart": 45325.825,
                          "yBinEnd": 51800.8
                        },
                        {
                          "count": 25,
                          "xBinStart": 44.34,
                          "xBinEnd": 49.745,
                          "yBinStart": 51800.8,
                          "yBinEnd": 58275.775
                        },
                        {
                          "count": 13,
                          "xBinStart": 44.34,
                          "xBinEnd": 49.745,
                          "yBinStart": 58275.775,
                          "yBinEnd": 64750.75
                        },
                        {
                          "count": 13,
                          "xBinStart": 44.34,
                          "xBinEnd": 49.745,
                          "yBinStart": 64750.75,
                          "yBinEnd": 71225.725
                        },
                        {
                          "count": 9,
                          "xBinStart": 44.34,
                          "xBinEnd": 49.745,
                          "yBinStart": 71225.725,
                          "yBinEnd": 77700.7
                        },
                        {
                          "count": 4,
                          "xBinStart": 44.34,
                          "xBinEnd": 49.745,
                          "yBinStart": 77700.7,
                          "yBinEnd": 84175.675
                        },
                        {
                          "count": 7,
                          "xBinStart": 44.34,
                          "xBinEnd": 49.745,
                          "yBinStart": 84175.675,
                          "yBinEnd": 90650.65
                        },
                        {
                          "count": 2,
                          "xBinStart": 44.34,
                          "xBinEnd": 49.745,
                          "yBinStart": 90650.65,
                          "yBinEnd": 97125.625
                        },
                        {
                          "count": 3,
                          "xBinStart": 44.34,
                          "xBinEnd": 49.745,
                          "yBinStart": 97125.625,
                          "yBinEnd": 103600.6
                        },
                        {
                          "count": 1,
                          "xBinStart": 44.34,
                          "xBinEnd": 49.745,
                          "yBinStart": 103600.6,
                          "yBinEnd": 110075.575
                        },
                        {
                          "count": 1,
                          "xBinStart": 44.34,
                          "xBinEnd": 49.745,
                          "yBinStart": 116550.55,
                          "yBinEnd": 123025.525
                        },
                        {
                          "count": 322,
                          "xBinStart": 49.745,
                          "xBinEnd": 55.15,
                          "yBinStart": -257.999,
                          "yBinEnd": 6475.975
                        },
                        {
                          "count": 291,
                          "xBinStart": 49.745,
                          "xBinEnd": 55.15,
                          "yBinStart": 6475.975,
                          "yBinEnd": 12950.95
                        },
                        {
                          "count": 214,
                          "xBinStart": 49.745,
                          "xBinEnd": 55.15,
                          "yBinStart": 12950.95,
                          "yBinEnd": 19425.925
                        },
                        {
                          "count": 158,
                          "xBinStart": 49.745,
                          "xBinEnd": 55.15,
                          "yBinStart": 19425.925,
                          "yBinEnd": 25900.9
                        },
                        {
                          "count": 121,
                          "xBinStart": 49.745,
                          "xBinEnd": 55.15,
                          "yBinStart": 25900.9,
                          "yBinEnd": 32375.875
                        },
                        {
                          "count": 84,
                          "xBinStart": 49.745,
                          "xBinEnd": 55.15,
                          "yBinStart": 32375.875,
                          "yBinEnd": 38850.85
                        },
                        {
                          "count": 57,
                          "xBinStart": 49.745,
                          "xBinEnd": 55.15,
                          "yBinStart": 38850.85,
                          "yBinEnd": 45325.825
                        },
                        {
                          "count": 53,
                          "xBinStart": 49.745,
                          "xBinEnd": 55.15,
                          "yBinStart": 45325.825,
                          "yBinEnd": 51800.8
                        },
                        {
                          "count": 33,
                          "xBinStart": 49.745,
                          "xBinEnd": 55.15,
                          "yBinStart": 51800.8,
                          "yBinEnd": 58275.775
                        },
                        {
                          "count": 23,
                          "xBinStart": 49.745,
                          "xBinEnd": 55.15,
                          "yBinStart": 58275.775,
                          "yBinEnd": 64750.75
                        },
                        {
                          "count": 19,
                          "xBinStart": 49.745,
                          "xBinEnd": 55.15,
                          "yBinStart": 64750.75,
                          "yBinEnd": 71225.725
                        },
                        {
                          "count": 16,
                          "xBinStart": 49.745,
                          "xBinEnd": 55.15,
                          "yBinStart": 71225.725,
                          "yBinEnd": 77700.7
                        },
                        {
                          "count": 11,
                          "xBinStart": 49.745,
                          "xBinEnd": 55.15,
                          "yBinStart": 77700.7,
                          "yBinEnd": 84175.675
                        },
                        {
                          "count": 7,
                          "xBinStart": 49.745,
                          "xBinEnd": 55.15,
                          "yBinStart": 84175.675,
                          "yBinEnd": 90650.65
                        },
                        {
                          "count": 4,
                          "xBinStart": 49.745,
                          "xBinEnd": 55.15,
                          "yBinStart": 90650.65,
                          "yBinEnd": 97125.625
                        },
                        {
                          "count": 1,
                          "xBinStart": 49.745,
                          "xBinEnd": 55.15,
                          "yBinStart": 97125.625,
                          "yBinEnd": 103600.6
                        },
                        {
                          "count": 3,
                          "xBinStart": 49.745,
                          "xBinEnd": 55.15,
                          "yBinStart": 110075.575,
                          "yBinEnd": 116550.55
                        },
                        {
                          "count": 2,
                          "xBinStart": 49.745,
                          "xBinEnd": 55.15,
                          "yBinStart": 123025.525,
                          "yBinEnd": 129500.5
                        },
                        {
                          "count": 1,
                          "xBinStart": 49.745,
                          "xBinEnd": 55.15,
                          "yBinStart": 135975.475,
                          "yBinEnd": 142450.45
                        },
                        {
                          "count": 1,
                          "xBinStart": 49.745,
                          "xBinEnd": 55.15,
                          "yBinStart": 168350.35,
                          "yBinEnd": 174825.325
                        },
                        {
                          "count": 524,
                          "xBinStart": 55.15,
                          "xBinEnd": 60.555,
                          "yBinStart": -257.999,
                          "yBinEnd": 6475.975
                        },
                        {
                          "count": 374,
                          "xBinStart": 55.15,
                          "xBinEnd": 60.555,
                          "yBinStart": 6475.975,
                          "yBinEnd": 12950.95
                        },
                        {
                          "count": 229,
                          "xBinStart": 55.15,
                          "xBinEnd": 60.555,
                          "yBinStart": 12950.95,
                          "yBinEnd": 19425.925
                        },
                        {
                          "count": 215,
                          "xBinStart": 55.15,
                          "xBinEnd": 60.555,
                          "yBinStart": 19425.925,
                          "yBinEnd": 25900.9
                        },
                        {
                          "count": 218,
                          "xBinStart": 55.15,
                          "xBinEnd": 60.555,
                          "yBinStart": 25900.9,
                          "yBinEnd": 32375.875
                        },
                        {
                          "count": 168,
                          "xBinStart": 55.15,
                          "xBinEnd": 60.555,
                          "yBinStart": 32375.875,
                          "yBinEnd": 38850.85
                        },
                        {
                          "count": 141,
                          "xBinStart": 55.15,
                          "xBinEnd": 60.555,
                          "yBinStart": 38850.85,
                          "yBinEnd": 45325.825
                        },
                        {
                          "count": 93,
                          "xBinStart": 55.15,
                          "xBinEnd": 60.555,
                          "yBinStart": 45325.825,
                          "yBinEnd": 51800.8
                        },
                        {
                          "count": 72,
                          "xBinStart": 55.15,
                          "xBinEnd": 60.555,
                          "yBinStart": 51800.8,
                          "yBinEnd": 58275.775
                        },
                        {
                          "count": 47,
                          "xBinStart": 55.15,
                          "xBinEnd": 60.555,
                          "yBinStart": 58275.775,
                          "yBinEnd": 64750.75
                        },
                        {
                          "count": 35,
                          "xBinStart": 55.15,
                          "xBinEnd": 60.555,
                          "yBinStart": 64750.75,
                          "yBinEnd": 71225.725
                        },
                        {
                          "count": 15,
                          "xBinStart": 55.15,
                          "xBinEnd": 60.555,
                          "yBinStart": 71225.725,
                          "yBinEnd": 77700.7
                        },
                        {
                          "count": 14,
                          "xBinStart": 55.15,
                          "xBinEnd": 60.555,
                          "yBinStart": 77700.7,
                          "yBinEnd": 84175.675
                        },
                        {
                          "count": 6,
                          "xBinStart": 55.15,
                          "xBinEnd": 60.555,
                          "yBinStart": 84175.675,
                          "yBinEnd": 90650.65
                        },
                        {
                          "count": 5,
                          "xBinStart": 55.15,
                          "xBinEnd": 60.555,
                          "yBinStart": 90650.65,
                          "yBinEnd": 97125.625
                        },
                        {
                          "count": 3,
                          "xBinStart": 55.15,
                          "xBinEnd": 60.555,
                          "yBinStart": 97125.625,
                          "yBinEnd": 103600.6
                        },
                        {
                          "count": 1,
                          "xBinStart": 55.15,
                          "xBinEnd": 60.555,
                          "yBinStart": 103600.6,
                          "yBinEnd": 110075.575
                        },
                        {
                          "count": 1,
                          "xBinStart": 55.15,
                          "xBinEnd": 60.555,
                          "yBinStart": 123025.525,
                          "yBinEnd": 129500.5
                        },
                        {
                          "count": 1,
                          "xBinStart": 55.15,
                          "xBinEnd": 60.555,
                          "yBinStart": 129500.5,
                          "yBinEnd": 135975.475
                        },
                        {
                          "count": 2,
                          "xBinStart": 55.15,
                          "xBinEnd": 60.555,
                          "yBinStart": 148925.425,
                          "yBinEnd": 155400.4
                        },
                        {
                          "count": 381,
                          "xBinStart": 60.555,
                          "xBinEnd": 65.96,
                          "yBinStart": -257.999,
                          "yBinEnd": 6475.975
                        },
                        {
                          "count": 251,
                          "xBinStart": 60.555,
                          "xBinEnd": 65.96,
                          "yBinStart": 6475.975,
                          "yBinEnd": 12950.95
                        },
                        {
                          "count": 379,
                          "xBinStart": 60.555,
                          "xBinEnd": 65.96,
                          "yBinStart": 12950.95,
                          "yBinEnd": 19425.925
                        },
                        {
                          "count": 314,
                          "xBinStart": 60.555,
                          "xBinEnd": 65.96,
                          "yBinStart": 19425.925,
                          "yBinEnd": 25900.9
                        },
                        {
                          "count": 283,
                          "xBinStart": 60.555,
                          "xBinEnd": 65.96,
                          "yBinStart": 25900.9,
                          "yBinEnd": 32375.875
                        },
                        {
                          "count": 239,
                          "xBinStart": 60.555,
                          "xBinEnd": 65.96,
                          "yBinStart": 32375.875,
                          "yBinEnd": 38850.85
                        },
                        {
                          "count": 187,
                          "xBinStart": 60.555,
                          "xBinEnd": 65.96,
                          "yBinStart": 38850.85,
                          "yBinEnd": 45325.825
                        },
                        {
                          "count": 123,
                          "xBinStart": 60.555,
                          "xBinEnd": 65.96,
                          "yBinStart": 45325.825,
                          "yBinEnd": 51800.8
                        },
                        {
                          "count": 88,
                          "xBinStart": 60.555,
                          "xBinEnd": 65.96,
                          "yBinStart": 51800.8,
                          "yBinEnd": 58275.775
                        },
                        {
                          "count": 61,
                          "xBinStart": 60.555,
                          "xBinEnd": 65.96,
                          "yBinStart": 58275.775,
                          "yBinEnd": 64750.75
                        },
                        {
                          "count": 39,
                          "xBinStart": 60.555,
                          "xBinEnd": 65.96,
                          "yBinStart": 64750.75,
                          "yBinEnd": 71225.725
                        },
                        {
                          "count": 24,
                          "xBinStart": 60.555,
                          "xBinEnd": 65.96,
                          "yBinStart": 71225.725,
                          "yBinEnd": 77700.7
                        },
                        {
                          "count": 26,
                          "xBinStart": 60.555,
                          "xBinEnd": 65.96,
                          "yBinStart": 77700.7,
                          "yBinEnd": 84175.675
                        },
                        {
                          "count": 17,
                          "xBinStart": 60.555,
                          "xBinEnd": 65.96,
                          "yBinStart": 84175.675,
                          "yBinEnd": 90650.65
                        },
                        {
                          "count": 9,
                          "xBinStart": 60.555,
                          "xBinEnd": 65.96,
                          "yBinStart": 90650.65,
                          "yBinEnd": 97125.625
                        },
                        {
                          "count": 9,
                          "xBinStart": 60.555,
                          "xBinEnd": 65.96,
                          "yBinStart": 97125.625,
                          "yBinEnd": 103600.6
                        },
                        {
                          "count": 3,
                          "xBinStart": 60.555,
                          "xBinEnd": 65.96,
                          "yBinStart": 103600.6,
                          "yBinEnd": 110075.575
                        },
                        {
                          "count": 3,
                          "xBinStart": 60.555,
                          "xBinEnd": 65.96,
                          "yBinStart": 110075.575,
                          "yBinEnd": 116550.55
                        },
                        {
                          "count": 3,
                          "xBinStart": 60.555,
                          "xBinEnd": 65.96,
                          "yBinStart": 116550.55,
                          "yBinEnd": 123025.525
                        },
                        {
                          "count": 3,
                          "xBinStart": 60.555,
                          "xBinEnd": 65.96,
                          "yBinStart": 123025.525,
                          "yBinEnd": 129500.5
                        },
                        {
                          "count": 2,
                          "xBinStart": 60.555,
                          "xBinEnd": 65.96,
                          "yBinStart": 135975.475,
                          "yBinEnd": 142450.45
                        },
                        {
                          "count": 1,
                          "xBinStart": 60.555,
                          "xBinEnd": 65.96,
                          "yBinStart": 161875.375,
                          "yBinEnd": 168350.35
                        },
                        {
                          "count": 134,
                          "xBinStart": 65.96,
                          "xBinEnd": 71.365,
                          "yBinStart": -257.999,
                          "yBinEnd": 6475.975
                        },
                        {
                          "count": 259,
                          "xBinStart": 65.96,
                          "xBinEnd": 71.365,
                          "yBinStart": 6475.975,
                          "yBinEnd": 12950.95
                        },
                        {
                          "count": 275,
                          "xBinStart": 65.96,
                          "xBinEnd": 71.365,
                          "yBinStart": 12950.95,
                          "yBinEnd": 19425.925
                        },
                        {
                          "count": 218,
                          "xBinStart": 65.96,
                          "xBinEnd": 71.365,
                          "yBinStart": 19425.925,
                          "yBinEnd": 25900.9
                        },
                        {
                          "count": 185,
                          "xBinStart": 65.96,
                          "xBinEnd": 71.365,
                          "yBinStart": 25900.9,
                          "yBinEnd": 32375.875
                        },
                        {
                          "count": 141,
                          "xBinStart": 65.96,
                          "xBinEnd": 71.365,
                          "yBinStart": 32375.875,
                          "yBinEnd": 38850.85
                        },
                        {
                          "count": 106,
                          "xBinStart": 65.96,
                          "xBinEnd": 71.365,
                          "yBinStart": 38850.85,
                          "yBinEnd": 45325.825
                        },
                        {
                          "count": 60,
                          "xBinStart": 65.96,
                          "xBinEnd": 71.365,
                          "yBinStart": 45325.825,
                          "yBinEnd": 51800.8
                        },
                        {
                          "count": 57,
                          "xBinStart": 65.96,
                          "xBinEnd": 71.365,
                          "yBinStart": 51800.8,
                          "yBinEnd": 58275.775
                        },
                        {
                          "count": 28,
                          "xBinStart": 65.96,
                          "xBinEnd": 71.365,
                          "yBinStart": 58275.775,
                          "yBinEnd": 64750.75
                        },
                        {
                          "count": 19,
                          "xBinStart": 65.96,
                          "xBinEnd": 71.365,
                          "yBinStart": 64750.75,
                          "yBinEnd": 71225.725
                        },
                        {
                          "count": 10,
                          "xBinStart": 65.96,
                          "xBinEnd": 71.365,
                          "yBinStart": 71225.725,
                          "yBinEnd": 77700.7
                        },
                        {
                          "count": 17,
                          "xBinStart": 65.96,
                          "xBinEnd": 71.365,
                          "yBinStart": 77700.7,
                          "yBinEnd": 84175.675
                        },
                        {
                          "count": 2,
                          "xBinStart": 65.96,
                          "xBinEnd": 71.365,
                          "yBinStart": 84175.675,
                          "yBinEnd": 90650.65
                        },
                        {
                          "count": 9,
                          "xBinStart": 65.96,
                          "xBinEnd": 71.365,
                          "yBinStart": 90650.65,
                          "yBinEnd": 97125.625
                        },
                        {
                          "count": 3,
                          "xBinStart": 65.96,
                          "xBinEnd": 71.365,
                          "yBinStart": 97125.625,
                          "yBinEnd": 103600.6
                        },
                        {
                          "count": 3,
                          "xBinStart": 65.96,
                          "xBinEnd": 71.365,
                          "yBinStart": 103600.6,
                          "yBinEnd": 110075.575
                        },
                        {
                          "count": 5,
                          "xBinStart": 65.96,
                          "xBinEnd": 71.365,
                          "yBinStart": 110075.575,
                          "yBinEnd": 116550.55
                        },
                        {
                          "count": 4,
                          "xBinStart": 65.96,
                          "xBinEnd": 71.365,
                          "yBinStart": 123025.525,
                          "yBinEnd": 129500.5
                        },
                        {
                          "count": 1,
                          "xBinStart": 65.96,
                          "xBinEnd": 71.365,
                          "yBinStart": 135975.475,
                          "yBinEnd": 142450.45
                        },
                        {
                          "count": 1,
                          "xBinStart": 65.96,
                          "xBinEnd": 71.365,
                          "yBinStart": 148925.425,
                          "yBinEnd": 155400.4
                        },
                        {
                          "count": 1,
                          "xBinStart": 65.96,
                          "xBinEnd": 71.365,
                          "yBinStart": 239575.075,
                          "yBinEnd": 246050.05
                        },
                        {
                          "count": 21,
                          "xBinStart": 71.365,
                          "xBinEnd": 76.77,
                          "yBinStart": -257.999,
                          "yBinEnd": 6475.975
                        },
                        {
                          "count": 86,
                          "xBinStart": 71.365,
                          "xBinEnd": 76.77,
                          "yBinStart": 6475.975,
                          "yBinEnd": 12950.95
                        },
                        {
                          "count": 170,
                          "xBinStart": 71.365,
                          "xBinEnd": 76.77,
                          "yBinStart": 12950.95,
                          "yBinEnd": 19425.925
                        },
                        {
                          "count": 108,
                          "xBinStart": 71.365,
                          "xBinEnd": 76.77,
                          "yBinStart": 19425.925,
                          "yBinEnd": 25900.9
                        },
                        {
                          "count": 96,
                          "xBinStart": 71.365,
                          "xBinEnd": 76.77,
                          "yBinStart": 25900.9,
                          "yBinEnd": 32375.875
                        },
                        {
                          "count": 61,
                          "xBinStart": 71.365,
                          "xBinEnd": 76.77,
                          "yBinStart": 32375.875,
                          "yBinEnd": 38850.85
                        },
                        {
                          "count": 66,
                          "xBinStart": 71.365,
                          "xBinEnd": 76.77,
                          "yBinStart": 38850.85,
                          "yBinEnd": 45325.825
                        },
                        {
                          "count": 38,
                          "xBinStart": 71.365,
                          "xBinEnd": 76.77,
                          "yBinStart": 45325.825,
                          "yBinEnd": 51800.8
                        },
                        {
                          "count": 18,
                          "xBinStart": 71.365,
                          "xBinEnd": 76.77,
                          "yBinStart": 51800.8,
                          "yBinEnd": 58275.775
                        },
                        {
                          "count": 13,
                          "xBinStart": 71.365,
                          "xBinEnd": 76.77,
                          "yBinStart": 58275.775,
                          "yBinEnd": 64750.75
                        },
                        {
                          "count": 17,
                          "xBinStart": 71.365,
                          "xBinEnd": 76.77,
                          "yBinStart": 64750.75,
                          "yBinEnd": 71225.725
                        },
                        {
                          "count": 7,
                          "xBinStart": 71.365,
                          "xBinEnd": 76.77,
                          "yBinStart": 71225.725,
                          "yBinEnd": 77700.7
                        },
                        {
                          "count": 5,
                          "xBinStart": 71.365,
                          "xBinEnd": 76.77,
                          "yBinStart": 77700.7,
                          "yBinEnd": 84175.675
                        },
                        {
                          "count": 3,
                          "xBinStart": 71.365,
                          "xBinEnd": 76.77,
                          "yBinStart": 84175.675,
                          "yBinEnd": 90650.65
                        },
                        {
                          "count": 1,
                          "xBinStart": 71.365,
                          "xBinEnd": 76.77,
                          "yBinStart": 90650.65,
                          "yBinEnd": 97125.625
                        },
                        {
                          "count": 3,
                          "xBinStart": 71.365,
                          "xBinEnd": 76.77,
                          "yBinStart": 103600.6,
                          "yBinEnd": 110075.575
                        },
                        {
                          "count": 1,
                          "xBinStart": 71.365,
                          "xBinEnd": 76.77,
                          "yBinStart": 129500.5,
                          "yBinEnd": 135975.475
                        },
                        {
                          "count": 1,
                          "xBinStart": 71.365,
                          "xBinEnd": 76.77,
                          "yBinStart": 135975.475,
                          "yBinEnd": 142450.45
                        },
                        {
                          "count": 1,
                          "xBinStart": 76.77,
                          "xBinEnd": 82.175,
                          "yBinStart": 6475.975,
                          "yBinEnd": 12950.95
                        },
                        {
                          "count": 6,
                          "xBinStart": 76.77,
                          "xBinEnd": 82.175,
                          "yBinStart": 12950.95,
                          "yBinEnd": 19425.925
                        },
                        {
                          "count": 6,
                          "xBinStart": 76.77,
                          "xBinEnd": 82.175,
                          "yBinStart": 19425.925,
                          "yBinEnd": 25900.9
                        },
                        {
                          "count": 4,
                          "xBinStart": 76.77,
                          "xBinEnd": 82.175,
                          "yBinStart": 25900.9,
                          "yBinEnd": 32375.875
                        },
                        {
                          "count": 5,
                          "xBinStart": 76.77,
                          "xBinEnd": 82.175,
                          "yBinStart": 32375.875,
                          "yBinEnd": 38850.85
                        },
                        {
                          "count": 10,
                          "xBinStart": 76.77,
                          "xBinEnd": 82.175,
                          "yBinStart": 38850.85,
                          "yBinEnd": 45325.825
                        },
                        {
                          "count": 4,
                          "xBinStart": 76.77,
                          "xBinEnd": 82.175,
                          "yBinStart": 45325.825,
                          "yBinEnd": 51800.8
                        },
                        {
                          "count": 7,
                          "xBinStart": 76.77,
                          "xBinEnd": 82.175,
                          "yBinStart": 51800.8,
                          "yBinEnd": 58275.775
                        },
                        {
                          "count": 1,
                          "xBinStart": 76.77,
                          "xBinEnd": 82.175,
                          "yBinStart": 58275.775,
                          "yBinEnd": 64750.75
                        },
                        {
                          "count": 1,
                          "xBinStart": 76.77,
                          "xBinEnd": 82.175,
                          "yBinStart": 64750.75,
                          "yBinEnd": 71225.725
                        },
                        {
                          "count": 1,
                          "xBinStart": 76.77,
                          "xBinEnd": 82.175,
                          "yBinStart": 71225.725,
                          "yBinEnd": 77700.7
                        },
                        {
                          "count": 2,
                          "xBinStart": 76.77,
                          "xBinEnd": 82.175,
                          "yBinStart": 77700.7,
                          "yBinEnd": 84175.675
                        },
                        {
                          "count": 1,
                          "xBinStart": 76.77,
                          "xBinEnd": 82.175,
                          "yBinStart": 110075.575,
                          "yBinEnd": 116550.55
                        },
                        {
                          "count": 1,
                          "xBinStart": 98.39,
                          "xBinEnd": 103.795,
                          "yBinStart": -257.999,
                          "yBinEnd": 6475.975
                        },
                        {
                          "count": 1,
                          "xBinStart": 98.39,
                          "xBinEnd": 103.795,
                          "yBinStart": 6475.975,
                          "yBinEnd": 12950.95
                        },
                        {
                          "count": 1,
                          "xBinStart": 98.39,
                          "xBinEnd": 103.795,
                          "yBinStart": 32375.875,
                          "yBinEnd": 38850.85
                        },
                        {
                          "count": 1,
                          "xBinStart": 120.01,
                          "xBinEnd": 125.415,
                          "yBinStart": -257.999,
                          "yBinEnd": 6475.975
                        },
                        {
                          "count": 1,
                          "xBinStart": 120.01,
                          "xBinEnd": 125.415,
                          "yBinStart": 19425.925,
                          "yBinEnd": 25900.9
                        },
                        {
                          "count": 1,
                          "xBinStart": 120.01,
                          "xBinEnd": 125.415,
                          "yBinStart": 58275.775,
                          "yBinEnd": 64750.75
                        },
                        {
                          "count": 1,
                          "xBinStart": 120.01,
                          "xBinEnd": 125.415,
                          "yBinStart": 84175.675,
                          "yBinEnd": 90650.65
                        },
                        {
                          "count": 3,
                          "xBinStart": 130.82,
                          "xBinEnd": 136.225,
                          "yBinStart": -257.999,
                          "yBinEnd": 6475.975
                        },
                        {
                          "count": 3,
                          "xBinStart": 130.82,
                          "xBinEnd": 136.225,
                          "yBinStart": 6475.975,
                          "yBinEnd": 12950.95
                        },
                        {
                          "count": 7,
                          "xBinStart": 130.82,
                          "xBinEnd": 136.225,
                          "yBinStart": 12950.95,
                          "yBinEnd": 19425.925
                        },
                        {
                          "count": 10,
                          "xBinStart": 130.82,
                          "xBinEnd": 136.225,
                          "yBinStart": 19425.925,
                          "yBinEnd": 25900.9
                        },
                        {
                          "count": 12,
                          "xBinStart": 130.82,
                          "xBinEnd": 136.225,
                          "yBinStart": 25900.9,
                          "yBinEnd": 32375.875
                        },
                        {
                          "count": 10,
                          "xBinStart": 130.82,
                          "xBinEnd": 136.225,
                          "yBinStart": 32375.875,
                          "yBinEnd": 38850.85
                        },
                        {
                          "count": 11,
                          "xBinStart": 130.82,
                          "xBinEnd": 136.225,
                          "yBinStart": 38850.85,
                          "yBinEnd": 45325.825
                        },
                        {
                          "count": 9,
                          "xBinStart": 130.82,
                          "xBinEnd": 136.225,
                          "yBinStart": 45325.825,
                          "yBinEnd": 51800.8
                        },
                        {
                          "count": 1,
                          "xBinStart": 130.82,
                          "xBinEnd": 136.225,
                          "yBinStart": 51800.8,
                          "yBinEnd": 58275.775
                        },
                        {
                          "count": 5,
                          "xBinStart": 130.82,
                          "xBinEnd": 136.225,
                          "yBinStart": 58275.775,
                          "yBinEnd": 64750.75
                        },
                        {
                          "count": 4,
                          "xBinStart": 130.82,
                          "xBinEnd": 136.225,
                          "yBinStart": 64750.75,
                          "yBinEnd": 71225.725
                        },
                        {
                          "count": 3,
                          "xBinStart": 130.82,
                          "xBinEnd": 136.225,
                          "yBinStart": 71225.725,
                          "yBinEnd": 77700.7
                        },
                        {
                          "count": 2,
                          "xBinStart": 130.82,
                          "xBinEnd": 136.225,
                          "yBinStart": 77700.7,
                          "yBinEnd": 84175.675
                        },
                        {
                          "count": 3,
                          "xBinStart": 130.82,
                          "xBinEnd": 136.225,
                          "yBinStart": 84175.675,
                          "yBinEnd": 90650.65
                        },
                        {
                          "count": 1,
                          "xBinStart": 130.82,
                          "xBinEnd": 136.225,
                          "yBinStart": 90650.65,
                          "yBinEnd": 97125.625
                        },
                        {
                          "count": 1,
                          "xBinStart": 130.82,
                          "xBinEnd": 136.225,
                          "yBinStart": 97125.625,
                          "yBinEnd": 103600.6
                        },
                        {
                          "count": 3,
                          "xBinStart": 174.06,
                          "xBinEnd": 179.465,
                          "yBinStart": -257.999,
                          "yBinEnd": 6475.975
                        },
                        {
                          "count": 1,
                          "xBinStart": 174.06,
                          "xBinEnd": 179.465,
                          "yBinStart": 12950.95,
                          "yBinEnd": 19425.925
                        },
                        {
                          "count": 17,
                          "xBinStart": 184.87,
                          "xBinEnd": 190.275,
                          "yBinStart": -257.999,
                          "yBinEnd": 6475.975
                        },
                        {
                          "count": 4,
                          "xBinStart": 184.87,
                          "xBinEnd": 190.275,
                          "yBinStart": 6475.975,
                          "yBinEnd": 12950.95
                        },
                        {
                          "count": 1,
                          "xBinStart": 201.085,
                          "xBinEnd": 206.49,
                          "yBinStart": -257.999,
                          "yBinEnd": 6475.975
                        },
                        {
                          "count": 1,
                          "xBinStart": 211.895,
                          "xBinEnd": 217.3,
                          "yBinStart": -257.999,
                          "yBinEnd": 6475.975
                        }
                      ]
                    },
                    "vislib": "vegalite"
                  },
                  {
                    "config": {
                      "view": {
                        "continuousWidth": 400,
                        "continuousHeight": 300
                      },
                      "axis": {
                        "labelColor": "#505050",
                        "labelFont": "Helvetica Neue",
                        "labelFontSize": 9,
                        "labelFontWeight": 400,
                        "titleFont": "Helvetica Neue",
                        "titleFontSize": 11,
                        "titleFontWeight": 500
                      },
                      "legend": {
                        "labelFont": "Helvetica Neue",
                        "labelFontSize": 9,
                        "labelFontWeight": 400,
                        "titleFont": "Helvetica Neue",
                        "titleFontSize": 10,
                        "titleFontWeight": 500
                      },
                      "mark": {
                        "tooltip": {
                          "content": "encoding"
                        }
                      },
                      "scale": {
                        "maxOpacity": 1,
                        "minOpacity": 0.1
                      },
                      "title": {
                        "font": "Helvetica Neue",
                        "fontSize": 13,
                        "fontWeight": 500
                      }
                    },
                    "data": {
                      "name": "data-78dc5c88183ffc128a8fc06a28927690"
                    },
                    "mark": "rect",
                    "encoding": {
                      "opacity": {
                        "field": "count",
                        "legend": null,
                        "scale": {
                          "type": "log"
                        },
                        "type": "quantitative"
                      },
                      "x": {
                        "axis": {
                          "title": "mileage"
                        },
                        "bin": {
                          "binned": true
                        },
                        "field": "xBinStart",
                        "type": "quantitative"
                      },
                      "x2": {
                        "field": "xBinEnd"
                      },
                      "y": {
                        "axis": {
                          "title": "tax"
                        },
                        "bin": {
                          "binned": true
                        },
                        "field": "yBinStart",
                        "type": "quantitative"
                      },
                      "y2": {
                        "field": "yBinEnd"
                      }
                    },
                    "height": 150,
                    "selection": {
                      "selector003": {
                        "type": "interval",
                        "bind": "scales",
                        "encodings": [
                          "x",
                          "y"
                        ]
                      }
                    },
                    "width": 160,
                    "$schema": "https://vega.github.io/schema/vega-lite/v4.17.0.json",
                    "datasets": {
                      "data-78dc5c88183ffc128a8fc06a28927690": [
                        {
                          "count": 6,
                          "xBinStart": -257.999,
                          "xBinEnd": 6475.975,
                          "yBinStart": 14.5,
                          "yBinEnd": 29
                        },
                        {
                          "count": 4,
                          "xBinStart": -257.999,
                          "xBinEnd": 6475.975,
                          "yBinStart": 29,
                          "yBinEnd": 43.5
                        },
                        {
                          "count": 5,
                          "xBinStart": -257.999,
                          "xBinEnd": 6475.975,
                          "yBinStart": 116,
                          "yBinEnd": 130.5
                        },
                        {
                          "count": 3184,
                          "xBinStart": -257.999,
                          "xBinEnd": 6475.975,
                          "yBinStart": 130.5,
                          "yBinEnd": 145
                        },
                        {
                          "count": 152,
                          "xBinStart": -257.999,
                          "xBinEnd": 6475.975,
                          "yBinStart": 145,
                          "yBinEnd": 159.5
                        },
                        {
                          "count": 3,
                          "xBinStart": -257.999,
                          "xBinEnd": 6475.975,
                          "yBinStart": 188.5,
                          "yBinEnd": 203
                        },
                        {
                          "count": 1,
                          "xBinStart": -257.999,
                          "xBinEnd": 6475.975,
                          "yBinStart": 232,
                          "yBinEnd": 246.5
                        },
                        {
                          "count": 34,
                          "xBinStart": -257.999,
                          "xBinEnd": 6475.975,
                          "yBinStart": 246.5,
                          "yBinEnd": 261
                        },
                        {
                          "count": 4,
                          "xBinStart": -257.999,
                          "xBinEnd": 6475.975,
                          "yBinStart": 261,
                          "yBinEnd": 275.5
                        },
                        {
                          "count": 1,
                          "xBinStart": -257.999,
                          "xBinEnd": 6475.975,
                          "yBinStart": 319,
                          "yBinEnd": 333.5
                        },
                        {
                          "count": 1,
                          "xBinStart": -257.999,
                          "xBinEnd": 6475.975,
                          "yBinStart": 551,
                          "yBinEnd": 565.5
                        },
                        {
                          "count": 1,
                          "xBinStart": -257.999,
                          "xBinEnd": 6475.975,
                          "yBinStart": 565.5,
                          "yBinEnd": 580
                        },
                        {
                          "count": 2,
                          "xBinStart": 6475.975,
                          "xBinEnd": 12950.95,
                          "yBinStart": -0.58,
                          "yBinEnd": 14.5
                        },
                        {
                          "count": 45,
                          "xBinStart": 6475.975,
                          "xBinEnd": 12950.95,
                          "yBinStart": 14.5,
                          "yBinEnd": 29
                        },
                        {
                          "count": 34,
                          "xBinStart": 6475.975,
                          "xBinEnd": 12950.95,
                          "yBinStart": 29,
                          "yBinEnd": 43.5
                        },
                        {
                          "count": 29,
                          "xBinStart": 6475.975,
                          "xBinEnd": 12950.95,
                          "yBinStart": 116,
                          "yBinEnd": 130.5
                        },
                        {
                          "count": 1842,
                          "xBinStart": 6475.975,
                          "xBinEnd": 12950.95,
                          "yBinStart": 130.5,
                          "yBinEnd": 145
                        },
                        {
                          "count": 184,
                          "xBinStart": 6475.975,
                          "xBinEnd": 12950.95,
                          "yBinStart": 145,
                          "yBinEnd": 159.5
                        },
                        {
                          "count": 13,
                          "xBinStart": 6475.975,
                          "xBinEnd": 12950.95,
                          "yBinStart": 159.5,
                          "yBinEnd": 174
                        },
                        {
                          "count": 12,
                          "xBinStart": 6475.975,
                          "xBinEnd": 12950.95,
                          "yBinStart": 188.5,
                          "yBinEnd": 203
                        },
                        {
                          "count": 3,
                          "xBinStart": 6475.975,
                          "xBinEnd": 12950.95,
                          "yBinStart": 203,
                          "yBinEnd": 217.5
                        },
                        {
                          "count": 4,
                          "xBinStart": 6475.975,
                          "xBinEnd": 12950.95,
                          "yBinStart": 232,
                          "yBinEnd": 246.5
                        },
                        {
                          "count": 25,
                          "xBinStart": 6475.975,
                          "xBinEnd": 12950.95,
                          "yBinStart": 246.5,
                          "yBinEnd": 261
                        },
                        {
                          "count": 8,
                          "xBinStart": 6475.975,
                          "xBinEnd": 12950.95,
                          "yBinStart": 261,
                          "yBinEnd": 275.5
                        },
                        {
                          "count": 4,
                          "xBinStart": 6475.975,
                          "xBinEnd": 12950.95,
                          "yBinStart": 290,
                          "yBinEnd": 304.5
                        },
                        {
                          "count": 2,
                          "xBinStart": 6475.975,
                          "xBinEnd": 12950.95,
                          "yBinStart": 304.5,
                          "yBinEnd": 319
                        },
                        {
                          "count": 4,
                          "xBinStart": 6475.975,
                          "xBinEnd": 12950.95,
                          "yBinStart": 319,
                          "yBinEnd": 333.5
                        },
                        {
                          "count": 1,
                          "xBinStart": 6475.975,
                          "xBinEnd": 12950.95,
                          "yBinStart": 551,
                          "yBinEnd": 565.5
                        },
                        {
                          "count": 1,
                          "xBinStart": 6475.975,
                          "xBinEnd": 12950.95,
                          "yBinStart": 565.5,
                          "yBinEnd": 580
                        },
                        {
                          "count": 7,
                          "xBinStart": 12950.95,
                          "xBinEnd": 19425.925,
                          "yBinStart": -0.58,
                          "yBinEnd": 14.5
                        },
                        {
                          "count": 102,
                          "xBinStart": 12950.95,
                          "xBinEnd": 19425.925,
                          "yBinStart": 14.5,
                          "yBinEnd": 29
                        },
                        {
                          "count": 76,
                          "xBinStart": 12950.95,
                          "xBinEnd": 19425.925,
                          "yBinStart": 29,
                          "yBinEnd": 43.5
                        },
                        {
                          "count": 106,
                          "xBinStart": 12950.95,
                          "xBinEnd": 19425.925,
                          "yBinStart": 116,
                          "yBinEnd": 130.5
                        },
                        {
                          "count": 1288,
                          "xBinStart": 12950.95,
                          "xBinEnd": 19425.925,
                          "yBinStart": 130.5,
                          "yBinEnd": 145
                        },
                        {
                          "count": 152,
                          "xBinStart": 12950.95,
                          "xBinEnd": 19425.925,
                          "yBinStart": 145,
                          "yBinEnd": 159.5
                        },
                        {
                          "count": 31,
                          "xBinStart": 12950.95,
                          "xBinEnd": 19425.925,
                          "yBinStart": 159.5,
                          "yBinEnd": 174
                        },
                        {
                          "count": 29,
                          "xBinStart": 12950.95,
                          "xBinEnd": 19425.925,
                          "yBinStart": 188.5,
                          "yBinEnd": 203
                        },
                        {
                          "count": 7,
                          "xBinStart": 12950.95,
                          "xBinEnd": 19425.925,
                          "yBinStart": 203,
                          "yBinEnd": 217.5
                        },
                        {
                          "count": 12,
                          "xBinStart": 12950.95,
                          "xBinEnd": 19425.925,
                          "yBinStart": 232,
                          "yBinEnd": 246.5
                        },
                        {
                          "count": 11,
                          "xBinStart": 12950.95,
                          "xBinEnd": 19425.925,
                          "yBinStart": 246.5,
                          "yBinEnd": 261
                        },
                        {
                          "count": 7,
                          "xBinStart": 12950.95,
                          "xBinEnd": 19425.925,
                          "yBinStart": 261,
                          "yBinEnd": 275.5
                        },
                        {
                          "count": 13,
                          "xBinStart": 12950.95,
                          "xBinEnd": 19425.925,
                          "yBinStart": 290,
                          "yBinEnd": 304.5
                        },
                        {
                          "count": 5,
                          "xBinStart": 12950.95,
                          "xBinEnd": 19425.925,
                          "yBinStart": 304.5,
                          "yBinEnd": 319
                        },
                        {
                          "count": 7,
                          "xBinStart": 12950.95,
                          "xBinEnd": 19425.925,
                          "yBinStart": 319,
                          "yBinEnd": 333.5
                        },
                        {
                          "count": 3,
                          "xBinStart": 12950.95,
                          "xBinEnd": 19425.925,
                          "yBinStart": 551,
                          "yBinEnd": 565.5
                        },
                        {
                          "count": 2,
                          "xBinStart": 12950.95,
                          "xBinEnd": 19425.925,
                          "yBinStart": 565.5,
                          "yBinEnd": 580
                        },
                        {
                          "count": 18,
                          "xBinStart": 19425.925,
                          "xBinEnd": 25900.9,
                          "yBinStart": -0.58,
                          "yBinEnd": 14.5
                        },
                        {
                          "count": 188,
                          "xBinStart": 19425.925,
                          "xBinEnd": 25900.9,
                          "yBinStart": 14.5,
                          "yBinEnd": 29
                        },
                        {
                          "count": 149,
                          "xBinStart": 19425.925,
                          "xBinEnd": 25900.9,
                          "yBinStart": 29,
                          "yBinEnd": 43.5
                        },
                        {
                          "count": 1,
                          "xBinStart": 19425.925,
                          "xBinEnd": 25900.9,
                          "yBinStart": 101.5,
                          "yBinEnd": 116
                        },
                        {
                          "count": 158,
                          "xBinStart": 19425.925,
                          "xBinEnd": 25900.9,
                          "yBinStart": 116,
                          "yBinEnd": 130.5
                        },
                        {
                          "count": 549,
                          "xBinStart": 19425.925,
                          "xBinEnd": 25900.9,
                          "yBinStart": 130.5,
                          "yBinEnd": 145
                        },
                        {
                          "count": 141,
                          "xBinStart": 19425.925,
                          "xBinEnd": 25900.9,
                          "yBinStart": 145,
                          "yBinEnd": 159.5
                        },
                        {
                          "count": 44,
                          "xBinStart": 19425.925,
                          "xBinEnd": 25900.9,
                          "yBinStart": 159.5,
                          "yBinEnd": 174
                        },
                        {
                          "count": 32,
                          "xBinStart": 19425.925,
                          "xBinEnd": 25900.9,
                          "yBinStart": 188.5,
                          "yBinEnd": 203
                        },
                        {
                          "count": 6,
                          "xBinStart": 19425.925,
                          "xBinEnd": 25900.9,
                          "yBinStart": 203,
                          "yBinEnd": 217.5
                        },
                        {
                          "count": 8,
                          "xBinStart": 19425.925,
                          "xBinEnd": 25900.9,
                          "yBinStart": 232,
                          "yBinEnd": 246.5
                        },
                        {
                          "count": 13,
                          "xBinStart": 19425.925,
                          "xBinEnd": 25900.9,
                          "yBinStart": 246.5,
                          "yBinEnd": 261
                        },
                        {
                          "count": 3,
                          "xBinStart": 19425.925,
                          "xBinEnd": 25900.9,
                          "yBinStart": 261,
                          "yBinEnd": 275.5
                        },
                        {
                          "count": 12,
                          "xBinStart": 19425.925,
                          "xBinEnd": 25900.9,
                          "yBinStart": 290,
                          "yBinEnd": 304.5
                        },
                        {
                          "count": 8,
                          "xBinStart": 19425.925,
                          "xBinEnd": 25900.9,
                          "yBinStart": 304.5,
                          "yBinEnd": 319
                        },
                        {
                          "count": 2,
                          "xBinStart": 19425.925,
                          "xBinEnd": 25900.9,
                          "yBinStart": 319,
                          "yBinEnd": 333.5
                        },
                        {
                          "count": 3,
                          "xBinStart": 19425.925,
                          "xBinEnd": 25900.9,
                          "yBinStart": 551,
                          "yBinEnd": 565.5
                        },
                        {
                          "count": 4,
                          "xBinStart": 19425.925,
                          "xBinEnd": 25900.9,
                          "yBinStart": 565.5,
                          "yBinEnd": 580
                        },
                        {
                          "count": 20,
                          "xBinStart": 25900.9,
                          "xBinEnd": 32375.875,
                          "yBinStart": -0.58,
                          "yBinEnd": 14.5
                        },
                        {
                          "count": 197,
                          "xBinStart": 25900.9,
                          "xBinEnd": 32375.875,
                          "yBinStart": 14.5,
                          "yBinEnd": 29
                        },
                        {
                          "count": 174,
                          "xBinStart": 25900.9,
                          "xBinEnd": 32375.875,
                          "yBinStart": 29,
                          "yBinEnd": 43.5
                        },
                        {
                          "count": 174,
                          "xBinStart": 25900.9,
                          "xBinEnd": 32375.875,
                          "yBinStart": 116,
                          "yBinEnd": 130.5
                        },
                        {
                          "count": 323,
                          "xBinStart": 25900.9,
                          "xBinEnd": 32375.875,
                          "yBinStart": 130.5,
                          "yBinEnd": 145
                        },
                        {
                          "count": 90,
                          "xBinStart": 25900.9,
                          "xBinEnd": 32375.875,
                          "yBinStart": 145,
                          "yBinEnd": 159.5
                        },
                        {
                          "count": 56,
                          "xBinStart": 25900.9,
                          "xBinEnd": 32375.875,
                          "yBinStart": 159.5,
                          "yBinEnd": 174
                        },
                        {
                          "count": 40,
                          "xBinStart": 25900.9,
                          "xBinEnd": 32375.875,
                          "yBinStart": 188.5,
                          "yBinEnd": 203
                        },
                        {
                          "count": 8,
                          "xBinStart": 25900.9,
                          "xBinEnd": 32375.875,
                          "yBinStart": 203,
                          "yBinEnd": 217.5
                        },
                        {
                          "count": 4,
                          "xBinStart": 25900.9,
                          "xBinEnd": 32375.875,
                          "yBinStart": 232,
                          "yBinEnd": 246.5
                        },
                        {
                          "count": 8,
                          "xBinStart": 25900.9,
                          "xBinEnd": 32375.875,
                          "yBinStart": 246.5,
                          "yBinEnd": 261
                        },
                        {
                          "count": 1,
                          "xBinStart": 25900.9,
                          "xBinEnd": 32375.875,
                          "yBinStart": 261,
                          "yBinEnd": 275.5
                        },
                        {
                          "count": 16,
                          "xBinStart": 25900.9,
                          "xBinEnd": 32375.875,
                          "yBinStart": 290,
                          "yBinEnd": 304.5
                        },
                        {
                          "count": 6,
                          "xBinStart": 25900.9,
                          "xBinEnd": 32375.875,
                          "yBinStart": 304.5,
                          "yBinEnd": 319
                        },
                        {
                          "count": 5,
                          "xBinStart": 25900.9,
                          "xBinEnd": 32375.875,
                          "yBinStart": 319,
                          "yBinEnd": 333.5
                        },
                        {
                          "count": 2,
                          "xBinStart": 25900.9,
                          "xBinEnd": 32375.875,
                          "yBinStart": 551,
                          "yBinEnd": 565.5
                        },
                        {
                          "count": 23,
                          "xBinStart": 32375.875,
                          "xBinEnd": 38850.85,
                          "yBinStart": -0.58,
                          "yBinEnd": 14.5
                        },
                        {
                          "count": 178,
                          "xBinStart": 32375.875,
                          "xBinEnd": 38850.85,
                          "yBinStart": 14.5,
                          "yBinEnd": 29
                        },
                        {
                          "count": 156,
                          "xBinStart": 32375.875,
                          "xBinEnd": 38850.85,
                          "yBinStart": 29,
                          "yBinEnd": 43.5
                        },
                        {
                          "count": 154,
                          "xBinStart": 32375.875,
                          "xBinEnd": 38850.85,
                          "yBinStart": 116,
                          "yBinEnd": 130.5
                        },
                        {
                          "count": 181,
                          "xBinStart": 32375.875,
                          "xBinEnd": 38850.85,
                          "yBinStart": 130.5,
                          "yBinEnd": 145
                        },
                        {
                          "count": 52,
                          "xBinStart": 32375.875,
                          "xBinEnd": 38850.85,
                          "yBinStart": 145,
                          "yBinEnd": 159.5
                        },
                        {
                          "count": 29,
                          "xBinStart": 32375.875,
                          "xBinEnd": 38850.85,
                          "yBinStart": 159.5,
                          "yBinEnd": 174
                        },
                        {
                          "count": 36,
                          "xBinStart": 32375.875,
                          "xBinEnd": 38850.85,
                          "yBinStart": 188.5,
                          "yBinEnd": 203
                        },
                        {
                          "count": 7,
                          "xBinStart": 32375.875,
                          "xBinEnd": 38850.85,
                          "yBinStart": 203,
                          "yBinEnd": 217.5
                        },
                        {
                          "count": 6,
                          "xBinStart": 32375.875,
                          "xBinEnd": 38850.85,
                          "yBinStart": 232,
                          "yBinEnd": 246.5
                        },
                        {
                          "count": 17,
                          "xBinStart": 32375.875,
                          "xBinEnd": 38850.85,
                          "yBinStart": 246.5,
                          "yBinEnd": 261
                        },
                        {
                          "count": 8,
                          "xBinStart": 32375.875,
                          "xBinEnd": 38850.85,
                          "yBinStart": 290,
                          "yBinEnd": 304.5
                        },
                        {
                          "count": 4,
                          "xBinStart": 32375.875,
                          "xBinEnd": 38850.85,
                          "yBinStart": 304.5,
                          "yBinEnd": 319
                        },
                        {
                          "count": 5,
                          "xBinStart": 32375.875,
                          "xBinEnd": 38850.85,
                          "yBinStart": 319,
                          "yBinEnd": 333.5
                        },
                        {
                          "count": 1,
                          "xBinStart": 32375.875,
                          "xBinEnd": 38850.85,
                          "yBinStart": 536.5,
                          "yBinEnd": 551
                        },
                        {
                          "count": 4,
                          "xBinStart": 32375.875,
                          "xBinEnd": 38850.85,
                          "yBinStart": 565.5,
                          "yBinEnd": 580
                        },
                        {
                          "count": 28,
                          "xBinStart": 38850.85,
                          "xBinEnd": 45325.825,
                          "yBinStart": -0.58,
                          "yBinEnd": 14.5
                        },
                        {
                          "count": 170,
                          "xBinStart": 38850.85,
                          "xBinEnd": 45325.825,
                          "yBinStart": 14.5,
                          "yBinEnd": 29
                        },
                        {
                          "count": 125,
                          "xBinStart": 38850.85,
                          "xBinEnd": 45325.825,
                          "yBinStart": 29,
                          "yBinEnd": 43.5
                        },
                        {
                          "count": 1,
                          "xBinStart": 38850.85,
                          "xBinEnd": 45325.825,
                          "yBinStart": 101.5,
                          "yBinEnd": 116
                        },
                        {
                          "count": 111,
                          "xBinStart": 38850.85,
                          "xBinEnd": 45325.825,
                          "yBinStart": 116,
                          "yBinEnd": 130.5
                        },
                        {
                          "count": 122,
                          "xBinStart": 38850.85,
                          "xBinEnd": 45325.825,
                          "yBinStart": 130.5,
                          "yBinEnd": 145
                        },
                        {
                          "count": 35,
                          "xBinStart": 38850.85,
                          "xBinEnd": 45325.825,
                          "yBinStart": 145,
                          "yBinEnd": 159.5
                        },
                        {
                          "count": 31,
                          "xBinStart": 38850.85,
                          "xBinEnd": 45325.825,
                          "yBinStart": 159.5,
                          "yBinEnd": 174
                        },
                        {
                          "count": 28,
                          "xBinStart": 38850.85,
                          "xBinEnd": 45325.825,
                          "yBinStart": 188.5,
                          "yBinEnd": 203
                        },
                        {
                          "count": 10,
                          "xBinStart": 38850.85,
                          "xBinEnd": 45325.825,
                          "yBinStart": 203,
                          "yBinEnd": 217.5
                        },
                        {
                          "count": 6,
                          "xBinStart": 38850.85,
                          "xBinEnd": 45325.825,
                          "yBinStart": 232,
                          "yBinEnd": 246.5
                        },
                        {
                          "count": 4,
                          "xBinStart": 38850.85,
                          "xBinEnd": 45325.825,
                          "yBinStart": 246.5,
                          "yBinEnd": 261
                        },
                        {
                          "count": 2,
                          "xBinStart": 38850.85,
                          "xBinEnd": 45325.825,
                          "yBinStart": 261,
                          "yBinEnd": 275.5
                        },
                        {
                          "count": 14,
                          "xBinStart": 38850.85,
                          "xBinEnd": 45325.825,
                          "yBinStart": 290,
                          "yBinEnd": 304.5
                        },
                        {
                          "count": 3,
                          "xBinStart": 38850.85,
                          "xBinEnd": 45325.825,
                          "yBinStart": 304.5,
                          "yBinEnd": 319
                        },
                        {
                          "count": 5,
                          "xBinStart": 38850.85,
                          "xBinEnd": 45325.825,
                          "yBinStart": 319,
                          "yBinEnd": 333.5
                        },
                        {
                          "count": 2,
                          "xBinStart": 38850.85,
                          "xBinEnd": 45325.825,
                          "yBinStart": 551,
                          "yBinEnd": 565.5
                        },
                        {
                          "count": 6,
                          "xBinStart": 38850.85,
                          "xBinEnd": 45325.825,
                          "yBinStart": 565.5,
                          "yBinEnd": 580
                        },
                        {
                          "count": 15,
                          "xBinStart": 45325.825,
                          "xBinEnd": 51800.8,
                          "yBinStart": -0.58,
                          "yBinEnd": 14.5
                        },
                        {
                          "count": 111,
                          "xBinStart": 45325.825,
                          "xBinEnd": 51800.8,
                          "yBinStart": 14.5,
                          "yBinEnd": 29
                        },
                        {
                          "count": 68,
                          "xBinStart": 45325.825,
                          "xBinEnd": 51800.8,
                          "yBinStart": 29,
                          "yBinEnd": 43.5
                        },
                        {
                          "count": 98,
                          "xBinStart": 45325.825,
                          "xBinEnd": 51800.8,
                          "yBinStart": 116,
                          "yBinEnd": 130.5
                        },
                        {
                          "count": 74,
                          "xBinStart": 45325.825,
                          "xBinEnd": 51800.8,
                          "yBinStart": 130.5,
                          "yBinEnd": 145
                        },
                        {
                          "count": 16,
                          "xBinStart": 45325.825,
                          "xBinEnd": 51800.8,
                          "yBinStart": 145,
                          "yBinEnd": 159.5
                        },
                        {
                          "count": 16,
                          "xBinStart": 45325.825,
                          "xBinEnd": 51800.8,
                          "yBinStart": 159.5,
                          "yBinEnd": 174
                        },
                        {
                          "count": 25,
                          "xBinStart": 45325.825,
                          "xBinEnd": 51800.8,
                          "yBinStart": 188.5,
                          "yBinEnd": 203
                        },
                        {
                          "count": 6,
                          "xBinStart": 45325.825,
                          "xBinEnd": 51800.8,
                          "yBinStart": 203,
                          "yBinEnd": 217.5
                        },
                        {
                          "count": 6,
                          "xBinStart": 45325.825,
                          "xBinEnd": 51800.8,
                          "yBinStart": 232,
                          "yBinEnd": 246.5
                        },
                        {
                          "count": 3,
                          "xBinStart": 45325.825,
                          "xBinEnd": 51800.8,
                          "yBinStart": 246.5,
                          "yBinEnd": 261
                        },
                        {
                          "count": 7,
                          "xBinStart": 45325.825,
                          "xBinEnd": 51800.8,
                          "yBinStart": 290,
                          "yBinEnd": 304.5
                        },
                        {
                          "count": 3,
                          "xBinStart": 45325.825,
                          "xBinEnd": 51800.8,
                          "yBinStart": 319,
                          "yBinEnd": 333.5
                        },
                        {
                          "count": 2,
                          "xBinStart": 45325.825,
                          "xBinEnd": 51800.8,
                          "yBinStart": 551,
                          "yBinEnd": 565.5
                        },
                        {
                          "count": 1,
                          "xBinStart": 45325.825,
                          "xBinEnd": 51800.8,
                          "yBinStart": 565.5,
                          "yBinEnd": 580
                        },
                        {
                          "count": 10,
                          "xBinStart": 51800.8,
                          "xBinEnd": 58275.775,
                          "yBinStart": -0.58,
                          "yBinEnd": 14.5
                        },
                        {
                          "count": 86,
                          "xBinStart": 51800.8,
                          "xBinEnd": 58275.775,
                          "yBinStart": 14.5,
                          "yBinEnd": 29
                        },
                        {
                          "count": 59,
                          "xBinStart": 51800.8,
                          "xBinEnd": 58275.775,
                          "yBinStart": 29,
                          "yBinEnd": 43.5
                        },
                        {
                          "count": 68,
                          "xBinStart": 51800.8,
                          "xBinEnd": 58275.775,
                          "yBinStart": 116,
                          "yBinEnd": 130.5
                        },
                        {
                          "count": 43,
                          "xBinStart": 51800.8,
                          "xBinEnd": 58275.775,
                          "yBinStart": 130.5,
                          "yBinEnd": 145
                        },
                        {
                          "count": 8,
                          "xBinStart": 51800.8,
                          "xBinEnd": 58275.775,
                          "yBinStart": 145,
                          "yBinEnd": 159.5
                        },
                        {
                          "count": 10,
                          "xBinStart": 51800.8,
                          "xBinEnd": 58275.775,
                          "yBinStart": 159.5,
                          "yBinEnd": 174
                        },
                        {
                          "count": 21,
                          "xBinStart": 51800.8,
                          "xBinEnd": 58275.775,
                          "yBinStart": 188.5,
                          "yBinEnd": 203
                        },
                        {
                          "count": 2,
                          "xBinStart": 51800.8,
                          "xBinEnd": 58275.775,
                          "yBinStart": 203,
                          "yBinEnd": 217.5
                        },
                        {
                          "count": 4,
                          "xBinStart": 51800.8,
                          "xBinEnd": 58275.775,
                          "yBinStart": 232,
                          "yBinEnd": 246.5
                        },
                        {
                          "count": 2,
                          "xBinStart": 51800.8,
                          "xBinEnd": 58275.775,
                          "yBinStart": 246.5,
                          "yBinEnd": 261
                        },
                        {
                          "count": 1,
                          "xBinStart": 51800.8,
                          "xBinEnd": 58275.775,
                          "yBinStart": 290,
                          "yBinEnd": 304.5
                        },
                        {
                          "count": 1,
                          "xBinStart": 51800.8,
                          "xBinEnd": 58275.775,
                          "yBinStart": 304.5,
                          "yBinEnd": 319
                        },
                        {
                          "count": 1,
                          "xBinStart": 51800.8,
                          "xBinEnd": 58275.775,
                          "yBinStart": 319,
                          "yBinEnd": 333.5
                        },
                        {
                          "count": 2,
                          "xBinStart": 51800.8,
                          "xBinEnd": 58275.775,
                          "yBinStart": 551,
                          "yBinEnd": 565.5
                        },
                        {
                          "count": 3,
                          "xBinStart": 51800.8,
                          "xBinEnd": 58275.775,
                          "yBinStart": 565.5,
                          "yBinEnd": 580
                        },
                        {
                          "count": 11,
                          "xBinStart": 58275.775,
                          "xBinEnd": 64750.75,
                          "yBinStart": -0.58,
                          "yBinEnd": 14.5
                        },
                        {
                          "count": 45,
                          "xBinStart": 58275.775,
                          "xBinEnd": 64750.75,
                          "yBinStart": 14.5,
                          "yBinEnd": 29
                        },
                        {
                          "count": 46,
                          "xBinStart": 58275.775,
                          "xBinEnd": 64750.75,
                          "yBinStart": 29,
                          "yBinEnd": 43.5
                        },
                        {
                          "count": 31,
                          "xBinStart": 58275.775,
                          "xBinEnd": 64750.75,
                          "yBinStart": 116,
                          "yBinEnd": 130.5
                        },
                        {
                          "count": 32,
                          "xBinStart": 58275.775,
                          "xBinEnd": 64750.75,
                          "yBinStart": 130.5,
                          "yBinEnd": 145
                        },
                        {
                          "count": 11,
                          "xBinStart": 58275.775,
                          "xBinEnd": 64750.75,
                          "yBinStart": 145,
                          "yBinEnd": 159.5
                        },
                        {
                          "count": 6,
                          "xBinStart": 58275.775,
                          "xBinEnd": 64750.75,
                          "yBinStart": 159.5,
                          "yBinEnd": 174
                        },
                        {
                          "count": 1,
                          "xBinStart": 58275.775,
                          "xBinEnd": 64750.75,
                          "yBinStart": 174,
                          "yBinEnd": 188.5
                        },
                        {
                          "count": 16,
                          "xBinStart": 58275.775,
                          "xBinEnd": 64750.75,
                          "yBinStart": 188.5,
                          "yBinEnd": 203
                        },
                        {
                          "count": 1,
                          "xBinStart": 58275.775,
                          "xBinEnd": 64750.75,
                          "yBinStart": 203,
                          "yBinEnd": 217.5
                        },
                        {
                          "count": 2,
                          "xBinStart": 58275.775,
                          "xBinEnd": 64750.75,
                          "yBinStart": 232,
                          "yBinEnd": 246.5
                        },
                        {
                          "count": 5,
                          "xBinStart": 58275.775,
                          "xBinEnd": 64750.75,
                          "yBinStart": 290,
                          "yBinEnd": 304.5
                        },
                        {
                          "count": 2,
                          "xBinStart": 58275.775,
                          "xBinEnd": 64750.75,
                          "yBinStart": 304.5,
                          "yBinEnd": 319
                        },
                        {
                          "count": 3,
                          "xBinStart": 58275.775,
                          "xBinEnd": 64750.75,
                          "yBinStart": 319,
                          "yBinEnd": 333.5
                        },
                        {
                          "count": 10,
                          "xBinStart": 64750.75,
                          "xBinEnd": 71225.725,
                          "yBinStart": -0.58,
                          "yBinEnd": 14.5
                        },
                        {
                          "count": 34,
                          "xBinStart": 64750.75,
                          "xBinEnd": 71225.725,
                          "yBinStart": 14.5,
                          "yBinEnd": 29
                        },
                        {
                          "count": 29,
                          "xBinStart": 64750.75,
                          "xBinEnd": 71225.725,
                          "yBinStart": 29,
                          "yBinEnd": 43.5
                        },
                        {
                          "count": 35,
                          "xBinStart": 64750.75,
                          "xBinEnd": 71225.725,
                          "yBinStart": 116,
                          "yBinEnd": 130.5
                        },
                        {
                          "count": 22,
                          "xBinStart": 64750.75,
                          "xBinEnd": 71225.725,
                          "yBinStart": 130.5,
                          "yBinEnd": 145
                        },
                        {
                          "count": 5,
                          "xBinStart": 64750.75,
                          "xBinEnd": 71225.725,
                          "yBinStart": 145,
                          "yBinEnd": 159.5
                        },
                        {
                          "count": 2,
                          "xBinStart": 64750.75,
                          "xBinEnd": 71225.725,
                          "yBinStart": 159.5,
                          "yBinEnd": 174
                        },
                        {
                          "count": 9,
                          "xBinStart": 64750.75,
                          "xBinEnd": 71225.725,
                          "yBinStart": 188.5,
                          "yBinEnd": 203
                        },
                        {
                          "count": 3,
                          "xBinStart": 64750.75,
                          "xBinEnd": 71225.725,
                          "yBinStart": 203,
                          "yBinEnd": 217.5
                        },
                        {
                          "count": 3,
                          "xBinStart": 64750.75,
                          "xBinEnd": 71225.725,
                          "yBinStart": 232,
                          "yBinEnd": 246.5
                        },
                        {
                          "count": 1,
                          "xBinStart": 64750.75,
                          "xBinEnd": 71225.725,
                          "yBinStart": 246.5,
                          "yBinEnd": 261
                        },
                        {
                          "count": 2,
                          "xBinStart": 64750.75,
                          "xBinEnd": 71225.725,
                          "yBinStart": 261,
                          "yBinEnd": 275.5
                        },
                        {
                          "count": 3,
                          "xBinStart": 64750.75,
                          "xBinEnd": 71225.725,
                          "yBinStart": 290,
                          "yBinEnd": 304.5
                        },
                        {
                          "count": 1,
                          "xBinStart": 64750.75,
                          "xBinEnd": 71225.725,
                          "yBinStart": 304.5,
                          "yBinEnd": 319
                        },
                        {
                          "count": 1,
                          "xBinStart": 64750.75,
                          "xBinEnd": 71225.725,
                          "yBinStart": 319,
                          "yBinEnd": 333.5
                        },
                        {
                          "count": 1,
                          "xBinStart": 64750.75,
                          "xBinEnd": 71225.725,
                          "yBinStart": 551,
                          "yBinEnd": 565.5
                        },
                        {
                          "count": 7,
                          "xBinStart": 71225.725,
                          "xBinEnd": 77700.7,
                          "yBinStart": -0.58,
                          "yBinEnd": 14.5
                        },
                        {
                          "count": 16,
                          "xBinStart": 71225.725,
                          "xBinEnd": 77700.7,
                          "yBinStart": 14.5,
                          "yBinEnd": 29
                        },
                        {
                          "count": 18,
                          "xBinStart": 71225.725,
                          "xBinEnd": 77700.7,
                          "yBinStart": 29,
                          "yBinEnd": 43.5
                        },
                        {
                          "count": 13,
                          "xBinStart": 71225.725,
                          "xBinEnd": 77700.7,
                          "yBinStart": 116,
                          "yBinEnd": 130.5
                        },
                        {
                          "count": 15,
                          "xBinStart": 71225.725,
                          "xBinEnd": 77700.7,
                          "yBinStart": 130.5,
                          "yBinEnd": 145
                        },
                        {
                          "count": 3,
                          "xBinStart": 71225.725,
                          "xBinEnd": 77700.7,
                          "yBinStart": 145,
                          "yBinEnd": 159.5
                        },
                        {
                          "count": 6,
                          "xBinStart": 71225.725,
                          "xBinEnd": 77700.7,
                          "yBinStart": 159.5,
                          "yBinEnd": 174
                        },
                        {
                          "count": 9,
                          "xBinStart": 71225.725,
                          "xBinEnd": 77700.7,
                          "yBinStart": 188.5,
                          "yBinEnd": 203
                        },
                        {
                          "count": 1,
                          "xBinStart": 71225.725,
                          "xBinEnd": 77700.7,
                          "yBinStart": 203,
                          "yBinEnd": 217.5
                        },
                        {
                          "count": 2,
                          "xBinStart": 71225.725,
                          "xBinEnd": 77700.7,
                          "yBinStart": 232,
                          "yBinEnd": 246.5
                        },
                        {
                          "count": 3,
                          "xBinStart": 71225.725,
                          "xBinEnd": 77700.7,
                          "yBinStart": 290,
                          "yBinEnd": 304.5
                        },
                        {
                          "count": 1,
                          "xBinStart": 71225.725,
                          "xBinEnd": 77700.7,
                          "yBinStart": 319,
                          "yBinEnd": 333.5
                        },
                        {
                          "count": 1,
                          "xBinStart": 71225.725,
                          "xBinEnd": 77700.7,
                          "yBinStart": 551,
                          "yBinEnd": 565.5
                        },
                        {
                          "count": 6,
                          "xBinStart": 77700.7,
                          "xBinEnd": 84175.675,
                          "yBinStart": -0.58,
                          "yBinEnd": 14.5
                        },
                        {
                          "count": 26,
                          "xBinStart": 77700.7,
                          "xBinEnd": 84175.675,
                          "yBinStart": 14.5,
                          "yBinEnd": 29
                        },
                        {
                          "count": 20,
                          "xBinStart": 77700.7,
                          "xBinEnd": 84175.675,
                          "yBinStart": 29,
                          "yBinEnd": 43.5
                        },
                        {
                          "count": 12,
                          "xBinStart": 77700.7,
                          "xBinEnd": 84175.675,
                          "yBinStart": 116,
                          "yBinEnd": 130.5
                        },
                        {
                          "count": 10,
                          "xBinStart": 77700.7,
                          "xBinEnd": 84175.675,
                          "yBinStart": 130.5,
                          "yBinEnd": 145
                        },
                        {
                          "count": 1,
                          "xBinStart": 77700.7,
                          "xBinEnd": 84175.675,
                          "yBinStart": 145,
                          "yBinEnd": 159.5
                        },
                        {
                          "count": 2,
                          "xBinStart": 77700.7,
                          "xBinEnd": 84175.675,
                          "yBinStart": 159.5,
                          "yBinEnd": 174
                        },
                        {
                          "count": 5,
                          "xBinStart": 77700.7,
                          "xBinEnd": 84175.675,
                          "yBinStart": 188.5,
                          "yBinEnd": 203
                        },
                        {
                          "count": 2,
                          "xBinStart": 77700.7,
                          "xBinEnd": 84175.675,
                          "yBinStart": 203,
                          "yBinEnd": 217.5
                        },
                        {
                          "count": 1,
                          "xBinStart": 77700.7,
                          "xBinEnd": 84175.675,
                          "yBinStart": 232,
                          "yBinEnd": 246.5
                        },
                        {
                          "count": 2,
                          "xBinStart": 77700.7,
                          "xBinEnd": 84175.675,
                          "yBinStart": 290,
                          "yBinEnd": 304.5
                        },
                        {
                          "count": 2,
                          "xBinStart": 77700.7,
                          "xBinEnd": 84175.675,
                          "yBinStart": 551,
                          "yBinEnd": 565.5
                        },
                        {
                          "count": 6,
                          "xBinStart": 84175.675,
                          "xBinEnd": 90650.65,
                          "yBinStart": -0.58,
                          "yBinEnd": 14.5
                        },
                        {
                          "count": 8,
                          "xBinStart": 84175.675,
                          "xBinEnd": 90650.65,
                          "yBinStart": 14.5,
                          "yBinEnd": 29
                        },
                        {
                          "count": 9,
                          "xBinStart": 84175.675,
                          "xBinEnd": 90650.65,
                          "yBinStart": 29,
                          "yBinEnd": 43.5
                        },
                        {
                          "count": 6,
                          "xBinStart": 84175.675,
                          "xBinEnd": 90650.65,
                          "yBinStart": 116,
                          "yBinEnd": 130.5
                        },
                        {
                          "count": 8,
                          "xBinStart": 84175.675,
                          "xBinEnd": 90650.65,
                          "yBinStart": 130.5,
                          "yBinEnd": 145
                        },
                        {
                          "count": 1,
                          "xBinStart": 84175.675,
                          "xBinEnd": 90650.65,
                          "yBinStart": 145,
                          "yBinEnd": 159.5
                        },
                        {
                          "count": 3,
                          "xBinStart": 84175.675,
                          "xBinEnd": 90650.65,
                          "yBinStart": 159.5,
                          "yBinEnd": 174
                        },
                        {
                          "count": 3,
                          "xBinStart": 84175.675,
                          "xBinEnd": 90650.65,
                          "yBinStart": 188.5,
                          "yBinEnd": 203
                        },
                        {
                          "count": 2,
                          "xBinStart": 84175.675,
                          "xBinEnd": 90650.65,
                          "yBinStart": 203,
                          "yBinEnd": 217.5
                        },
                        {
                          "count": 2,
                          "xBinStart": 84175.675,
                          "xBinEnd": 90650.65,
                          "yBinStart": 232,
                          "yBinEnd": 246.5
                        },
                        {
                          "count": 1,
                          "xBinStart": 84175.675,
                          "xBinEnd": 90650.65,
                          "yBinStart": 304.5,
                          "yBinEnd": 319
                        },
                        {
                          "count": 1,
                          "xBinStart": 84175.675,
                          "xBinEnd": 90650.65,
                          "yBinStart": 319,
                          "yBinEnd": 333.5
                        },
                        {
                          "count": 1,
                          "xBinStart": 84175.675,
                          "xBinEnd": 90650.65,
                          "yBinStart": 551,
                          "yBinEnd": 565.5
                        },
                        {
                          "count": 1,
                          "xBinStart": 90650.65,
                          "xBinEnd": 97125.625,
                          "yBinStart": -0.58,
                          "yBinEnd": 14.5
                        },
                        {
                          "count": 11,
                          "xBinStart": 90650.65,
                          "xBinEnd": 97125.625,
                          "yBinStart": 14.5,
                          "yBinEnd": 29
                        },
                        {
                          "count": 8,
                          "xBinStart": 90650.65,
                          "xBinEnd": 97125.625,
                          "yBinStart": 29,
                          "yBinEnd": 43.5
                        },
                        {
                          "count": 3,
                          "xBinStart": 90650.65,
                          "xBinEnd": 97125.625,
                          "yBinStart": 116,
                          "yBinEnd": 130.5
                        },
                        {
                          "count": 5,
                          "xBinStart": 90650.65,
                          "xBinEnd": 97125.625,
                          "yBinStart": 130.5,
                          "yBinEnd": 145
                        },
                        {
                          "count": 1,
                          "xBinStart": 90650.65,
                          "xBinEnd": 97125.625,
                          "yBinStart": 145,
                          "yBinEnd": 159.5
                        },
                        {
                          "count": 2,
                          "xBinStart": 90650.65,
                          "xBinEnd": 97125.625,
                          "yBinStart": 188.5,
                          "yBinEnd": 203
                        },
                        {
                          "count": 1,
                          "xBinStart": 90650.65,
                          "xBinEnd": 97125.625,
                          "yBinStart": 217.5,
                          "yBinEnd": 232
                        },
                        {
                          "count": 1,
                          "xBinStart": 90650.65,
                          "xBinEnd": 97125.625,
                          "yBinStart": 290,
                          "yBinEnd": 304.5
                        },
                        {
                          "count": 1,
                          "xBinStart": 90650.65,
                          "xBinEnd": 97125.625,
                          "yBinStart": 551,
                          "yBinEnd": 565.5
                        },
                        {
                          "count": 1,
                          "xBinStart": 97125.625,
                          "xBinEnd": 103600.6,
                          "yBinStart": -0.58,
                          "yBinEnd": 14.5
                        },
                        {
                          "count": 6,
                          "xBinStart": 97125.625,
                          "xBinEnd": 103600.6,
                          "yBinStart": 14.5,
                          "yBinEnd": 29
                        },
                        {
                          "count": 5,
                          "xBinStart": 97125.625,
                          "xBinEnd": 103600.6,
                          "yBinStart": 29,
                          "yBinEnd": 43.5
                        },
                        {
                          "count": 3,
                          "xBinStart": 97125.625,
                          "xBinEnd": 103600.6,
                          "yBinStart": 116,
                          "yBinEnd": 130.5
                        },
                        {
                          "count": 1,
                          "xBinStart": 97125.625,
                          "xBinEnd": 103600.6,
                          "yBinStart": 130.5,
                          "yBinEnd": 145
                        },
                        {
                          "count": 1,
                          "xBinStart": 97125.625,
                          "xBinEnd": 103600.6,
                          "yBinStart": 159.5,
                          "yBinEnd": 174
                        },
                        {
                          "count": 4,
                          "xBinStart": 97125.625,
                          "xBinEnd": 103600.6,
                          "yBinStart": 188.5,
                          "yBinEnd": 203
                        },
                        {
                          "count": 1,
                          "xBinStart": 103600.6,
                          "xBinEnd": 110075.575,
                          "yBinStart": -0.58,
                          "yBinEnd": 14.5
                        },
                        {
                          "count": 5,
                          "xBinStart": 103600.6,
                          "xBinEnd": 110075.575,
                          "yBinStart": 14.5,
                          "yBinEnd": 29
                        },
                        {
                          "count": 3,
                          "xBinStart": 103600.6,
                          "xBinEnd": 110075.575,
                          "yBinStart": 29,
                          "yBinEnd": 43.5
                        },
                        {
                          "count": 1,
                          "xBinStart": 103600.6,
                          "xBinEnd": 110075.575,
                          "yBinStart": 116,
                          "yBinEnd": 130.5
                        },
                        {
                          "count": 2,
                          "xBinStart": 103600.6,
                          "xBinEnd": 110075.575,
                          "yBinStart": 203,
                          "yBinEnd": 217.5
                        },
                        {
                          "count": 2,
                          "xBinStart": 103600.6,
                          "xBinEnd": 110075.575,
                          "yBinStart": 261,
                          "yBinEnd": 275.5
                        },
                        {
                          "count": 1,
                          "xBinStart": 103600.6,
                          "xBinEnd": 110075.575,
                          "yBinStart": 551,
                          "yBinEnd": 565.5
                        },
                        {
                          "count": 1,
                          "xBinStart": 110075.575,
                          "xBinEnd": 116550.55,
                          "yBinStart": -0.58,
                          "yBinEnd": 14.5
                        },
                        {
                          "count": 6,
                          "xBinStart": 110075.575,
                          "xBinEnd": 116550.55,
                          "yBinStart": 14.5,
                          "yBinEnd": 29
                        },
                        {
                          "count": 1,
                          "xBinStart": 110075.575,
                          "xBinEnd": 116550.55,
                          "yBinStart": 29,
                          "yBinEnd": 43.5
                        },
                        {
                          "count": 1,
                          "xBinStart": 110075.575,
                          "xBinEnd": 116550.55,
                          "yBinStart": 116,
                          "yBinEnd": 130.5
                        },
                        {
                          "count": 2,
                          "xBinStart": 110075.575,
                          "xBinEnd": 116550.55,
                          "yBinStart": 130.5,
                          "yBinEnd": 145
                        },
                        {
                          "count": 1,
                          "xBinStart": 110075.575,
                          "xBinEnd": 116550.55,
                          "yBinStart": 159.5,
                          "yBinEnd": 174
                        },
                        {
                          "count": 2,
                          "xBinStart": 116550.55,
                          "xBinEnd": 123025.525,
                          "yBinStart": 14.5,
                          "yBinEnd": 29
                        },
                        {
                          "count": 1,
                          "xBinStart": 116550.55,
                          "xBinEnd": 123025.525,
                          "yBinStart": 116,
                          "yBinEnd": 130.5
                        },
                        {
                          "count": 1,
                          "xBinStart": 116550.55,
                          "xBinEnd": 123025.525,
                          "yBinStart": 130.5,
                          "yBinEnd": 145
                        },
                        {
                          "count": 1,
                          "xBinStart": 116550.55,
                          "xBinEnd": 123025.525,
                          "yBinStart": 188.5,
                          "yBinEnd": 203
                        },
                        {
                          "count": 1,
                          "xBinStart": 116550.55,
                          "xBinEnd": 123025.525,
                          "yBinStart": 290,
                          "yBinEnd": 304.5
                        },
                        {
                          "count": 6,
                          "xBinStart": 123025.525,
                          "xBinEnd": 129500.5,
                          "yBinStart": 14.5,
                          "yBinEnd": 29
                        },
                        {
                          "count": 2,
                          "xBinStart": 123025.525,
                          "xBinEnd": 129500.5,
                          "yBinStart": 116,
                          "yBinEnd": 130.5
                        },
                        {
                          "count": 1,
                          "xBinStart": 123025.525,
                          "xBinEnd": 129500.5,
                          "yBinStart": 130.5,
                          "yBinEnd": 145
                        },
                        {
                          "count": 1,
                          "xBinStart": 123025.525,
                          "xBinEnd": 129500.5,
                          "yBinStart": 145,
                          "yBinEnd": 159.5
                        },
                        {
                          "count": 1,
                          "xBinStart": 123025.525,
                          "xBinEnd": 129500.5,
                          "yBinStart": 551,
                          "yBinEnd": 565.5
                        },
                        {
                          "count": 1,
                          "xBinStart": 129500.5,
                          "xBinEnd": 135975.475,
                          "yBinStart": -0.58,
                          "yBinEnd": 14.5
                        },
                        {
                          "count": 1,
                          "xBinStart": 129500.5,
                          "xBinEnd": 135975.475,
                          "yBinStart": 116,
                          "yBinEnd": 130.5
                        },
                        {
                          "count": 1,
                          "xBinStart": 129500.5,
                          "xBinEnd": 135975.475,
                          "yBinStart": 551,
                          "yBinEnd": 565.5
                        },
                        {
                          "count": 1,
                          "xBinStart": 135975.475,
                          "xBinEnd": 142450.45,
                          "yBinStart": -0.58,
                          "yBinEnd": 14.5
                        },
                        {
                          "count": 1,
                          "xBinStart": 135975.475,
                          "xBinEnd": 142450.45,
                          "yBinStart": 14.5,
                          "yBinEnd": 29
                        },
                        {
                          "count": 2,
                          "xBinStart": 135975.475,
                          "xBinEnd": 142450.45,
                          "yBinStart": 29,
                          "yBinEnd": 43.5
                        },
                        {
                          "count": 1,
                          "xBinStart": 135975.475,
                          "xBinEnd": 142450.45,
                          "yBinStart": 145,
                          "yBinEnd": 159.5
                        },
                        {
                          "count": 1,
                          "xBinStart": 142450.45,
                          "xBinEnd": 148925.425,
                          "yBinStart": 203,
                          "yBinEnd": 217.5
                        },
                        {
                          "count": 1,
                          "xBinStart": 148925.425,
                          "xBinEnd": 155400.4,
                          "yBinStart": 14.5,
                          "yBinEnd": 29
                        },
                        {
                          "count": 2,
                          "xBinStart": 148925.425,
                          "xBinEnd": 155400.4,
                          "yBinStart": 29,
                          "yBinEnd": 43.5
                        },
                        {
                          "count": 1,
                          "xBinStart": 155400.4,
                          "xBinEnd": 161875.375,
                          "yBinStart": 536.5,
                          "yBinEnd": 551
                        },
                        {
                          "count": 1,
                          "xBinStart": 161875.375,
                          "xBinEnd": 168350.35,
                          "yBinStart": 29,
                          "yBinEnd": 43.5
                        },
                        {
                          "count": 1,
                          "xBinStart": 168350.35,
                          "xBinEnd": 174825.325,
                          "yBinStart": 130.5,
                          "yBinEnd": 145
                        },
                        {
                          "count": 1,
                          "xBinStart": 239575.075,
                          "xBinEnd": 246050.05,
                          "yBinStart": 14.5,
                          "yBinEnd": 29
                        },
                        {
                          "count": 1,
                          "xBinStart": 252525.025,
                          "xBinEnd": 259000,
                          "yBinStart": 536.5,
                          "yBinEnd": 551
                        }
                      ]
                    },
                    "vislib": "vegalite"
                  },
                  {
                    "config": {
                      "view": {
                        "continuousWidth": 400,
                        "continuousHeight": 300
                      },
                      "axis": {
                        "labelColor": "#505050",
                        "labelFont": "Helvetica Neue",
                        "labelFontSize": 9,
                        "labelFontWeight": 400,
                        "titleFont": "Helvetica Neue",
                        "titleFontSize": 11,
                        "titleFontWeight": 500
                      },
                      "legend": {
                        "labelFont": "Helvetica Neue",
                        "labelFontSize": 9,
                        "labelFontWeight": 400,
                        "titleFont": "Helvetica Neue",
                        "titleFontSize": 10,
                        "titleFontWeight": 500
                      },
                      "mark": {
                        "tooltip": {
                          "content": "encoding"
                        }
                      },
                      "scale": {
                        "maxOpacity": 1,
                        "minOpacity": 0.1
                      },
                      "title": {
                        "font": "Helvetica Neue",
                        "fontSize": 13,
                        "fontWeight": 500
                      }
                    },
                    "data": {
                      "name": "data-d80485cd42aa3614b68caf51f56b34c6"
                    },
                    "mark": "rect",
                    "encoding": {
                      "opacity": {
                        "field": "count",
                        "legend": null,
                        "scale": {
                          "type": "log"
                        },
                        "type": "quantitative"
                      },
                      "x": {
                        "axis": {
                          "title": "mpg"
                        },
                        "bin": {
                          "binned": true
                        },
                        "field": "xBinStart",
                        "type": "quantitative"
                      },
                      "x2": {
                        "field": "xBinEnd"
                      },
                      "y": {
                        "axis": {
                          "title": "price"
                        },
                        "bin": {
                          "binned": true
                        },
                        "field": "yBinStart",
                        "type": "quantitative"
                      },
                      "y2": {
                        "field": "yBinEnd"
                      }
                    },
                    "height": 150,
                    "selection": {
                      "selector004": {
                        "type": "interval",
                        "bind": "scales",
                        "encodings": [
                          "x",
                          "y"
                        ]
                      }
                    },
                    "width": 160,
                    "$schema": "https://vega.github.io/schema/vega-lite/v4.17.0.json",
                    "datasets": {
                      "data-d80485cd42aa3614b68caf51f56b34c6": [
                        {
                          "count": 3,
                          "xBinStart": 0.884,
                          "xBinEnd": 6.505,
                          "yBinStart": 29113.575,
                          "yBinEnd": 33079.8
                        },
                        {
                          "count": 1,
                          "xBinStart": 0.884,
                          "xBinEnd": 6.505,
                          "yBinStart": 33079.8,
                          "yBinEnd": 37046.025
                        },
                        {
                          "count": 1,
                          "xBinStart": 6.505,
                          "xBinEnd": 11.91,
                          "yBinStart": 100505.625,
                          "yBinEnd": 104471.85
                        },
                        {
                          "count": 1,
                          "xBinStart": 17.315,
                          "xBinEnd": 22.72,
                          "yBinStart": 25147.35,
                          "yBinEnd": 29113.575
                        },
                        {
                          "count": 2,
                          "xBinStart": 17.315,
                          "xBinEnd": 22.72,
                          "yBinStart": 60843.375,
                          "yBinEnd": 64809.6
                        },
                        {
                          "count": 4,
                          "xBinStart": 17.315,
                          "xBinEnd": 22.72,
                          "yBinStart": 64809.6,
                          "yBinEnd": 68775.825
                        },
                        {
                          "count": 4,
                          "xBinStart": 17.315,
                          "xBinEnd": 22.72,
                          "yBinStart": 68775.825,
                          "yBinEnd": 72742.05
                        },
                        {
                          "count": 9,
                          "xBinStart": 17.315,
                          "xBinEnd": 22.72,
                          "yBinStart": 72742.05,
                          "yBinEnd": 76708.275
                        },
                        {
                          "count": 1,
                          "xBinStart": 17.315,
                          "xBinEnd": 22.72,
                          "yBinStart": 76708.275,
                          "yBinEnd": 80674.5
                        },
                        {
                          "count": 2,
                          "xBinStart": 17.315,
                          "xBinEnd": 22.72,
                          "yBinStart": 96539.4,
                          "yBinEnd": 100505.625
                        },
                        {
                          "count": 2,
                          "xBinStart": 17.315,
                          "xBinEnd": 22.72,
                          "yBinStart": 104471.85,
                          "yBinEnd": 108438.075
                        },
                        {
                          "count": 1,
                          "xBinStart": 17.315,
                          "xBinEnd": 22.72,
                          "yBinStart": 108438.075,
                          "yBinEnd": 112404.3
                        },
                        {
                          "count": 1,
                          "xBinStart": 17.315,
                          "xBinEnd": 22.72,
                          "yBinStart": 112404.3,
                          "yBinEnd": 116370.525
                        },
                        {
                          "count": 1,
                          "xBinStart": 17.315,
                          "xBinEnd": 22.72,
                          "yBinStart": 120336.75,
                          "yBinEnd": 124302.975
                        },
                        {
                          "count": 2,
                          "xBinStart": 17.315,
                          "xBinEnd": 22.72,
                          "yBinStart": 132235.425,
                          "yBinEnd": 136201.65
                        },
                        {
                          "count": 4,
                          "xBinStart": 17.315,
                          "xBinEnd": 22.72,
                          "yBinStart": 136201.65,
                          "yBinEnd": 140167.875
                        },
                        {
                          "count": 1,
                          "xBinStart": 17.315,
                          "xBinEnd": 22.72,
                          "yBinStart": 140167.875,
                          "yBinEnd": 144134.1
                        },
                        {
                          "count": 1,
                          "xBinStart": 17.315,
                          "xBinEnd": 22.72,
                          "yBinStart": 148100.325,
                          "yBinEnd": 152066.55
                        },
                        {
                          "count": 1,
                          "xBinStart": 17.315,
                          "xBinEnd": 22.72,
                          "yBinStart": 152066.55,
                          "yBinEnd": 156032.775
                        },
                        {
                          "count": 1,
                          "xBinStart": 17.315,
                          "xBinEnd": 22.72,
                          "yBinStart": 156032.775,
                          "yBinEnd": 159999
                        },
                        {
                          "count": 6,
                          "xBinStart": 22.72,
                          "xBinEnd": 28.125,
                          "yBinStart": 21181.125,
                          "yBinEnd": 25147.35
                        },
                        {
                          "count": 3,
                          "xBinStart": 22.72,
                          "xBinEnd": 28.125,
                          "yBinStart": 25147.35,
                          "yBinEnd": 29113.575
                        },
                        {
                          "count": 2,
                          "xBinStart": 22.72,
                          "xBinEnd": 28.125,
                          "yBinStart": 29113.575,
                          "yBinEnd": 33079.8
                        },
                        {
                          "count": 1,
                          "xBinStart": 22.72,
                          "xBinEnd": 28.125,
                          "yBinStart": 33079.8,
                          "yBinEnd": 37046.025
                        },
                        {
                          "count": 4,
                          "xBinStart": 22.72,
                          "xBinEnd": 28.125,
                          "yBinStart": 41012.25,
                          "yBinEnd": 44978.475
                        },
                        {
                          "count": 15,
                          "xBinStart": 22.72,
                          "xBinEnd": 28.125,
                          "yBinStart": 44978.475,
                          "yBinEnd": 48944.7
                        },
                        {
                          "count": 21,
                          "xBinStart": 22.72,
                          "xBinEnd": 28.125,
                          "yBinStart": 48944.7,
                          "yBinEnd": 52910.925
                        },
                        {
                          "count": 13,
                          "xBinStart": 22.72,
                          "xBinEnd": 28.125,
                          "yBinStart": 52910.925,
                          "yBinEnd": 56877.15
                        },
                        {
                          "count": 9,
                          "xBinStart": 22.72,
                          "xBinEnd": 28.125,
                          "yBinStart": 56877.15,
                          "yBinEnd": 60843.375
                        },
                        {
                          "count": 6,
                          "xBinStart": 22.72,
                          "xBinEnd": 28.125,
                          "yBinStart": 60843.375,
                          "yBinEnd": 64809.6
                        },
                        {
                          "count": 17,
                          "xBinStart": 22.72,
                          "xBinEnd": 28.125,
                          "yBinStart": 64809.6,
                          "yBinEnd": 68775.825
                        },
                        {
                          "count": 8,
                          "xBinStart": 22.72,
                          "xBinEnd": 28.125,
                          "yBinStart": 68775.825,
                          "yBinEnd": 72742.05
                        },
                        {
                          "count": 3,
                          "xBinStart": 22.72,
                          "xBinEnd": 28.125,
                          "yBinStart": 72742.05,
                          "yBinEnd": 76708.275
                        },
                        {
                          "count": 8,
                          "xBinStart": 22.72,
                          "xBinEnd": 28.125,
                          "yBinStart": 76708.275,
                          "yBinEnd": 80674.5
                        },
                        {
                          "count": 1,
                          "xBinStart": 22.72,
                          "xBinEnd": 28.125,
                          "yBinStart": 80674.5,
                          "yBinEnd": 84640.725
                        },
                        {
                          "count": 1,
                          "xBinStart": 22.72,
                          "xBinEnd": 28.125,
                          "yBinStart": 84640.725,
                          "yBinEnd": 88606.95
                        },
                        {
                          "count": 4,
                          "xBinStart": 22.72,
                          "xBinEnd": 28.125,
                          "yBinStart": 88606.95,
                          "yBinEnd": 92573.175
                        },
                        {
                          "count": 1,
                          "xBinStart": 22.72,
                          "xBinEnd": 28.125,
                          "yBinStart": 92573.175,
                          "yBinEnd": 96539.4
                        },
                        {
                          "count": 1,
                          "xBinStart": 22.72,
                          "xBinEnd": 28.125,
                          "yBinStart": 96539.4,
                          "yBinEnd": 100505.625
                        },
                        {
                          "count": 2,
                          "xBinStart": 22.72,
                          "xBinEnd": 28.125,
                          "yBinStart": 108438.075,
                          "yBinEnd": 112404.3
                        },
                        {
                          "count": 3,
                          "xBinStart": 22.72,
                          "xBinEnd": 28.125,
                          "yBinStart": 124302.975,
                          "yBinEnd": 128269.2
                        },
                        {
                          "count": 1,
                          "xBinStart": 22.72,
                          "xBinEnd": 28.125,
                          "yBinStart": 128269.2,
                          "yBinEnd": 132235.425
                        },
                        {
                          "count": 1,
                          "xBinStart": 22.72,
                          "xBinEnd": 28.125,
                          "yBinStart": 132235.425,
                          "yBinEnd": 136201.65
                        },
                        {
                          "count": 5,
                          "xBinStart": 28.125,
                          "xBinEnd": 33.53,
                          "yBinStart": 5316.225,
                          "yBinEnd": 9282.45
                        },
                        {
                          "count": 7,
                          "xBinStart": 28.125,
                          "xBinEnd": 33.53,
                          "yBinStart": 9282.45,
                          "yBinEnd": 13248.675
                        },
                        {
                          "count": 2,
                          "xBinStart": 28.125,
                          "xBinEnd": 33.53,
                          "yBinStart": 13248.675,
                          "yBinEnd": 17214.9
                        },
                        {
                          "count": 54,
                          "xBinStart": 28.125,
                          "xBinEnd": 33.53,
                          "yBinStart": 17214.9,
                          "yBinEnd": 21181.125
                        },
                        {
                          "count": 45,
                          "xBinStart": 28.125,
                          "xBinEnd": 33.53,
                          "yBinStart": 21181.125,
                          "yBinEnd": 25147.35
                        },
                        {
                          "count": 27,
                          "xBinStart": 28.125,
                          "xBinEnd": 33.53,
                          "yBinStart": 25147.35,
                          "yBinEnd": 29113.575
                        },
                        {
                          "count": 12,
                          "xBinStart": 28.125,
                          "xBinEnd": 33.53,
                          "yBinStart": 29113.575,
                          "yBinEnd": 33079.8
                        },
                        {
                          "count": 22,
                          "xBinStart": 28.125,
                          "xBinEnd": 33.53,
                          "yBinStart": 33079.8,
                          "yBinEnd": 37046.025
                        },
                        {
                          "count": 81,
                          "xBinStart": 28.125,
                          "xBinEnd": 33.53,
                          "yBinStart": 37046.025,
                          "yBinEnd": 41012.25
                        },
                        {
                          "count": 85,
                          "xBinStart": 28.125,
                          "xBinEnd": 33.53,
                          "yBinStart": 41012.25,
                          "yBinEnd": 44978.475
                        },
                        {
                          "count": 57,
                          "xBinStart": 28.125,
                          "xBinEnd": 33.53,
                          "yBinStart": 44978.475,
                          "yBinEnd": 48944.7
                        },
                        {
                          "count": 66,
                          "xBinStart": 28.125,
                          "xBinEnd": 33.53,
                          "yBinStart": 48944.7,
                          "yBinEnd": 52910.925
                        },
                        {
                          "count": 66,
                          "xBinStart": 28.125,
                          "xBinEnd": 33.53,
                          "yBinStart": 52910.925,
                          "yBinEnd": 56877.15
                        },
                        {
                          "count": 48,
                          "xBinStart": 28.125,
                          "xBinEnd": 33.53,
                          "yBinStart": 56877.15,
                          "yBinEnd": 60843.375
                        },
                        {
                          "count": 11,
                          "xBinStart": 28.125,
                          "xBinEnd": 33.53,
                          "yBinStart": 60843.375,
                          "yBinEnd": 64809.6
                        },
                        {
                          "count": 12,
                          "xBinStart": 28.125,
                          "xBinEnd": 33.53,
                          "yBinStart": 64809.6,
                          "yBinEnd": 68775.825
                        },
                        {
                          "count": 6,
                          "xBinStart": 28.125,
                          "xBinEnd": 33.53,
                          "yBinStart": 68775.825,
                          "yBinEnd": 72742.05
                        },
                        {
                          "count": 4,
                          "xBinStart": 28.125,
                          "xBinEnd": 33.53,
                          "yBinStart": 72742.05,
                          "yBinEnd": 76708.275
                        },
                        {
                          "count": 7,
                          "xBinStart": 28.125,
                          "xBinEnd": 33.53,
                          "yBinStart": 76708.275,
                          "yBinEnd": 80674.5
                        },
                        {
                          "count": 1,
                          "xBinStart": 28.125,
                          "xBinEnd": 33.53,
                          "yBinStart": 80674.5,
                          "yBinEnd": 84640.725
                        },
                        {
                          "count": 1,
                          "xBinStart": 28.125,
                          "xBinEnd": 33.53,
                          "yBinStart": 88606.95,
                          "yBinEnd": 92573.175
                        },
                        {
                          "count": 1,
                          "xBinStart": 28.125,
                          "xBinEnd": 33.53,
                          "yBinStart": 96539.4,
                          "yBinEnd": 100505.625
                        },
                        {
                          "count": 1,
                          "xBinStart": 28.125,
                          "xBinEnd": 33.53,
                          "yBinStart": 100505.625,
                          "yBinEnd": 104471.85
                        },
                        {
                          "count": 1,
                          "xBinStart": 28.125,
                          "xBinEnd": 33.53,
                          "yBinStart": 104471.85,
                          "yBinEnd": 108438.075
                        },
                        {
                          "count": 1,
                          "xBinStart": 28.125,
                          "xBinEnd": 33.53,
                          "yBinStart": 108438.075,
                          "yBinEnd": 112404.3
                        },
                        {
                          "count": 1,
                          "xBinStart": 28.125,
                          "xBinEnd": 33.53,
                          "yBinStart": 112404.3,
                          "yBinEnd": 116370.525
                        },
                        {
                          "count": 1,
                          "xBinStart": 28.125,
                          "xBinEnd": 33.53,
                          "yBinStart": 124302.975,
                          "yBinEnd": 128269.2
                        },
                        {
                          "count": 1,
                          "xBinStart": 33.53,
                          "xBinEnd": 38.935,
                          "yBinStart": 1191.351,
                          "yBinEnd": 5316.225
                        },
                        {
                          "count": 6,
                          "xBinStart": 33.53,
                          "xBinEnd": 38.935,
                          "yBinStart": 5316.225,
                          "yBinEnd": 9282.45
                        },
                        {
                          "count": 2,
                          "xBinStart": 33.53,
                          "xBinEnd": 38.935,
                          "yBinStart": 9282.45,
                          "yBinEnd": 13248.675
                        },
                        {
                          "count": 3,
                          "xBinStart": 33.53,
                          "xBinEnd": 38.935,
                          "yBinStart": 13248.675,
                          "yBinEnd": 17214.9
                        },
                        {
                          "count": 6,
                          "xBinStart": 33.53,
                          "xBinEnd": 38.935,
                          "yBinStart": 17214.9,
                          "yBinEnd": 21181.125
                        },
                        {
                          "count": 57,
                          "xBinStart": 33.53,
                          "xBinEnd": 38.935,
                          "yBinStart": 21181.125,
                          "yBinEnd": 25147.35
                        },
                        {
                          "count": 126,
                          "xBinStart": 33.53,
                          "xBinEnd": 38.935,
                          "yBinStart": 25147.35,
                          "yBinEnd": 29113.575
                        },
                        {
                          "count": 117,
                          "xBinStart": 33.53,
                          "xBinEnd": 38.935,
                          "yBinStart": 29113.575,
                          "yBinEnd": 33079.8
                        },
                        {
                          "count": 108,
                          "xBinStart": 33.53,
                          "xBinEnd": 38.935,
                          "yBinStart": 33079.8,
                          "yBinEnd": 37046.025
                        },
                        {
                          "count": 51,
                          "xBinStart": 33.53,
                          "xBinEnd": 38.935,
                          "yBinStart": 37046.025,
                          "yBinEnd": 41012.25
                        },
                        {
                          "count": 54,
                          "xBinStart": 33.53,
                          "xBinEnd": 38.935,
                          "yBinStart": 41012.25,
                          "yBinEnd": 44978.475
                        },
                        {
                          "count": 104,
                          "xBinStart": 33.53,
                          "xBinEnd": 38.935,
                          "yBinStart": 44978.475,
                          "yBinEnd": 48944.7
                        },
                        {
                          "count": 52,
                          "xBinStart": 33.53,
                          "xBinEnd": 38.935,
                          "yBinStart": 48944.7,
                          "yBinEnd": 52910.925
                        },
                        {
                          "count": 7,
                          "xBinStart": 33.53,
                          "xBinEnd": 38.935,
                          "yBinStart": 52910.925,
                          "yBinEnd": 56877.15
                        },
                        {
                          "count": 6,
                          "xBinStart": 33.53,
                          "xBinEnd": 38.935,
                          "yBinStart": 56877.15,
                          "yBinEnd": 60843.375
                        },
                        {
                          "count": 2,
                          "xBinStart": 33.53,
                          "xBinEnd": 38.935,
                          "yBinStart": 60843.375,
                          "yBinEnd": 64809.6
                        },
                        {
                          "count": 1,
                          "xBinStart": 33.53,
                          "xBinEnd": 38.935,
                          "yBinStart": 64809.6,
                          "yBinEnd": 68775.825
                        },
                        {
                          "count": 1,
                          "xBinStart": 33.53,
                          "xBinEnd": 38.935,
                          "yBinStart": 72742.05,
                          "yBinEnd": 76708.275
                        },
                        {
                          "count": 2,
                          "xBinStart": 33.53,
                          "xBinEnd": 38.935,
                          "yBinStart": 76708.275,
                          "yBinEnd": 80674.5
                        },
                        {
                          "count": 1,
                          "xBinStart": 33.53,
                          "xBinEnd": 38.935,
                          "yBinStart": 80674.5,
                          "yBinEnd": 84640.725
                        },
                        {
                          "count": 3,
                          "xBinStart": 33.53,
                          "xBinEnd": 38.935,
                          "yBinStart": 84640.725,
                          "yBinEnd": 88606.95
                        },
                        {
                          "count": 2,
                          "xBinStart": 33.53,
                          "xBinEnd": 38.935,
                          "yBinStart": 88606.95,
                          "yBinEnd": 92573.175
                        },
                        {
                          "count": 2,
                          "xBinStart": 33.53,
                          "xBinEnd": 38.935,
                          "yBinStart": 92573.175,
                          "yBinEnd": 96539.4
                        },
                        {
                          "count": 5,
                          "xBinStart": 38.935,
                          "xBinEnd": 44.34,
                          "yBinStart": 1191.351,
                          "yBinEnd": 5316.225
                        },
                        {
                          "count": 15,
                          "xBinStart": 38.935,
                          "xBinEnd": 44.34,
                          "yBinStart": 5316.225,
                          "yBinEnd": 9282.45
                        },
                        {
                          "count": 17,
                          "xBinStart": 38.935,
                          "xBinEnd": 44.34,
                          "yBinStart": 9282.45,
                          "yBinEnd": 13248.675
                        },
                        {
                          "count": 35,
                          "xBinStart": 38.935,
                          "xBinEnd": 44.34,
                          "yBinStart": 13248.675,
                          "yBinEnd": 17214.9
                        },
                        {
                          "count": 103,
                          "xBinStart": 38.935,
                          "xBinEnd": 44.34,
                          "yBinStart": 17214.9,
                          "yBinEnd": 21181.125
                        },
                        {
                          "count": 143,
                          "xBinStart": 38.935,
                          "xBinEnd": 44.34,
                          "yBinStart": 21181.125,
                          "yBinEnd": 25147.35
                        },
                        {
                          "count": 240,
                          "xBinStart": 38.935,
                          "xBinEnd": 44.34,
                          "yBinStart": 25147.35,
                          "yBinEnd": 29113.575
                        },
                        {
                          "count": 260,
                          "xBinStart": 38.935,
                          "xBinEnd": 44.34,
                          "yBinStart": 29113.575,
                          "yBinEnd": 33079.8
                        },
                        {
                          "count": 145,
                          "xBinStart": 38.935,
                          "xBinEnd": 44.34,
                          "yBinStart": 33079.8,
                          "yBinEnd": 37046.025
                        },
                        {
                          "count": 101,
                          "xBinStart": 38.935,
                          "xBinEnd": 44.34,
                          "yBinStart": 37046.025,
                          "yBinEnd": 41012.25
                        },
                        {
                          "count": 60,
                          "xBinStart": 38.935,
                          "xBinEnd": 44.34,
                          "yBinStart": 41012.25,
                          "yBinEnd": 44978.475
                        },
                        {
                          "count": 14,
                          "xBinStart": 38.935,
                          "xBinEnd": 44.34,
                          "yBinStart": 44978.475,
                          "yBinEnd": 48944.7
                        },
                        {
                          "count": 3,
                          "xBinStart": 38.935,
                          "xBinEnd": 44.34,
                          "yBinStart": 48944.7,
                          "yBinEnd": 52910.925
                        },
                        {
                          "count": 4,
                          "xBinStart": 38.935,
                          "xBinEnd": 44.34,
                          "yBinStart": 52910.925,
                          "yBinEnd": 56877.15
                        },
                        {
                          "count": 2,
                          "xBinStart": 38.935,
                          "xBinEnd": 44.34,
                          "yBinStart": 56877.15,
                          "yBinEnd": 60843.375
                        },
                        {
                          "count": 1,
                          "xBinStart": 38.935,
                          "xBinEnd": 44.34,
                          "yBinStart": 60843.375,
                          "yBinEnd": 64809.6
                        },
                        {
                          "count": 3,
                          "xBinStart": 38.935,
                          "xBinEnd": 44.34,
                          "yBinStart": 64809.6,
                          "yBinEnd": 68775.825
                        },
                        {
                          "count": 1,
                          "xBinStart": 44.34,
                          "xBinEnd": 49.745,
                          "yBinStart": 1191.351,
                          "yBinEnd": 5316.225
                        },
                        {
                          "count": 18,
                          "xBinStart": 44.34,
                          "xBinEnd": 49.745,
                          "yBinStart": 5316.225,
                          "yBinEnd": 9282.45
                        },
                        {
                          "count": 60,
                          "xBinStart": 44.34,
                          "xBinEnd": 49.745,
                          "yBinStart": 9282.45,
                          "yBinEnd": 13248.675
                        },
                        {
                          "count": 104,
                          "xBinStart": 44.34,
                          "xBinEnd": 49.745,
                          "yBinStart": 13248.675,
                          "yBinEnd": 17214.9
                        },
                        {
                          "count": 329,
                          "xBinStart": 44.34,
                          "xBinEnd": 49.745,
                          "yBinStart": 17214.9,
                          "yBinEnd": 21181.125
                        },
                        {
                          "count": 423,
                          "xBinStart": 44.34,
                          "xBinEnd": 49.745,
                          "yBinStart": 21181.125,
                          "yBinEnd": 25147.35
                        },
                        {
                          "count": 355,
                          "xBinStart": 44.34,
                          "xBinEnd": 49.745,
                          "yBinStart": 25147.35,
                          "yBinEnd": 29113.575
                        },
                        {
                          "count": 235,
                          "xBinStart": 44.34,
                          "xBinEnd": 49.745,
                          "yBinStart": 29113.575,
                          "yBinEnd": 33079.8
                        },
                        {
                          "count": 166,
                          "xBinStart": 44.34,
                          "xBinEnd": 49.745,
                          "yBinStart": 33079.8,
                          "yBinEnd": 37046.025
                        },
                        {
                          "count": 90,
                          "xBinStart": 44.34,
                          "xBinEnd": 49.745,
                          "yBinStart": 37046.025,
                          "yBinEnd": 41012.25
                        },
                        {
                          "count": 37,
                          "xBinStart": 44.34,
                          "xBinEnd": 49.745,
                          "yBinStart": 41012.25,
                          "yBinEnd": 44978.475
                        },
                        {
                          "count": 35,
                          "xBinStart": 44.34,
                          "xBinEnd": 49.745,
                          "yBinStart": 44978.475,
                          "yBinEnd": 48944.7
                        },
                        {
                          "count": 8,
                          "xBinStart": 44.34,
                          "xBinEnd": 49.745,
                          "yBinStart": 48944.7,
                          "yBinEnd": 52910.925
                        },
                        {
                          "count": 2,
                          "xBinStart": 44.34,
                          "xBinEnd": 49.745,
                          "yBinStart": 52910.925,
                          "yBinEnd": 56877.15
                        },
                        {
                          "count": 7,
                          "xBinStart": 44.34,
                          "xBinEnd": 49.745,
                          "yBinStart": 56877.15,
                          "yBinEnd": 60843.375
                        },
                        {
                          "count": 5,
                          "xBinStart": 44.34,
                          "xBinEnd": 49.745,
                          "yBinStart": 60843.375,
                          "yBinEnd": 64809.6
                        },
                        {
                          "count": 6,
                          "xBinStart": 49.745,
                          "xBinEnd": 55.15,
                          "yBinStart": 1191.351,
                          "yBinEnd": 5316.225
                        },
                        {
                          "count": 13,
                          "xBinStart": 49.745,
                          "xBinEnd": 55.15,
                          "yBinStart": 5316.225,
                          "yBinEnd": 9282.45
                        },
                        {
                          "count": 139,
                          "xBinStart": 49.745,
                          "xBinEnd": 55.15,
                          "yBinStart": 9282.45,
                          "yBinEnd": 13248.675
                        },
                        {
                          "count": 279,
                          "xBinStart": 49.745,
                          "xBinEnd": 55.15,
                          "yBinStart": 13248.675,
                          "yBinEnd": 17214.9
                        },
                        {
                          "count": 347,
                          "xBinStart": 49.745,
                          "xBinEnd": 55.15,
                          "yBinStart": 17214.9,
                          "yBinEnd": 21181.125
                        },
                        {
                          "count": 222,
                          "xBinStart": 49.745,
                          "xBinEnd": 55.15,
                          "yBinStart": 21181.125,
                          "yBinEnd": 25147.35
                        },
                        {
                          "count": 237,
                          "xBinStart": 49.745,
                          "xBinEnd": 55.15,
                          "yBinStart": 25147.35,
                          "yBinEnd": 29113.575
                        },
                        {
                          "count": 92,
                          "xBinStart": 49.745,
                          "xBinEnd": 55.15,
                          "yBinStart": 29113.575,
                          "yBinEnd": 33079.8
                        },
                        {
                          "count": 16,
                          "xBinStart": 49.745,
                          "xBinEnd": 55.15,
                          "yBinStart": 33079.8,
                          "yBinEnd": 37046.025
                        },
                        {
                          "count": 20,
                          "xBinStart": 49.745,
                          "xBinEnd": 55.15,
                          "yBinStart": 37046.025,
                          "yBinEnd": 41012.25
                        },
                        {
                          "count": 7,
                          "xBinStart": 49.745,
                          "xBinEnd": 55.15,
                          "yBinStart": 41012.25,
                          "yBinEnd": 44978.475
                        },
                        {
                          "count": 15,
                          "xBinStart": 49.745,
                          "xBinEnd": 55.15,
                          "yBinStart": 44978.475,
                          "yBinEnd": 48944.7
                        },
                        {
                          "count": 4,
                          "xBinStart": 49.745,
                          "xBinEnd": 55.15,
                          "yBinStart": 48944.7,
                          "yBinEnd": 52910.925
                        },
                        {
                          "count": 16,
                          "xBinStart": 49.745,
                          "xBinEnd": 55.15,
                          "yBinStart": 52910.925,
                          "yBinEnd": 56877.15
                        },
                        {
                          "count": 4,
                          "xBinStart": 49.745,
                          "xBinEnd": 55.15,
                          "yBinStart": 56877.15,
                          "yBinEnd": 60843.375
                        },
                        {
                          "count": 2,
                          "xBinStart": 49.745,
                          "xBinEnd": 55.15,
                          "yBinStart": 60843.375,
                          "yBinEnd": 64809.6
                        },
                        {
                          "count": 2,
                          "xBinStart": 49.745,
                          "xBinEnd": 55.15,
                          "yBinStart": 64809.6,
                          "yBinEnd": 68775.825
                        },
                        {
                          "count": 27,
                          "xBinStart": 55.15,
                          "xBinEnd": 60.555,
                          "yBinStart": 5316.225,
                          "yBinEnd": 9282.45
                        },
                        {
                          "count": 104,
                          "xBinStart": 55.15,
                          "xBinEnd": 60.555,
                          "yBinStart": 9282.45,
                          "yBinEnd": 13248.675
                        },
                        {
                          "count": 260,
                          "xBinStart": 55.15,
                          "xBinEnd": 60.555,
                          "yBinStart": 13248.675,
                          "yBinEnd": 17214.9
                        },
                        {
                          "count": 438,
                          "xBinStart": 55.15,
                          "xBinEnd": 60.555,
                          "yBinStart": 17214.9,
                          "yBinEnd": 21181.125
                        },
                        {
                          "count": 434,
                          "xBinStart": 55.15,
                          "xBinEnd": 60.555,
                          "yBinStart": 21181.125,
                          "yBinEnd": 25147.35
                        },
                        {
                          "count": 510,
                          "xBinStart": 55.15,
                          "xBinEnd": 60.555,
                          "yBinStart": 25147.35,
                          "yBinEnd": 29113.575
                        },
                        {
                          "count": 278,
                          "xBinStart": 55.15,
                          "xBinEnd": 60.555,
                          "yBinStart": 29113.575,
                          "yBinEnd": 33079.8
                        },
                        {
                          "count": 74,
                          "xBinStart": 55.15,
                          "xBinEnd": 60.555,
                          "yBinStart": 33079.8,
                          "yBinEnd": 37046.025
                        },
                        {
                          "count": 26,
                          "xBinStart": 55.15,
                          "xBinEnd": 60.555,
                          "yBinStart": 37046.025,
                          "yBinEnd": 41012.25
                        },
                        {
                          "count": 12,
                          "xBinStart": 55.15,
                          "xBinEnd": 60.555,
                          "yBinStart": 41012.25,
                          "yBinEnd": 44978.475
                        },
                        {
                          "count": 1,
                          "xBinStart": 55.15,
                          "xBinEnd": 60.555,
                          "yBinStart": 44978.475,
                          "yBinEnd": 48944.7
                        },
                        {
                          "count": 32,
                          "xBinStart": 60.555,
                          "xBinEnd": 65.96,
                          "yBinStart": 5316.225,
                          "yBinEnd": 9282.45
                        },
                        {
                          "count": 183,
                          "xBinStart": 60.555,
                          "xBinEnd": 65.96,
                          "yBinStart": 9282.45,
                          "yBinEnd": 13248.675
                        },
                        {
                          "count": 648,
                          "xBinStart": 60.555,
                          "xBinEnd": 65.96,
                          "yBinStart": 13248.675,
                          "yBinEnd": 17214.9
                        },
                        {
                          "count": 759,
                          "xBinStart": 60.555,
                          "xBinEnd": 65.96,
                          "yBinStart": 17214.9,
                          "yBinEnd": 21181.125
                        },
                        {
                          "count": 423,
                          "xBinStart": 60.555,
                          "xBinEnd": 65.96,
                          "yBinStart": 21181.125,
                          "yBinEnd": 25147.35
                        },
                        {
                          "count": 226,
                          "xBinStart": 60.555,
                          "xBinEnd": 65.96,
                          "yBinStart": 25147.35,
                          "yBinEnd": 29113.575
                        },
                        {
                          "count": 135,
                          "xBinStart": 60.555,
                          "xBinEnd": 65.96,
                          "yBinStart": 29113.575,
                          "yBinEnd": 33079.8
                        },
                        {
                          "count": 35,
                          "xBinStart": 60.555,
                          "xBinEnd": 65.96,
                          "yBinStart": 33079.8,
                          "yBinEnd": 37046.025
                        },
                        {
                          "count": 4,
                          "xBinStart": 60.555,
                          "xBinEnd": 65.96,
                          "yBinStart": 37046.025,
                          "yBinEnd": 41012.25
                        },
                        {
                          "count": 8,
                          "xBinStart": 65.96,
                          "xBinEnd": 71.365,
                          "yBinStart": 5316.225,
                          "yBinEnd": 9282.45
                        },
                        {
                          "count": 181,
                          "xBinStart": 65.96,
                          "xBinEnd": 71.365,
                          "yBinStart": 9282.45,
                          "yBinEnd": 13248.675
                        },
                        {
                          "count": 520,
                          "xBinStart": 65.96,
                          "xBinEnd": 71.365,
                          "yBinStart": 13248.675,
                          "yBinEnd": 17214.9
                        },
                        {
                          "count": 451,
                          "xBinStart": 65.96,
                          "xBinEnd": 71.365,
                          "yBinStart": 17214.9,
                          "yBinEnd": 21181.125
                        },
                        {
                          "count": 268,
                          "xBinStart": 65.96,
                          "xBinEnd": 71.365,
                          "yBinStart": 21181.125,
                          "yBinEnd": 25147.35
                        },
                        {
                          "count": 59,
                          "xBinStart": 65.96,
                          "xBinEnd": 71.365,
                          "yBinStart": 25147.35,
                          "yBinEnd": 29113.575
                        },
                        {
                          "count": 24,
                          "xBinStart": 65.96,
                          "xBinEnd": 71.365,
                          "yBinStart": 29113.575,
                          "yBinEnd": 33079.8
                        },
                        {
                          "count": 19,
                          "xBinStart": 65.96,
                          "xBinEnd": 71.365,
                          "yBinStart": 33079.8,
                          "yBinEnd": 37046.025
                        },
                        {
                          "count": 5,
                          "xBinStart": 65.96,
                          "xBinEnd": 71.365,
                          "yBinStart": 37046.025,
                          "yBinEnd": 41012.25
                        },
                        {
                          "count": 1,
                          "xBinStart": 65.96,
                          "xBinEnd": 71.365,
                          "yBinStart": 41012.25,
                          "yBinEnd": 44978.475
                        },
                        {
                          "count": 2,
                          "xBinStart": 65.96,
                          "xBinEnd": 71.365,
                          "yBinStart": 44978.475,
                          "yBinEnd": 48944.7
                        },
                        {
                          "count": 9,
                          "xBinStart": 71.365,
                          "xBinEnd": 76.77,
                          "yBinStart": 5316.225,
                          "yBinEnd": 9282.45
                        },
                        {
                          "count": 97,
                          "xBinStart": 71.365,
                          "xBinEnd": 76.77,
                          "yBinStart": 9282.45,
                          "yBinEnd": 13248.675
                        },
                        {
                          "count": 211,
                          "xBinStart": 71.365,
                          "xBinEnd": 76.77,
                          "yBinStart": 13248.675,
                          "yBinEnd": 17214.9
                        },
                        {
                          "count": 184,
                          "xBinStart": 71.365,
                          "xBinEnd": 76.77,
                          "yBinStart": 17214.9,
                          "yBinEnd": 21181.125
                        },
                        {
                          "count": 124,
                          "xBinStart": 71.365,
                          "xBinEnd": 76.77,
                          "yBinStart": 21181.125,
                          "yBinEnd": 25147.35
                        },
                        {
                          "count": 85,
                          "xBinStart": 71.365,
                          "xBinEnd": 76.77,
                          "yBinStart": 25147.35,
                          "yBinEnd": 29113.575
                        },
                        {
                          "count": 2,
                          "xBinStart": 71.365,
                          "xBinEnd": 76.77,
                          "yBinStart": 29113.575,
                          "yBinEnd": 33079.8
                        },
                        {
                          "count": 1,
                          "xBinStart": 71.365,
                          "xBinEnd": 76.77,
                          "yBinStart": 33079.8,
                          "yBinEnd": 37046.025
                        },
                        {
                          "count": 2,
                          "xBinStart": 71.365,
                          "xBinEnd": 76.77,
                          "yBinStart": 37046.025,
                          "yBinEnd": 41012.25
                        },
                        {
                          "count": 1,
                          "xBinStart": 76.77,
                          "xBinEnd": 82.175,
                          "yBinStart": 5316.225,
                          "yBinEnd": 9282.45
                        },
                        {
                          "count": 33,
                          "xBinStart": 76.77,
                          "xBinEnd": 82.175,
                          "yBinStart": 9282.45,
                          "yBinEnd": 13248.675
                        },
                        {
                          "count": 11,
                          "xBinStart": 76.77,
                          "xBinEnd": 82.175,
                          "yBinStart": 13248.675,
                          "yBinEnd": 17214.9
                        },
                        {
                          "count": 4,
                          "xBinStart": 76.77,
                          "xBinEnd": 82.175,
                          "yBinStart": 17214.9,
                          "yBinEnd": 21181.125
                        },
                        {
                          "count": 1,
                          "xBinStart": 98.39,
                          "xBinEnd": 103.795,
                          "yBinStart": 44978.475,
                          "yBinEnd": 48944.7
                        },
                        {
                          "count": 2,
                          "xBinStart": 98.39,
                          "xBinEnd": 103.795,
                          "yBinStart": 56877.15,
                          "yBinEnd": 60843.375
                        },
                        {
                          "count": 2,
                          "xBinStart": 120.01,
                          "xBinEnd": 125.415,
                          "yBinStart": 13248.675,
                          "yBinEnd": 17214.9
                        },
                        {
                          "count": 1,
                          "xBinStart": 120.01,
                          "xBinEnd": 125.415,
                          "yBinStart": 17214.9,
                          "yBinEnd": 21181.125
                        },
                        {
                          "count": 1,
                          "xBinStart": 120.01,
                          "xBinEnd": 125.415,
                          "yBinStart": 52910.925,
                          "yBinEnd": 56877.15
                        },
                        {
                          "count": 1,
                          "xBinStart": 130.82,
                          "xBinEnd": 136.225,
                          "yBinStart": 9282.45,
                          "yBinEnd": 13248.675
                        },
                        {
                          "count": 24,
                          "xBinStart": 130.82,
                          "xBinEnd": 136.225,
                          "yBinStart": 13248.675,
                          "yBinEnd": 17214.9
                        },
                        {
                          "count": 55,
                          "xBinStart": 130.82,
                          "xBinEnd": 136.225,
                          "yBinStart": 17214.9,
                          "yBinEnd": 21181.125
                        },
                        {
                          "count": 2,
                          "xBinStart": 130.82,
                          "xBinEnd": 136.225,
                          "yBinStart": 21181.125,
                          "yBinEnd": 25147.35
                        },
                        {
                          "count": 2,
                          "xBinStart": 130.82,
                          "xBinEnd": 136.225,
                          "yBinStart": 33079.8,
                          "yBinEnd": 37046.025
                        },
                        {
                          "count": 1,
                          "xBinStart": 130.82,
                          "xBinEnd": 136.225,
                          "yBinStart": 37046.025,
                          "yBinEnd": 41012.25
                        },
                        {
                          "count": 1,
                          "xBinStart": 174.06,
                          "xBinEnd": 179.465,
                          "yBinStart": 33079.8,
                          "yBinEnd": 37046.025
                        },
                        {
                          "count": 3,
                          "xBinStart": 174.06,
                          "xBinEnd": 179.465,
                          "yBinStart": 41012.25,
                          "yBinEnd": 44978.475
                        },
                        {
                          "count": 3,
                          "xBinStart": 184.87,
                          "xBinEnd": 190.275,
                          "yBinStart": 33079.8,
                          "yBinEnd": 37046.025
                        },
                        {
                          "count": 13,
                          "xBinStart": 184.87,
                          "xBinEnd": 190.275,
                          "yBinStart": 37046.025,
                          "yBinEnd": 41012.25
                        },
                        {
                          "count": 5,
                          "xBinStart": 184.87,
                          "xBinEnd": 190.275,
                          "yBinStart": 41012.25,
                          "yBinEnd": 44978.475
                        },
                        {
                          "count": 1,
                          "xBinStart": 201.085,
                          "xBinEnd": 206.49,
                          "yBinStart": 33079.8,
                          "yBinEnd": 37046.025
                        },
                        {
                          "count": 1,
                          "xBinStart": 211.895,
                          "xBinEnd": 217.3,
                          "yBinStart": 33079.8,
                          "yBinEnd": 37046.025
                        }
                      ]
                    },
                    "vislib": "vegalite"
                  },
                  {
                    "config": {
                      "view": {
                        "continuousWidth": 400,
                        "continuousHeight": 300
                      },
                      "axis": {
                        "labelColor": "#505050",
                        "labelFont": "Helvetica Neue",
                        "labelFontSize": 9,
                        "labelFontWeight": 400,
                        "titleFont": "Helvetica Neue",
                        "titleFontSize": 11,
                        "titleFontWeight": 500
                      },
                      "legend": {
                        "labelFont": "Helvetica Neue",
                        "labelFontSize": 9,
                        "labelFontWeight": 400,
                        "titleFont": "Helvetica Neue",
                        "titleFontSize": 10,
                        "titleFontWeight": 500
                      },
                      "mark": {
                        "tooltip": {
                          "content": "encoding"
                        }
                      },
                      "scale": {
                        "maxOpacity": 1,
                        "minOpacity": 0.1
                      },
                      "title": {
                        "font": "Helvetica Neue",
                        "fontSize": 13,
                        "fontWeight": 500
                      }
                    },
                    "data": {
                      "name": "data-21b9879c56417f389376624de989adde"
                    },
                    "mark": "rect",
                    "encoding": {
                      "opacity": {
                        "field": "count",
                        "legend": null,
                        "scale": {
                          "type": "log"
                        },
                        "type": "quantitative"
                      },
                      "x": {
                        "axis": {
                          "title": "mpg"
                        },
                        "bin": {
                          "binned": true
                        },
                        "field": "xBinStart",
                        "type": "quantitative"
                      },
                      "x2": {
                        "field": "xBinEnd"
                      },
                      "y": {
                        "axis": {
                          "title": "tax"
                        },
                        "bin": {
                          "binned": true
                        },
                        "field": "yBinStart",
                        "type": "quantitative"
                      },
                      "y2": {
                        "field": "yBinEnd"
                      }
                    },
                    "height": 150,
                    "selection": {
                      "selector005": {
                        "type": "interval",
                        "bind": "scales",
                        "encodings": [
                          "x",
                          "y"
                        ]
                      }
                    },
                    "width": 160,
                    "$schema": "https://vega.github.io/schema/vega-lite/v4.17.0.json",
                    "datasets": {
                      "data-21b9879c56417f389376624de989adde": [
                        {
                          "count": 4,
                          "xBinStart": 0.884,
                          "xBinEnd": 6.505,
                          "yBinStart": 130.5,
                          "yBinEnd": 145
                        },
                        {
                          "count": 1,
                          "xBinStart": 6.505,
                          "xBinEnd": 11.91,
                          "yBinStart": 145,
                          "yBinEnd": 159.5
                        },
                        {
                          "count": 29,
                          "xBinStart": 17.315,
                          "xBinEnd": 22.72,
                          "yBinStart": 130.5,
                          "yBinEnd": 145
                        },
                        {
                          "count": 6,
                          "xBinStart": 17.315,
                          "xBinEnd": 22.72,
                          "yBinStart": 145,
                          "yBinEnd": 159.5
                        },
                        {
                          "count": 3,
                          "xBinStart": 17.315,
                          "xBinEnd": 22.72,
                          "yBinStart": 565.5,
                          "yBinEnd": 580
                        },
                        {
                          "count": 102,
                          "xBinStart": 22.72,
                          "xBinEnd": 28.125,
                          "yBinStart": 130.5,
                          "yBinEnd": 145
                        },
                        {
                          "count": 3,
                          "xBinStart": 22.72,
                          "xBinEnd": 28.125,
                          "yBinStart": 145,
                          "yBinEnd": 159.5
                        },
                        {
                          "count": 7,
                          "xBinStart": 22.72,
                          "xBinEnd": 28.125,
                          "yBinStart": 551,
                          "yBinEnd": 565.5
                        },
                        {
                          "count": 19,
                          "xBinStart": 22.72,
                          "xBinEnd": 28.125,
                          "yBinStart": 565.5,
                          "yBinEnd": 580
                        },
                        {
                          "count": 501,
                          "xBinStart": 28.125,
                          "xBinEnd": 33.53,
                          "yBinStart": 130.5,
                          "yBinEnd": 145
                        },
                        {
                          "count": 57,
                          "xBinStart": 28.125,
                          "xBinEnd": 33.53,
                          "yBinStart": 145,
                          "yBinEnd": 159.5
                        },
                        {
                          "count": 16,
                          "xBinStart": 28.125,
                          "xBinEnd": 33.53,
                          "yBinStart": 246.5,
                          "yBinEnd": 261
                        },
                        {
                          "count": 4,
                          "xBinStart": 28.125,
                          "xBinEnd": 33.53,
                          "yBinStart": 261,
                          "yBinEnd": 275.5
                        },
                        {
                          "count": 7,
                          "xBinStart": 28.125,
                          "xBinEnd": 33.53,
                          "yBinStart": 290,
                          "yBinEnd": 304.5
                        },
                        {
                          "count": 2,
                          "xBinStart": 28.125,
                          "xBinEnd": 33.53,
                          "yBinStart": 304.5,
                          "yBinEnd": 319
                        },
                        {
                          "count": 17,
                          "xBinStart": 28.125,
                          "xBinEnd": 33.53,
                          "yBinStart": 319,
                          "yBinEnd": 333.5
                        },
                        {
                          "count": 3,
                          "xBinStart": 28.125,
                          "xBinEnd": 33.53,
                          "yBinStart": 536.5,
                          "yBinEnd": 551
                        },
                        {
                          "count": 18,
                          "xBinStart": 28.125,
                          "xBinEnd": 33.53,
                          "yBinStart": 551,
                          "yBinEnd": 565.5
                        },
                        {
                          "count": 452,
                          "xBinStart": 33.53,
                          "xBinEnd": 38.935,
                          "yBinStart": 130.5,
                          "yBinEnd": 145
                        },
                        {
                          "count": 63,
                          "xBinStart": 33.53,
                          "xBinEnd": 38.935,
                          "yBinStart": 145,
                          "yBinEnd": 159.5
                        },
                        {
                          "count": 28,
                          "xBinStart": 33.53,
                          "xBinEnd": 38.935,
                          "yBinStart": 232,
                          "yBinEnd": 246.5
                        },
                        {
                          "count": 71,
                          "xBinStart": 33.53,
                          "xBinEnd": 38.935,
                          "yBinStart": 246.5,
                          "yBinEnd": 261
                        },
                        {
                          "count": 12,
                          "xBinStart": 33.53,
                          "xBinEnd": 38.935,
                          "yBinStart": 261,
                          "yBinEnd": 275.5
                        },
                        {
                          "count": 44,
                          "xBinStart": 33.53,
                          "xBinEnd": 38.935,
                          "yBinStart": 290,
                          "yBinEnd": 304.5
                        },
                        {
                          "count": 22,
                          "xBinStart": 33.53,
                          "xBinEnd": 38.935,
                          "yBinStart": 304.5,
                          "yBinEnd": 319
                        },
                        {
                          "count": 22,
                          "xBinStart": 33.53,
                          "xBinEnd": 38.935,
                          "yBinStart": 319,
                          "yBinEnd": 333.5
                        },
                        {
                          "count": 801,
                          "xBinStart": 38.935,
                          "xBinEnd": 44.34,
                          "yBinStart": 130.5,
                          "yBinEnd": 145
                        },
                        {
                          "count": 63,
                          "xBinStart": 38.935,
                          "xBinEnd": 44.34,
                          "yBinStart": 145,
                          "yBinEnd": 159.5
                        },
                        {
                          "count": 28,
                          "xBinStart": 38.935,
                          "xBinEnd": 44.34,
                          "yBinStart": 159.5,
                          "yBinEnd": 174
                        },
                        {
                          "count": 120,
                          "xBinStart": 38.935,
                          "xBinEnd": 44.34,
                          "yBinStart": 188.5,
                          "yBinEnd": 203
                        },
                        {
                          "count": 26,
                          "xBinStart": 38.935,
                          "xBinEnd": 44.34,
                          "yBinStart": 203,
                          "yBinEnd": 217.5
                        },
                        {
                          "count": 1,
                          "xBinStart": 38.935,
                          "xBinEnd": 44.34,
                          "yBinStart": 217.5,
                          "yBinEnd": 232
                        },
                        {
                          "count": 20,
                          "xBinStart": 38.935,
                          "xBinEnd": 44.34,
                          "yBinStart": 232,
                          "yBinEnd": 246.5
                        },
                        {
                          "count": 31,
                          "xBinStart": 38.935,
                          "xBinEnd": 44.34,
                          "yBinStart": 246.5,
                          "yBinEnd": 261
                        },
                        {
                          "count": 13,
                          "xBinStart": 38.935,
                          "xBinEnd": 44.34,
                          "yBinStart": 261,
                          "yBinEnd": 275.5
                        },
                        {
                          "count": 39,
                          "xBinStart": 38.935,
                          "xBinEnd": 44.34,
                          "yBinStart": 290,
                          "yBinEnd": 304.5
                        },
                        {
                          "count": 9,
                          "xBinStart": 38.935,
                          "xBinEnd": 44.34,
                          "yBinStart": 304.5,
                          "yBinEnd": 319
                        },
                        {
                          "count": 2,
                          "xBinStart": 44.34,
                          "xBinEnd": 49.745,
                          "yBinStart": 116,
                          "yBinEnd": 130.5
                        },
                        {
                          "count": 1455,
                          "xBinStart": 44.34,
                          "xBinEnd": 49.745,
                          "yBinStart": 130.5,
                          "yBinEnd": 145
                        },
                        {
                          "count": 146,
                          "xBinStart": 44.34,
                          "xBinEnd": 49.745,
                          "yBinStart": 145,
                          "yBinEnd": 159.5
                        },
                        {
                          "count": 68,
                          "xBinStart": 44.34,
                          "xBinEnd": 49.745,
                          "yBinStart": 159.5,
                          "yBinEnd": 174
                        },
                        {
                          "count": 1,
                          "xBinStart": 44.34,
                          "xBinEnd": 49.745,
                          "yBinStart": 174,
                          "yBinEnd": 188.5
                        },
                        {
                          "count": 155,
                          "xBinStart": 44.34,
                          "xBinEnd": 49.745,
                          "yBinStart": 188.5,
                          "yBinEnd": 203
                        },
                        {
                          "count": 35,
                          "xBinStart": 44.34,
                          "xBinEnd": 49.745,
                          "yBinStart": 203,
                          "yBinEnd": 217.5
                        },
                        {
                          "count": 13,
                          "xBinStart": 44.34,
                          "xBinEnd": 49.745,
                          "yBinStart": 232,
                          "yBinEnd": 246.5
                        },
                        {
                          "count": 1,
                          "xBinStart": 49.745,
                          "xBinEnd": 55.15,
                          "yBinStart": 29,
                          "yBinEnd": 43.5
                        },
                        {
                          "count": 1,
                          "xBinStart": 49.745,
                          "xBinEnd": 55.15,
                          "yBinStart": 101.5,
                          "yBinEnd": 116
                        },
                        {
                          "count": 243,
                          "xBinStart": 49.745,
                          "xBinEnd": 55.15,
                          "yBinStart": 116,
                          "yBinEnd": 130.5
                        },
                        {
                          "count": 883,
                          "xBinStart": 49.745,
                          "xBinEnd": 55.15,
                          "yBinStart": 130.5,
                          "yBinEnd": 145
                        },
                        {
                          "count": 138,
                          "xBinStart": 49.745,
                          "xBinEnd": 55.15,
                          "yBinStart": 145,
                          "yBinEnd": 159.5
                        },
                        {
                          "count": 155,
                          "xBinStart": 49.745,
                          "xBinEnd": 55.15,
                          "yBinStart": 159.5,
                          "yBinEnd": 174
                        },
                        {
                          "count": 30,
                          "xBinStart": 55.15,
                          "xBinEnd": 60.555,
                          "yBinStart": 29,
                          "yBinEnd": 43.5
                        },
                        {
                          "count": 1,
                          "xBinStart": 55.15,
                          "xBinEnd": 60.555,
                          "yBinStart": 101.5,
                          "yBinEnd": 116
                        },
                        {
                          "count": 705,
                          "xBinStart": 55.15,
                          "xBinEnd": 60.555,
                          "yBinStart": 116,
                          "yBinEnd": 130.5
                        },
                        {
                          "count": 1283,
                          "xBinStart": 55.15,
                          "xBinEnd": 60.555,
                          "yBinStart": 130.5,
                          "yBinEnd": 145
                        },
                        {
                          "count": 145,
                          "xBinStart": 55.15,
                          "xBinEnd": 60.555,
                          "yBinStart": 145,
                          "yBinEnd": 159.5
                        },
                        {
                          "count": 272,
                          "xBinStart": 60.555,
                          "xBinEnd": 65.96,
                          "yBinStart": 14.5,
                          "yBinEnd": 29
                        },
                        {
                          "count": 884,
                          "xBinStart": 60.555,
                          "xBinEnd": 65.96,
                          "yBinStart": 29,
                          "yBinEnd": 43.5
                        },
                        {
                          "count": 62,
                          "xBinStart": 60.555,
                          "xBinEnd": 65.96,
                          "yBinStart": 116,
                          "yBinEnd": 130.5
                        },
                        {
                          "count": 1141,
                          "xBinStart": 60.555,
                          "xBinEnd": 65.96,
                          "yBinStart": 130.5,
                          "yBinEnd": 145
                        },
                        {
                          "count": 86,
                          "xBinStart": 60.555,
                          "xBinEnd": 65.96,
                          "yBinStart": 145,
                          "yBinEnd": 159.5
                        },
                        {
                          "count": 4,
                          "xBinStart": 65.96,
                          "xBinEnd": 71.365,
                          "yBinStart": -0.58,
                          "yBinEnd": 14.5
                        },
                        {
                          "count": 695,
                          "xBinStart": 65.96,
                          "xBinEnd": 71.365,
                          "yBinStart": 14.5,
                          "yBinEnd": 29
                        },
                        {
                          "count": 74,
                          "xBinStart": 65.96,
                          "xBinEnd": 71.365,
                          "yBinStart": 29,
                          "yBinEnd": 43.5
                        },
                        {
                          "count": 680,
                          "xBinStart": 65.96,
                          "xBinEnd": 71.365,
                          "yBinStart": 130.5,
                          "yBinEnd": 145
                        },
                        {
                          "count": 85,
                          "xBinStart": 65.96,
                          "xBinEnd": 71.365,
                          "yBinStart": 145,
                          "yBinEnd": 159.5
                        },
                        {
                          "count": 49,
                          "xBinStart": 71.365,
                          "xBinEnd": 76.77,
                          "yBinStart": -0.58,
                          "yBinEnd": 14.5
                        },
                        {
                          "count": 284,
                          "xBinStart": 71.365,
                          "xBinEnd": 76.77,
                          "yBinStart": 14.5,
                          "yBinEnd": 29
                        },
                        {
                          "count": 322,
                          "xBinStart": 71.365,
                          "xBinEnd": 76.77,
                          "yBinStart": 130.5,
                          "yBinEnd": 145
                        },
                        {
                          "count": 60,
                          "xBinStart": 71.365,
                          "xBinEnd": 76.77,
                          "yBinStart": 145,
                          "yBinEnd": 159.5
                        },
                        {
                          "count": 40,
                          "xBinStart": 76.77,
                          "xBinEnd": 82.175,
                          "yBinStart": -0.58,
                          "yBinEnd": 14.5
                        },
                        {
                          "count": 8,
                          "xBinStart": 76.77,
                          "xBinEnd": 82.175,
                          "yBinStart": 130.5,
                          "yBinEnd": 145
                        },
                        {
                          "count": 1,
                          "xBinStart": 76.77,
                          "xBinEnd": 82.175,
                          "yBinStart": 145,
                          "yBinEnd": 159.5
                        },
                        {
                          "count": 3,
                          "xBinStart": 98.39,
                          "xBinEnd": 103.795,
                          "yBinStart": 130.5,
                          "yBinEnd": 145
                        },
                        {
                          "count": 3,
                          "xBinStart": 120.01,
                          "xBinEnd": 125.415,
                          "yBinStart": -0.58,
                          "yBinEnd": 14.5
                        },
                        {
                          "count": 1,
                          "xBinStart": 120.01,
                          "xBinEnd": 125.415,
                          "yBinStart": 130.5,
                          "yBinEnd": 145
                        },
                        {
                          "count": 73,
                          "xBinStart": 130.82,
                          "xBinEnd": 136.225,
                          "yBinStart": -0.58,
                          "yBinEnd": 14.5
                        },
                        {
                          "count": 12,
                          "xBinStart": 130.82,
                          "xBinEnd": 136.225,
                          "yBinStart": 130.5,
                          "yBinEnd": 145
                        },
                        {
                          "count": 4,
                          "xBinStart": 174.06,
                          "xBinEnd": 179.465,
                          "yBinStart": 130.5,
                          "yBinEnd": 145
                        },
                        {
                          "count": 21,
                          "xBinStart": 184.87,
                          "xBinEnd": 190.275,
                          "yBinStart": 130.5,
                          "yBinEnd": 145
                        },
                        {
                          "count": 1,
                          "xBinStart": 201.085,
                          "xBinEnd": 206.49,
                          "yBinStart": 130.5,
                          "yBinEnd": 145
                        },
                        {
                          "count": 1,
                          "xBinStart": 211.895,
                          "xBinEnd": 217.3,
                          "yBinStart": 130.5,
                          "yBinEnd": 145
                        }
                      ]
                    },
                    "vislib": "vegalite"
                  },
                  {
                    "config": {
                      "view": {
                        "continuousWidth": 400,
                        "continuousHeight": 300
                      },
                      "axis": {
                        "labelColor": "#505050",
                        "labelFont": "Helvetica Neue",
                        "labelFontSize": 9,
                        "labelFontWeight": 400,
                        "titleFont": "Helvetica Neue",
                        "titleFontSize": 11,
                        "titleFontWeight": 500
                      },
                      "legend": {
                        "labelFont": "Helvetica Neue",
                        "labelFontSize": 9,
                        "labelFontWeight": 400,
                        "titleFont": "Helvetica Neue",
                        "titleFontSize": 10,
                        "titleFontWeight": 500
                      },
                      "mark": {
                        "tooltip": {
                          "content": "encoding"
                        }
                      },
                      "scale": {
                        "maxOpacity": 1,
                        "minOpacity": 0.1
                      },
                      "title": {
                        "font": "Helvetica Neue",
                        "fontSize": 13,
                        "fontWeight": 500
                      }
                    },
                    "data": {
                      "name": "data-2267d2e447f35aa2d23df087827a70ae"
                    },
                    "mark": "rect",
                    "encoding": {
                      "opacity": {
                        "field": "count",
                        "legend": null,
                        "scale": {
                          "type": "log"
                        },
                        "type": "quantitative"
                      },
                      "x": {
                        "axis": {
                          "title": "mileage"
                        },
                        "bin": {
                          "binned": true
                        },
                        "field": "xBinStart",
                        "type": "quantitative"
                      },
                      "x2": {
                        "field": "xBinEnd"
                      },
                      "y": {
                        "axis": {
                          "title": "price"
                        },
                        "bin": {
                          "binned": true
                        },
                        "field": "yBinStart",
                        "type": "quantitative"
                      },
                      "y2": {
                        "field": "yBinEnd"
                      }
                    },
                    "height": 150,
                    "selection": {
                      "selector006": {
                        "type": "interval",
                        "bind": "scales",
                        "encodings": [
                          "x",
                          "y"
                        ]
                      }
                    },
                    "width": 160,
                    "$schema": "https://vega.github.io/schema/vega-lite/v4.17.0.json",
                    "datasets": {
                      "data-2267d2e447f35aa2d23df087827a70ae": [
                        {
                          "count": 2,
                          "xBinStart": -257.999,
                          "xBinEnd": 6475.975,
                          "yBinStart": 9282.45,
                          "yBinEnd": 13248.675
                        },
                        {
                          "count": 16,
                          "xBinStart": -257.999,
                          "xBinEnd": 6475.975,
                          "yBinStart": 13248.675,
                          "yBinEnd": 17214.9
                        },
                        {
                          "count": 119,
                          "xBinStart": -257.999,
                          "xBinEnd": 6475.975,
                          "yBinStart": 17214.9,
                          "yBinEnd": 21181.125
                        },
                        {
                          "count": 598,
                          "xBinStart": -257.999,
                          "xBinEnd": 6475.975,
                          "yBinStart": 21181.125,
                          "yBinEnd": 25147.35
                        },
                        {
                          "count": 775,
                          "xBinStart": -257.999,
                          "xBinEnd": 6475.975,
                          "yBinStart": 25147.35,
                          "yBinEnd": 29113.575
                        },
                        {
                          "count": 574,
                          "xBinStart": -257.999,
                          "xBinEnd": 6475.975,
                          "yBinStart": 29113.575,
                          "yBinEnd": 33079.8
                        },
                        {
                          "count": 351,
                          "xBinStart": -257.999,
                          "xBinEnd": 6475.975,
                          "yBinStart": 33079.8,
                          "yBinEnd": 37046.025
                        },
                        {
                          "count": 256,
                          "xBinStart": -257.999,
                          "xBinEnd": 6475.975,
                          "yBinStart": 37046.025,
                          "yBinEnd": 41012.25
                        },
                        {
                          "count": 157,
                          "xBinStart": -257.999,
                          "xBinEnd": 6475.975,
                          "yBinStart": 41012.25,
                          "yBinEnd": 44978.475
                        },
                        {
                          "count": 157,
                          "xBinStart": -257.999,
                          "xBinEnd": 6475.975,
                          "yBinStart": 44978.475,
                          "yBinEnd": 48944.7
                        },
                        {
                          "count": 111,
                          "xBinStart": -257.999,
                          "xBinEnd": 6475.975,
                          "yBinStart": 48944.7,
                          "yBinEnd": 52910.925
                        },
                        {
                          "count": 84,
                          "xBinStart": -257.999,
                          "xBinEnd": 6475.975,
                          "yBinStart": 52910.925,
                          "yBinEnd": 56877.15
                        },
                        {
                          "count": 58,
                          "xBinStart": -257.999,
                          "xBinEnd": 6475.975,
                          "yBinStart": 56877.15,
                          "yBinEnd": 60843.375
                        },
                        {
                          "count": 23,
                          "xBinStart": -257.999,
                          "xBinEnd": 6475.975,
                          "yBinStart": 60843.375,
                          "yBinEnd": 64809.6
                        },
                        {
                          "count": 33,
                          "xBinStart": -257.999,
                          "xBinEnd": 6475.975,
                          "yBinStart": 64809.6,
                          "yBinEnd": 68775.825
                        },
                        {
                          "count": 16,
                          "xBinStart": -257.999,
                          "xBinEnd": 6475.975,
                          "yBinStart": 68775.825,
                          "yBinEnd": 72742.05
                        },
                        {
                          "count": 15,
                          "xBinStart": -257.999,
                          "xBinEnd": 6475.975,
                          "yBinStart": 72742.05,
                          "yBinEnd": 76708.275
                        },
                        {
                          "count": 12,
                          "xBinStart": -257.999,
                          "xBinEnd": 6475.975,
                          "yBinStart": 76708.275,
                          "yBinEnd": 80674.5
                        },
                        {
                          "count": 2,
                          "xBinStart": -257.999,
                          "xBinEnd": 6475.975,
                          "yBinStart": 80674.5,
                          "yBinEnd": 84640.725
                        },
                        {
                          "count": 4,
                          "xBinStart": -257.999,
                          "xBinEnd": 6475.975,
                          "yBinStart": 84640.725,
                          "yBinEnd": 88606.95
                        },
                        {
                          "count": 5,
                          "xBinStart": -257.999,
                          "xBinEnd": 6475.975,
                          "yBinStart": 88606.95,
                          "yBinEnd": 92573.175
                        },
                        {
                          "count": 3,
                          "xBinStart": -257.999,
                          "xBinEnd": 6475.975,
                          "yBinStart": 92573.175,
                          "yBinEnd": 96539.4
                        },
                        {
                          "count": 3,
                          "xBinStart": -257.999,
                          "xBinEnd": 6475.975,
                          "yBinStart": 96539.4,
                          "yBinEnd": 100505.625
                        },
                        {
                          "count": 1,
                          "xBinStart": -257.999,
                          "xBinEnd": 6475.975,
                          "yBinStart": 100505.625,
                          "yBinEnd": 104471.85
                        },
                        {
                          "count": 2,
                          "xBinStart": -257.999,
                          "xBinEnd": 6475.975,
                          "yBinStart": 104471.85,
                          "yBinEnd": 108438.075
                        },
                        {
                          "count": 4,
                          "xBinStart": -257.999,
                          "xBinEnd": 6475.975,
                          "yBinStart": 108438.075,
                          "yBinEnd": 112404.3
                        },
                        {
                          "count": 2,
                          "xBinStart": -257.999,
                          "xBinEnd": 6475.975,
                          "yBinStart": 112404.3,
                          "yBinEnd": 116370.525
                        },
                        {
                          "count": 1,
                          "xBinStart": -257.999,
                          "xBinEnd": 6475.975,
                          "yBinStart": 120336.75,
                          "yBinEnd": 124302.975
                        },
                        {
                          "count": 4,
                          "xBinStart": -257.999,
                          "xBinEnd": 6475.975,
                          "yBinStart": 124302.975,
                          "yBinEnd": 128269.2
                        },
                        {
                          "count": 1,
                          "xBinStart": -257.999,
                          "xBinEnd": 6475.975,
                          "yBinStart": 128269.2,
                          "yBinEnd": 132235.425
                        },
                        {
                          "count": 1,
                          "xBinStart": -257.999,
                          "xBinEnd": 6475.975,
                          "yBinStart": 132235.425,
                          "yBinEnd": 136201.65
                        },
                        {
                          "count": 2,
                          "xBinStart": -257.999,
                          "xBinEnd": 6475.975,
                          "yBinStart": 136201.65,
                          "yBinEnd": 140167.875
                        },
                        {
                          "count": 1,
                          "xBinStart": -257.999,
                          "xBinEnd": 6475.975,
                          "yBinStart": 140167.875,
                          "yBinEnd": 144134.1
                        },
                        {
                          "count": 1,
                          "xBinStart": -257.999,
                          "xBinEnd": 6475.975,
                          "yBinStart": 148100.325,
                          "yBinEnd": 152066.55
                        },
                        {
                          "count": 1,
                          "xBinStart": -257.999,
                          "xBinEnd": 6475.975,
                          "yBinStart": 152066.55,
                          "yBinEnd": 156032.775
                        },
                        {
                          "count": 1,
                          "xBinStart": -257.999,
                          "xBinEnd": 6475.975,
                          "yBinStart": 156032.775,
                          "yBinEnd": 159999
                        },
                        {
                          "count": 5,
                          "xBinStart": 6475.975,
                          "xBinEnd": 12950.95,
                          "yBinStart": 9282.45,
                          "yBinEnd": 13248.675
                        },
                        {
                          "count": 79,
                          "xBinStart": 6475.975,
                          "xBinEnd": 12950.95,
                          "yBinStart": 13248.675,
                          "yBinEnd": 17214.9
                        },
                        {
                          "count": 404,
                          "xBinStart": 6475.975,
                          "xBinEnd": 12950.95,
                          "yBinStart": 17214.9,
                          "yBinEnd": 21181.125
                        },
                        {
                          "count": 506,
                          "xBinStart": 6475.975,
                          "xBinEnd": 12950.95,
                          "yBinStart": 21181.125,
                          "yBinEnd": 25147.35
                        },
                        {
                          "count": 486,
                          "xBinStart": 6475.975,
                          "xBinEnd": 12950.95,
                          "yBinStart": 25147.35,
                          "yBinEnd": 29113.575
                        },
                        {
                          "count": 302,
                          "xBinStart": 6475.975,
                          "xBinEnd": 12950.95,
                          "yBinStart": 29113.575,
                          "yBinEnd": 33079.8
                        },
                        {
                          "count": 121,
                          "xBinStart": 6475.975,
                          "xBinEnd": 12950.95,
                          "yBinStart": 33079.8,
                          "yBinEnd": 37046.025
                        },
                        {
                          "count": 78,
                          "xBinStart": 6475.975,
                          "xBinEnd": 12950.95,
                          "yBinStart": 37046.025,
                          "yBinEnd": 41012.25
                        },
                        {
                          "count": 81,
                          "xBinStart": 6475.975,
                          "xBinEnd": 12950.95,
                          "yBinStart": 41012.25,
                          "yBinEnd": 44978.475
                        },
                        {
                          "count": 66,
                          "xBinStart": 6475.975,
                          "xBinEnd": 12950.95,
                          "yBinStart": 44978.475,
                          "yBinEnd": 48944.7
                        },
                        {
                          "count": 33,
                          "xBinStart": 6475.975,
                          "xBinEnd": 12950.95,
                          "yBinStart": 48944.7,
                          "yBinEnd": 52910.925
                        },
                        {
                          "count": 18,
                          "xBinStart": 6475.975,
                          "xBinEnd": 12950.95,
                          "yBinStart": 52910.925,
                          "yBinEnd": 56877.15
                        },
                        {
                          "count": 15,
                          "xBinStart": 6475.975,
                          "xBinEnd": 12950.95,
                          "yBinStart": 56877.15,
                          "yBinEnd": 60843.375
                        },
                        {
                          "count": 4,
                          "xBinStart": 6475.975,
                          "xBinEnd": 12950.95,
                          "yBinStart": 60843.375,
                          "yBinEnd": 64809.6
                        },
                        {
                          "count": 2,
                          "xBinStart": 6475.975,
                          "xBinEnd": 12950.95,
                          "yBinStart": 64809.6,
                          "yBinEnd": 68775.825
                        },
                        {
                          "count": 1,
                          "xBinStart": 6475.975,
                          "xBinEnd": 12950.95,
                          "yBinStart": 68775.825,
                          "yBinEnd": 72742.05
                        },
                        {
                          "count": 2,
                          "xBinStart": 6475.975,
                          "xBinEnd": 12950.95,
                          "yBinStart": 72742.05,
                          "yBinEnd": 76708.275
                        },
                        {
                          "count": 4,
                          "xBinStart": 6475.975,
                          "xBinEnd": 12950.95,
                          "yBinStart": 76708.275,
                          "yBinEnd": 80674.5
                        },
                        {
                          "count": 2,
                          "xBinStart": 6475.975,
                          "xBinEnd": 12950.95,
                          "yBinStart": 88606.95,
                          "yBinEnd": 92573.175
                        },
                        {
                          "count": 1,
                          "xBinStart": 6475.975,
                          "xBinEnd": 12950.95,
                          "yBinStart": 96539.4,
                          "yBinEnd": 100505.625
                        },
                        {
                          "count": 1,
                          "xBinStart": 6475.975,
                          "xBinEnd": 12950.95,
                          "yBinStart": 100505.625,
                          "yBinEnd": 104471.85
                        },
                        {
                          "count": 1,
                          "xBinStart": 6475.975,
                          "xBinEnd": 12950.95,
                          "yBinStart": 104471.85,
                          "yBinEnd": 108438.075
                        },
                        {
                          "count": 1,
                          "xBinStart": 6475.975,
                          "xBinEnd": 12950.95,
                          "yBinStart": 136201.65,
                          "yBinEnd": 140167.875
                        },
                        {
                          "count": 18,
                          "xBinStart": 12950.95,
                          "xBinEnd": 19425.925,
                          "yBinStart": 9282.45,
                          "yBinEnd": 13248.675
                        },
                        {
                          "count": 228,
                          "xBinStart": 12950.95,
                          "xBinEnd": 19425.925,
                          "yBinStart": 13248.675,
                          "yBinEnd": 17214.9
                        },
                        {
                          "count": 621,
                          "xBinStart": 12950.95,
                          "xBinEnd": 19425.925,
                          "yBinStart": 17214.9,
                          "yBinEnd": 21181.125
                        },
                        {
                          "count": 461,
                          "xBinStart": 12950.95,
                          "xBinEnd": 19425.925,
                          "yBinStart": 21181.125,
                          "yBinEnd": 25147.35
                        },
                        {
                          "count": 294,
                          "xBinStart": 12950.95,
                          "xBinEnd": 19425.925,
                          "yBinStart": 25147.35,
                          "yBinEnd": 29113.575
                        },
                        {
                          "count": 111,
                          "xBinStart": 12950.95,
                          "xBinEnd": 19425.925,
                          "yBinStart": 29113.575,
                          "yBinEnd": 33079.8
                        },
                        {
                          "count": 53,
                          "xBinStart": 12950.95,
                          "xBinEnd": 19425.925,
                          "yBinStart": 33079.8,
                          "yBinEnd": 37046.025
                        },
                        {
                          "count": 28,
                          "xBinStart": 12950.95,
                          "xBinEnd": 19425.925,
                          "yBinStart": 37046.025,
                          "yBinEnd": 41012.25
                        },
                        {
                          "count": 20,
                          "xBinStart": 12950.95,
                          "xBinEnd": 19425.925,
                          "yBinStart": 41012.25,
                          "yBinEnd": 44978.475
                        },
                        {
                          "count": 9,
                          "xBinStart": 12950.95,
                          "xBinEnd": 19425.925,
                          "yBinStart": 44978.475,
                          "yBinEnd": 48944.7
                        },
                        {
                          "count": 3,
                          "xBinStart": 12950.95,
                          "xBinEnd": 19425.925,
                          "yBinStart": 48944.7,
                          "yBinEnd": 52910.925
                        },
                        {
                          "count": 2,
                          "xBinStart": 12950.95,
                          "xBinEnd": 19425.925,
                          "yBinStart": 52910.925,
                          "yBinEnd": 56877.15
                        },
                        {
                          "count": 2,
                          "xBinStart": 12950.95,
                          "xBinEnd": 19425.925,
                          "yBinStart": 56877.15,
                          "yBinEnd": 60843.375
                        },
                        {
                          "count": 1,
                          "xBinStart": 12950.95,
                          "xBinEnd": 19425.925,
                          "yBinStart": 60843.375,
                          "yBinEnd": 64809.6
                        },
                        {
                          "count": 3,
                          "xBinStart": 12950.95,
                          "xBinEnd": 19425.925,
                          "yBinStart": 64809.6,
                          "yBinEnd": 68775.825
                        },
                        {
                          "count": 1,
                          "xBinStart": 12950.95,
                          "xBinEnd": 19425.925,
                          "yBinStart": 76708.275,
                          "yBinEnd": 80674.5
                        },
                        {
                          "count": 2,
                          "xBinStart": 12950.95,
                          "xBinEnd": 19425.925,
                          "yBinStart": 132235.425,
                          "yBinEnd": 136201.65
                        },
                        {
                          "count": 1,
                          "xBinStart": 12950.95,
                          "xBinEnd": 19425.925,
                          "yBinStart": 136201.65,
                          "yBinEnd": 140167.875
                        },
                        {
                          "count": 47,
                          "xBinStart": 19425.925,
                          "xBinEnd": 25900.9,
                          "yBinStart": 9282.45,
                          "yBinEnd": 13248.675
                        },
                        {
                          "count": 330,
                          "xBinStart": 19425.925,
                          "xBinEnd": 25900.9,
                          "yBinStart": 13248.675,
                          "yBinEnd": 17214.9
                        },
                        {
                          "count": 486,
                          "xBinStart": 19425.925,
                          "xBinEnd": 25900.9,
                          "yBinStart": 17214.9,
                          "yBinEnd": 21181.125
                        },
                        {
                          "count": 240,
                          "xBinStart": 19425.925,
                          "xBinEnd": 25900.9,
                          "yBinStart": 21181.125,
                          "yBinEnd": 25147.35
                        },
                        {
                          "count": 88,
                          "xBinStart": 19425.925,
                          "xBinEnd": 25900.9,
                          "yBinStart": 25147.35,
                          "yBinEnd": 29113.575
                        },
                        {
                          "count": 72,
                          "xBinStart": 19425.925,
                          "xBinEnd": 25900.9,
                          "yBinStart": 29113.575,
                          "yBinEnd": 33079.8
                        },
                        {
                          "count": 31,
                          "xBinStart": 19425.925,
                          "xBinEnd": 25900.9,
                          "yBinStart": 33079.8,
                          "yBinEnd": 37046.025
                        },
                        {
                          "count": 22,
                          "xBinStart": 19425.925,
                          "xBinEnd": 25900.9,
                          "yBinStart": 37046.025,
                          "yBinEnd": 41012.25
                        },
                        {
                          "count": 5,
                          "xBinStart": 19425.925,
                          "xBinEnd": 25900.9,
                          "yBinStart": 41012.25,
                          "yBinEnd": 44978.475
                        },
                        {
                          "count": 6,
                          "xBinStart": 19425.925,
                          "xBinEnd": 25900.9,
                          "yBinStart": 44978.475,
                          "yBinEnd": 48944.7
                        },
                        {
                          "count": 6,
                          "xBinStart": 19425.925,
                          "xBinEnd": 25900.9,
                          "yBinStart": 48944.7,
                          "yBinEnd": 52910.925
                        },
                        {
                          "count": 2,
                          "xBinStart": 19425.925,
                          "xBinEnd": 25900.9,
                          "yBinStart": 52910.925,
                          "yBinEnd": 56877.15
                        },
                        {
                          "count": 2,
                          "xBinStart": 19425.925,
                          "xBinEnd": 25900.9,
                          "yBinStart": 56877.15,
                          "yBinEnd": 60843.375
                        },
                        {
                          "count": 1,
                          "xBinStart": 19425.925,
                          "xBinEnd": 25900.9,
                          "yBinStart": 76708.275,
                          "yBinEnd": 80674.5
                        },
                        {
                          "count": 1,
                          "xBinStart": 19425.925,
                          "xBinEnd": 25900.9,
                          "yBinStart": 80674.5,
                          "yBinEnd": 84640.725
                        },
                        {
                          "count": 42,
                          "xBinStart": 25900.9,
                          "xBinEnd": 32375.875,
                          "yBinStart": 9282.45,
                          "yBinEnd": 13248.675
                        },
                        {
                          "count": 338,
                          "xBinStart": 25900.9,
                          "xBinEnd": 32375.875,
                          "yBinStart": 13248.675,
                          "yBinEnd": 17214.9
                        },
                        {
                          "count": 424,
                          "xBinStart": 25900.9,
                          "xBinEnd": 32375.875,
                          "yBinStart": 17214.9,
                          "yBinEnd": 21181.125
                        },
                        {
                          "count": 148,
                          "xBinStart": 25900.9,
                          "xBinEnd": 32375.875,
                          "yBinStart": 21181.125,
                          "yBinEnd": 25147.35
                        },
                        {
                          "count": 94,
                          "xBinStart": 25900.9,
                          "xBinEnd": 32375.875,
                          "yBinStart": 25147.35,
                          "yBinEnd": 29113.575
                        },
                        {
                          "count": 47,
                          "xBinStart": 25900.9,
                          "xBinEnd": 32375.875,
                          "yBinStart": 29113.575,
                          "yBinEnd": 33079.8
                        },
                        {
                          "count": 18,
                          "xBinStart": 25900.9,
                          "xBinEnd": 32375.875,
                          "yBinStart": 33079.8,
                          "yBinEnd": 37046.025
                        },
                        {
                          "count": 6,
                          "xBinStart": 25900.9,
                          "xBinEnd": 32375.875,
                          "yBinStart": 37046.025,
                          "yBinEnd": 41012.25
                        },
                        {
                          "count": 4,
                          "xBinStart": 25900.9,
                          "xBinEnd": 32375.875,
                          "yBinStart": 41012.25,
                          "yBinEnd": 44978.475
                        },
                        {
                          "count": 1,
                          "xBinStart": 25900.9,
                          "xBinEnd": 32375.875,
                          "yBinStart": 44978.475,
                          "yBinEnd": 48944.7
                        },
                        {
                          "count": 1,
                          "xBinStart": 25900.9,
                          "xBinEnd": 32375.875,
                          "yBinStart": 48944.7,
                          "yBinEnd": 52910.925
                        },
                        {
                          "count": 1,
                          "xBinStart": 25900.9,
                          "xBinEnd": 32375.875,
                          "yBinStart": 60843.375,
                          "yBinEnd": 64809.6
                        },
                        {
                          "count": 1,
                          "xBinStart": 32375.875,
                          "xBinEnd": 38850.85,
                          "yBinStart": 5316.225,
                          "yBinEnd": 9282.45
                        },
                        {
                          "count": 76,
                          "xBinStart": 32375.875,
                          "xBinEnd": 38850.85,
                          "yBinStart": 9282.45,
                          "yBinEnd": 13248.675
                        },
                        {
                          "count": 312,
                          "xBinStart": 32375.875,
                          "xBinEnd": 38850.85,
                          "yBinStart": 13248.675,
                          "yBinEnd": 17214.9
                        },
                        {
                          "count": 283,
                          "xBinStart": 32375.875,
                          "xBinEnd": 38850.85,
                          "yBinStart": 17214.9,
                          "yBinEnd": 21181.125
                        },
                        {
                          "count": 78,
                          "xBinStart": 32375.875,
                          "xBinEnd": 38850.85,
                          "yBinStart": 21181.125,
                          "yBinEnd": 25147.35
                        },
                        {
                          "count": 75,
                          "xBinStart": 32375.875,
                          "xBinEnd": 38850.85,
                          "yBinStart": 25147.35,
                          "yBinEnd": 29113.575
                        },
                        {
                          "count": 22,
                          "xBinStart": 32375.875,
                          "xBinEnd": 38850.85,
                          "yBinStart": 29113.575,
                          "yBinEnd": 33079.8
                        },
                        {
                          "count": 7,
                          "xBinStart": 32375.875,
                          "xBinEnd": 38850.85,
                          "yBinStart": 33079.8,
                          "yBinEnd": 37046.025
                        },
                        {
                          "count": 2,
                          "xBinStart": 32375.875,
                          "xBinEnd": 38850.85,
                          "yBinStart": 37046.025,
                          "yBinEnd": 41012.25
                        },
                        {
                          "count": 1,
                          "xBinStart": 32375.875,
                          "xBinEnd": 38850.85,
                          "yBinStart": 41012.25,
                          "yBinEnd": 44978.475
                        },
                        {
                          "count": 1,
                          "xBinStart": 32375.875,
                          "xBinEnd": 38850.85,
                          "yBinStart": 44978.475,
                          "yBinEnd": 48944.7
                        },
                        {
                          "count": 2,
                          "xBinStart": 32375.875,
                          "xBinEnd": 38850.85,
                          "yBinStart": 52910.925,
                          "yBinEnd": 56877.15
                        },
                        {
                          "count": 1,
                          "xBinStart": 32375.875,
                          "xBinEnd": 38850.85,
                          "yBinStart": 68775.825,
                          "yBinEnd": 72742.05
                        },
                        {
                          "count": 6,
                          "xBinStart": 38850.85,
                          "xBinEnd": 45325.825,
                          "yBinStart": 5316.225,
                          "yBinEnd": 9282.45
                        },
                        {
                          "count": 118,
                          "xBinStart": 38850.85,
                          "xBinEnd": 45325.825,
                          "yBinStart": 9282.45,
                          "yBinEnd": 13248.675
                        },
                        {
                          "count": 269,
                          "xBinStart": 38850.85,
                          "xBinEnd": 45325.825,
                          "yBinStart": 13248.675,
                          "yBinEnd": 17214.9
                        },
                        {
                          "count": 197,
                          "xBinStart": 38850.85,
                          "xBinEnd": 45325.825,
                          "yBinStart": 17214.9,
                          "yBinEnd": 21181.125
                        },
                        {
                          "count": 53,
                          "xBinStart": 38850.85,
                          "xBinEnd": 45325.825,
                          "yBinStart": 21181.125,
                          "yBinEnd": 25147.35
                        },
                        {
                          "count": 22,
                          "xBinStart": 38850.85,
                          "xBinEnd": 45325.825,
                          "yBinStart": 25147.35,
                          "yBinEnd": 29113.575
                        },
                        {
                          "count": 18,
                          "xBinStart": 38850.85,
                          "xBinEnd": 45325.825,
                          "yBinStart": 29113.575,
                          "yBinEnd": 33079.8
                        },
                        {
                          "count": 12,
                          "xBinStart": 38850.85,
                          "xBinEnd": 45325.825,
                          "yBinStart": 33079.8,
                          "yBinEnd": 37046.025
                        },
                        {
                          "count": 2,
                          "xBinStart": 38850.85,
                          "xBinEnd": 45325.825,
                          "yBinStart": 37046.025,
                          "yBinEnd": 41012.25
                        },
                        {
                          "count": 3,
                          "xBinStart": 38850.85,
                          "xBinEnd": 45325.825,
                          "yBinStart": 44978.475,
                          "yBinEnd": 48944.7
                        },
                        {
                          "count": 1,
                          "xBinStart": 38850.85,
                          "xBinEnd": 45325.825,
                          "yBinStart": 52910.925,
                          "yBinEnd": 56877.15
                        },
                        {
                          "count": 1,
                          "xBinStart": 38850.85,
                          "xBinEnd": 45325.825,
                          "yBinStart": 56877.15,
                          "yBinEnd": 60843.375
                        },
                        {
                          "count": 1,
                          "xBinStart": 38850.85,
                          "xBinEnd": 45325.825,
                          "yBinStart": 64809.6,
                          "yBinEnd": 68775.825
                        },
                        {
                          "count": 11,
                          "xBinStart": 45325.825,
                          "xBinEnd": 51800.8,
                          "yBinStart": 5316.225,
                          "yBinEnd": 9282.45
                        },
                        {
                          "count": 108,
                          "xBinStart": 45325.825,
                          "xBinEnd": 51800.8,
                          "yBinStart": 9282.45,
                          "yBinEnd": 13248.675
                        },
                        {
                          "count": 180,
                          "xBinStart": 45325.825,
                          "xBinEnd": 51800.8,
                          "yBinStart": 13248.675,
                          "yBinEnd": 17214.9
                        },
                        {
                          "count": 99,
                          "xBinStart": 45325.825,
                          "xBinEnd": 51800.8,
                          "yBinStart": 17214.9,
                          "yBinEnd": 21181.125
                        },
                        {
                          "count": 27,
                          "xBinStart": 45325.825,
                          "xBinEnd": 51800.8,
                          "yBinStart": 21181.125,
                          "yBinEnd": 25147.35
                        },
                        {
                          "count": 17,
                          "xBinStart": 45325.825,
                          "xBinEnd": 51800.8,
                          "yBinStart": 25147.35,
                          "yBinEnd": 29113.575
                        },
                        {
                          "count": 7,
                          "xBinStart": 45325.825,
                          "xBinEnd": 51800.8,
                          "yBinStart": 29113.575,
                          "yBinEnd": 33079.8
                        },
                        {
                          "count": 2,
                          "xBinStart": 45325.825,
                          "xBinEnd": 51800.8,
                          "yBinStart": 33079.8,
                          "yBinEnd": 37046.025
                        },
                        {
                          "count": 13,
                          "xBinStart": 51800.8,
                          "xBinEnd": 58275.775,
                          "yBinStart": 5316.225,
                          "yBinEnd": 9282.45
                        },
                        {
                          "count": 93,
                          "xBinStart": 51800.8,
                          "xBinEnd": 58275.775,
                          "yBinStart": 9282.45,
                          "yBinEnd": 13248.675
                        },
                        {
                          "count": 135,
                          "xBinStart": 51800.8,
                          "xBinEnd": 58275.775,
                          "yBinStart": 13248.675,
                          "yBinEnd": 17214.9
                        },
                        {
                          "count": 47,
                          "xBinStart": 51800.8,
                          "xBinEnd": 58275.775,
                          "yBinStart": 17214.9,
                          "yBinEnd": 21181.125
                        },
                        {
                          "count": 21,
                          "xBinStart": 51800.8,
                          "xBinEnd": 58275.775,
                          "yBinStart": 21181.125,
                          "yBinEnd": 25147.35
                        },
                        {
                          "count": 8,
                          "xBinStart": 51800.8,
                          "xBinEnd": 58275.775,
                          "yBinStart": 25147.35,
                          "yBinEnd": 29113.575
                        },
                        {
                          "count": 2,
                          "xBinStart": 51800.8,
                          "xBinEnd": 58275.775,
                          "yBinStart": 29113.575,
                          "yBinEnd": 33079.8
                        },
                        {
                          "count": 1,
                          "xBinStart": 51800.8,
                          "xBinEnd": 58275.775,
                          "yBinStart": 33079.8,
                          "yBinEnd": 37046.025
                        },
                        {
                          "count": 1,
                          "xBinStart": 51800.8,
                          "xBinEnd": 58275.775,
                          "yBinStart": 44978.475,
                          "yBinEnd": 48944.7
                        },
                        {
                          "count": 2,
                          "xBinStart": 58275.775,
                          "xBinEnd": 64750.75,
                          "yBinStart": 1191.351,
                          "yBinEnd": 5316.225
                        },
                        {
                          "count": 17,
                          "xBinStart": 58275.775,
                          "xBinEnd": 64750.75,
                          "yBinStart": 5316.225,
                          "yBinEnd": 9282.45
                        },
                        {
                          "count": 80,
                          "xBinStart": 58275.775,
                          "xBinEnd": 64750.75,
                          "yBinStart": 9282.45,
                          "yBinEnd": 13248.675
                        },
                        {
                          "count": 78,
                          "xBinStart": 58275.775,
                          "xBinEnd": 64750.75,
                          "yBinStart": 13248.675,
                          "yBinEnd": 17214.9
                        },
                        {
                          "count": 22,
                          "xBinStart": 58275.775,
                          "xBinEnd": 64750.75,
                          "yBinStart": 17214.9,
                          "yBinEnd": 21181.125
                        },
                        {
                          "count": 5,
                          "xBinStart": 58275.775,
                          "xBinEnd": 64750.75,
                          "yBinStart": 21181.125,
                          "yBinEnd": 25147.35
                        },
                        {
                          "count": 6,
                          "xBinStart": 58275.775,
                          "xBinEnd": 64750.75,
                          "yBinStart": 25147.35,
                          "yBinEnd": 29113.575
                        },
                        {
                          "count": 2,
                          "xBinStart": 58275.775,
                          "xBinEnd": 64750.75,
                          "yBinStart": 29113.575,
                          "yBinEnd": 33079.8
                        },
                        {
                          "count": 3,
                          "xBinStart": 64750.75,
                          "xBinEnd": 71225.725,
                          "yBinStart": 1191.351,
                          "yBinEnd": 5316.225
                        },
                        {
                          "count": 17,
                          "xBinStart": 64750.75,
                          "xBinEnd": 71225.725,
                          "yBinStart": 5316.225,
                          "yBinEnd": 9282.45
                        },
                        {
                          "count": 65,
                          "xBinStart": 64750.75,
                          "xBinEnd": 71225.725,
                          "yBinStart": 9282.45,
                          "yBinEnd": 13248.675
                        },
                        {
                          "count": 52,
                          "xBinStart": 64750.75,
                          "xBinEnd": 71225.725,
                          "yBinStart": 13248.675,
                          "yBinEnd": 17214.9
                        },
                        {
                          "count": 17,
                          "xBinStart": 64750.75,
                          "xBinEnd": 71225.725,
                          "yBinStart": 17214.9,
                          "yBinEnd": 21181.125
                        },
                        {
                          "count": 5,
                          "xBinStart": 64750.75,
                          "xBinEnd": 71225.725,
                          "yBinStart": 21181.125,
                          "yBinEnd": 25147.35
                        },
                        {
                          "count": 1,
                          "xBinStart": 64750.75,
                          "xBinEnd": 71225.725,
                          "yBinStart": 25147.35,
                          "yBinEnd": 29113.575
                        },
                        {
                          "count": 1,
                          "xBinStart": 64750.75,
                          "xBinEnd": 71225.725,
                          "yBinStart": 29113.575,
                          "yBinEnd": 33079.8
                        },
                        {
                          "count": 1,
                          "xBinStart": 71225.725,
                          "xBinEnd": 77700.7,
                          "yBinStart": 1191.351,
                          "yBinEnd": 5316.225
                        },
                        {
                          "count": 11,
                          "xBinStart": 71225.725,
                          "xBinEnd": 77700.7,
                          "yBinStart": 5316.225,
                          "yBinEnd": 9282.45
                        },
                        {
                          "count": 39,
                          "xBinStart": 71225.725,
                          "xBinEnd": 77700.7,
                          "yBinStart": 9282.45,
                          "yBinEnd": 13248.675
                        },
                        {
                          "count": 35,
                          "xBinStart": 71225.725,
                          "xBinEnd": 77700.7,
                          "yBinStart": 13248.675,
                          "yBinEnd": 17214.9
                        },
                        {
                          "count": 4,
                          "xBinStart": 71225.725,
                          "xBinEnd": 77700.7,
                          "yBinStart": 17214.9,
                          "yBinEnd": 21181.125
                        },
                        {
                          "count": 2,
                          "xBinStart": 71225.725,
                          "xBinEnd": 77700.7,
                          "yBinStart": 21181.125,
                          "yBinEnd": 25147.35
                        },
                        {
                          "count": 2,
                          "xBinStart": 71225.725,
                          "xBinEnd": 77700.7,
                          "yBinStart": 25147.35,
                          "yBinEnd": 29113.575
                        },
                        {
                          "count": 1,
                          "xBinStart": 71225.725,
                          "xBinEnd": 77700.7,
                          "yBinStart": 29113.575,
                          "yBinEnd": 33079.8
                        },
                        {
                          "count": 12,
                          "xBinStart": 77700.7,
                          "xBinEnd": 84175.675,
                          "yBinStart": 5316.225,
                          "yBinEnd": 9282.45
                        },
                        {
                          "count": 48,
                          "xBinStart": 77700.7,
                          "xBinEnd": 84175.675,
                          "yBinStart": 9282.45,
                          "yBinEnd": 13248.675
                        },
                        {
                          "count": 23,
                          "xBinStart": 77700.7,
                          "xBinEnd": 84175.675,
                          "yBinStart": 13248.675,
                          "yBinEnd": 17214.9
                        },
                        {
                          "count": 5,
                          "xBinStart": 77700.7,
                          "xBinEnd": 84175.675,
                          "yBinStart": 17214.9,
                          "yBinEnd": 21181.125
                        },
                        {
                          "count": 1,
                          "xBinStart": 77700.7,
                          "xBinEnd": 84175.675,
                          "yBinStart": 21181.125,
                          "yBinEnd": 25147.35
                        },
                        {
                          "count": 2,
                          "xBinStart": 84175.675,
                          "xBinEnd": 90650.65,
                          "yBinStart": 1191.351,
                          "yBinEnd": 5316.225
                        },
                        {
                          "count": 8,
                          "xBinStart": 84175.675,
                          "xBinEnd": 90650.65,
                          "yBinStart": 5316.225,
                          "yBinEnd": 9282.45
                        },
                        {
                          "count": 24,
                          "xBinStart": 84175.675,
                          "xBinEnd": 90650.65,
                          "yBinStart": 9282.45,
                          "yBinEnd": 13248.675
                        },
                        {
                          "count": 12,
                          "xBinStart": 84175.675,
                          "xBinEnd": 90650.65,
                          "yBinStart": 13248.675,
                          "yBinEnd": 17214.9
                        },
                        {
                          "count": 2,
                          "xBinStart": 84175.675,
                          "xBinEnd": 90650.65,
                          "yBinStart": 17214.9,
                          "yBinEnd": 21181.125
                        },
                        {
                          "count": 1,
                          "xBinStart": 84175.675,
                          "xBinEnd": 90650.65,
                          "yBinStart": 21181.125,
                          "yBinEnd": 25147.35
                        },
                        {
                          "count": 1,
                          "xBinStart": 84175.675,
                          "xBinEnd": 90650.65,
                          "yBinStart": 25147.35,
                          "yBinEnd": 29113.575
                        },
                        {
                          "count": 1,
                          "xBinStart": 84175.675,
                          "xBinEnd": 90650.65,
                          "yBinStart": 29113.575,
                          "yBinEnd": 33079.8
                        },
                        {
                          "count": 1,
                          "xBinStart": 90650.65,
                          "xBinEnd": 97125.625,
                          "yBinStart": 1191.351,
                          "yBinEnd": 5316.225
                        },
                        {
                          "count": 11,
                          "xBinStart": 90650.65,
                          "xBinEnd": 97125.625,
                          "yBinStart": 5316.225,
                          "yBinEnd": 9282.45
                        },
                        {
                          "count": 15,
                          "xBinStart": 90650.65,
                          "xBinEnd": 97125.625,
                          "yBinStart": 9282.45,
                          "yBinEnd": 13248.675
                        },
                        {
                          "count": 6,
                          "xBinStart": 90650.65,
                          "xBinEnd": 97125.625,
                          "yBinStart": 13248.675,
                          "yBinEnd": 17214.9
                        },
                        {
                          "count": 1,
                          "xBinStart": 90650.65,
                          "xBinEnd": 97125.625,
                          "yBinStart": 21181.125,
                          "yBinEnd": 25147.35
                        },
                        {
                          "count": 1,
                          "xBinStart": 97125.625,
                          "xBinEnd": 103600.6,
                          "yBinStart": 1191.351,
                          "yBinEnd": 5316.225
                        },
                        {
                          "count": 1,
                          "xBinStart": 97125.625,
                          "xBinEnd": 103600.6,
                          "yBinStart": 5316.225,
                          "yBinEnd": 9282.45
                        },
                        {
                          "count": 15,
                          "xBinStart": 97125.625,
                          "xBinEnd": 103600.6,
                          "yBinStart": 9282.45,
                          "yBinEnd": 13248.675
                        },
                        {
                          "count": 3,
                          "xBinStart": 97125.625,
                          "xBinEnd": 103600.6,
                          "yBinStart": 13248.675,
                          "yBinEnd": 17214.9
                        },
                        {
                          "count": 1,
                          "xBinStart": 97125.625,
                          "xBinEnd": 103600.6,
                          "yBinStart": 17214.9,
                          "yBinEnd": 21181.125
                        },
                        {
                          "count": 1,
                          "xBinStart": 103600.6,
                          "xBinEnd": 110075.575,
                          "yBinStart": 1191.351,
                          "yBinEnd": 5316.225
                        },
                        {
                          "count": 5,
                          "xBinStart": 103600.6,
                          "xBinEnd": 110075.575,
                          "yBinStart": 5316.225,
                          "yBinEnd": 9282.45
                        },
                        {
                          "count": 8,
                          "xBinStart": 103600.6,
                          "xBinEnd": 110075.575,
                          "yBinStart": 9282.45,
                          "yBinEnd": 13248.675
                        },
                        {
                          "count": 1,
                          "xBinStart": 103600.6,
                          "xBinEnd": 110075.575,
                          "yBinStart": 13248.675,
                          "yBinEnd": 17214.9
                        },
                        {
                          "count": 1,
                          "xBinStart": 110075.575,
                          "xBinEnd": 116550.55,
                          "yBinStart": 1191.351,
                          "yBinEnd": 5316.225
                        },
                        {
                          "count": 3,
                          "xBinStart": 110075.575,
                          "xBinEnd": 116550.55,
                          "yBinStart": 5316.225,
                          "yBinEnd": 9282.45
                        },
                        {
                          "count": 8,
                          "xBinStart": 110075.575,
                          "xBinEnd": 116550.55,
                          "yBinStart": 9282.45,
                          "yBinEnd": 13248.675
                        },
                        {
                          "count": 3,
                          "xBinStart": 116550.55,
                          "xBinEnd": 123025.525,
                          "yBinStart": 5316.225,
                          "yBinEnd": 9282.45
                        },
                        {
                          "count": 3,
                          "xBinStart": 116550.55,
                          "xBinEnd": 123025.525,
                          "yBinStart": 9282.45,
                          "yBinEnd": 13248.675
                        },
                        {
                          "count": 5,
                          "xBinStart": 123025.525,
                          "xBinEnd": 129500.5,
                          "yBinStart": 5316.225,
                          "yBinEnd": 9282.45
                        },
                        {
                          "count": 5,
                          "xBinStart": 123025.525,
                          "xBinEnd": 129500.5,
                          "yBinStart": 9282.45,
                          "yBinEnd": 13248.675
                        },
                        {
                          "count": 1,
                          "xBinStart": 123025.525,
                          "xBinEnd": 129500.5,
                          "yBinStart": 13248.675,
                          "yBinEnd": 17214.9
                        },
                        {
                          "count": 1,
                          "xBinStart": 129500.5,
                          "xBinEnd": 135975.475,
                          "yBinStart": 5316.225,
                          "yBinEnd": 9282.45
                        },
                        {
                          "count": 2,
                          "xBinStart": 129500.5,
                          "xBinEnd": 135975.475,
                          "yBinStart": 9282.45,
                          "yBinEnd": 13248.675
                        },
                        {
                          "count": 2,
                          "xBinStart": 135975.475,
                          "xBinEnd": 142450.45,
                          "yBinStart": 5316.225,
                          "yBinEnd": 9282.45
                        },
                        {
                          "count": 3,
                          "xBinStart": 135975.475,
                          "xBinEnd": 142450.45,
                          "yBinStart": 9282.45,
                          "yBinEnd": 13248.675
                        },
                        {
                          "count": 1,
                          "xBinStart": 142450.45,
                          "xBinEnd": 148925.425,
                          "yBinStart": 5316.225,
                          "yBinEnd": 9282.45
                        },
                        {
                          "count": 3,
                          "xBinStart": 148925.425,
                          "xBinEnd": 155400.4,
                          "yBinStart": 5316.225,
                          "yBinEnd": 9282.45
                        },
                        {
                          "count": 1,
                          "xBinStart": 155400.4,
                          "xBinEnd": 161875.375,
                          "yBinStart": 5316.225,
                          "yBinEnd": 9282.45
                        },
                        {
                          "count": 1,
                          "xBinStart": 161875.375,
                          "xBinEnd": 168350.35,
                          "yBinStart": 5316.225,
                          "yBinEnd": 9282.45
                        },
                        {
                          "count": 1,
                          "xBinStart": 168350.35,
                          "xBinEnd": 174825.325,
                          "yBinStart": 1191.351,
                          "yBinEnd": 5316.225
                        },
                        {
                          "count": 1,
                          "xBinStart": 239575.075,
                          "xBinEnd": 246050.05,
                          "yBinStart": 13248.675,
                          "yBinEnd": 17214.9
                        },
                        {
                          "count": 1,
                          "xBinStart": 252525.025,
                          "xBinEnd": 259000,
                          "yBinStart": 5316.225,
                          "yBinEnd": 9282.45
                        }
                      ]
                    },
                    "vislib": "vegalite"
                  }
                ]
              },
              {
                "action": "Distribution",
                "description": "Show univariate histograms of <p class='highlight-descriptor'>quantitative</p>  attributes.",
                "long_description": "Distribution displays univariate histogram distributions of all quantitative attributes (e.g., price). Visualizations are ranked from most to least skewed.",
                "vspec": [
                  {
                    "config": {
                      "view": {
                        "continuousWidth": 400,
                        "continuousHeight": 300
                      },
                      "axis": {
                        "labelColor": "#505050",
                        "labelFont": "Helvetica Neue",
                        "labelFontSize": 9,
                        "labelFontWeight": 400,
                        "titleFont": "Helvetica Neue",
                        "titleFontSize": 11,
                        "titleFontWeight": 500
                      },
                      "legend": {
                        "labelFont": "Helvetica Neue",
                        "labelFontSize": 9,
                        "labelFontWeight": 400,
                        "titleFont": "Helvetica Neue",
                        "titleFontSize": 10,
                        "titleFontWeight": 500
                      },
                      "title": {
                        "font": "Helvetica Neue",
                        "fontSize": 13,
                        "fontWeight": 500
                      }
                    },
                    "data": {
                      "name": "data-0aec5c236a31f16c3884833592cdbe1a"
                    },
                    "mark": "bar",
                    "encoding": {
                      "x": {
                        "axis": {
                          "title": "tax (binned)"
                        },
                        "bin": {
                          "binned": true,
                          "step": 58
                        },
                        "field": "tax",
                        "scale": {
                          "domain": [
                            0,
                            580
                          ]
                        },
                        "title": "tax (binned)",
                        "type": "quantitative"
                      },
                      "x2": {
                        "field": "tax_end"
                      },
                      "y": {
                        "field": "Number of Records",
                        "type": "quantitative"
                      }
                    },
                    "height": 150,
                    "width": 160,
                    "$schema": "https://vega.github.io/schema/vega-lite/v4.17.0.json",
                    "datasets": {
                      "data-0aec5c236a31f16c3884833592cdbe1a": [
                        {
                          "tax": 0,
                          "Number of Records": 2409,
                          "tax_end": 60.9
                        },
                        {
                          "tax": 58,
                          "Number of Records": 2,
                          "tax_end": 118.9
                        },
                        {
                          "tax": 116,
                          "Number of Records": 9821,
                          "tax_end": 176.9
                        },
                        {
                          "tax": 174,
                          "Number of Records": 338,
                          "tax_end": 234.9
                        },
                        {
                          "tax": 232,
                          "Number of Records": 208,
                          "tax_end": 292.9
                        },
                        {
                          "tax": 290,
                          "Number of Records": 162,
                          "tax_end": 350.9
                        },
                        {
                          "tax": 348,
                          "Number of Records": 0,
                          "tax_end": 408.9
                        },
                        {
                          "tax": 406,
                          "Number of Records": 0,
                          "tax_end": 466.9
                        },
                        {
                          "tax": 464,
                          "Number of Records": 0,
                          "tax_end": 524.9
                        },
                        {
                          "tax": 522,
                          "Number of Records": 50,
                          "tax_end": 582.9
                        }
                      ]
                    },
                    "vislib": "vegalite"
                  },
                  {
                    "config": {
                      "view": {
                        "continuousWidth": 400,
                        "continuousHeight": 300
                      },
                      "axis": {
                        "labelColor": "#505050",
                        "labelFont": "Helvetica Neue",
                        "labelFontSize": 9,
                        "labelFontWeight": 400,
                        "titleFont": "Helvetica Neue",
                        "titleFontSize": 11,
                        "titleFontWeight": 500
                      },
                      "legend": {
                        "labelFont": "Helvetica Neue",
                        "labelFontSize": 9,
                        "labelFontWeight": 400,
                        "titleFont": "Helvetica Neue",
                        "titleFontSize": 10,
                        "titleFontWeight": 500
                      },
                      "title": {
                        "font": "Helvetica Neue",
                        "fontSize": 13,
                        "fontWeight": 500
                      }
                    },
                    "data": {
                      "name": "data-47e74b523ff0158753dc8a0c446fcb4b"
                    },
                    "mark": "bar",
                    "encoding": {
                      "x": {
                        "axis": {
                          "title": "mileage (binned)"
                        },
                        "bin": {
                          "binned": true,
                          "step": 25899.9
                        },
                        "field": "mileage",
                        "scale": {
                          "domain": [
                            1,
                            259000
                          ]
                        },
                        "title": "mileage (binned)",
                        "type": "quantitative"
                      },
                      "x2": {
                        "field": "mileage_end"
                      },
                      "y": {
                        "field": "Number of Records",
                        "type": "quantitative"
                      }
                    },
                    "height": 150,
                    "width": 160,
                    "$schema": "https://vega.github.io/schema/vega-lite/v4.17.0.json",
                    "datasets": {
                      "data-47e74b523ff0158753dc8a0c446fcb4b": [
                        {
                          "mileage": 1,
                          "Number of Records": 8806,
                          "mileage_end": 27195.9
                        },
                        {
                          "mileage": 25900.9,
                          "Number of Records": 3139,
                          "mileage_end": 53095.8
                        },
                        {
                          "mileage": 51800.8,
                          "Number of Records": 789,
                          "mileage_end": 78995.70000000001
                        },
                        {
                          "mileage": 77700.70000000001,
                          "Number of Records": 195,
                          "mileage_end": 104895.6
                        },
                        {
                          "mileage": 103600.6,
                          "Number of Records": 44,
                          "mileage_end": 130795.5
                        },
                        {
                          "mileage": 129500.5,
                          "Number of Records": 12,
                          "mileage_end": 156695.4
                        },
                        {
                          "mileage": 155400.40000000002,
                          "Number of Records": 3,
                          "mileage_end": 182595.30000000002
                        },
                        {
                          "mileage": 181300.30000000002,
                          "Number of Records": 0,
                          "mileage_end": 208495.2
                        },
                        {
                          "mileage": 207200.2,
                          "Number of Records": 0,
                          "mileage_end": 234395.1
                        },
                        {
                          "mileage": 233100.1,
                          "Number of Records": 2,
                          "mileage_end": 260295
                        }
                      ]
                    },
                    "vislib": "vegalite"
                  },
                  {
                    "config": {
                      "view": {
                        "continuousWidth": 400,
                        "continuousHeight": 300
                      },
                      "axis": {
                        "labelColor": "#505050",
                        "labelFont": "Helvetica Neue",
                        "labelFontSize": 9,
                        "labelFontWeight": 400,
                        "titleFont": "Helvetica Neue",
                        "titleFontSize": 11,
                        "titleFontWeight": 500
                      },
                      "legend": {
                        "labelFont": "Helvetica Neue",
                        "labelFontSize": 9,
                        "labelFontWeight": 400,
                        "titleFont": "Helvetica Neue",
                        "titleFontSize": 10,
                        "titleFontWeight": 500
                      },
                      "title": {
                        "font": "Helvetica Neue",
                        "fontSize": 13,
                        "fontWeight": 500
                      }
                    },
                    "data": {
                      "name": "data-ac2b5b679f5308af6355cd4b6f2ee48f"
                    },
                    "mark": "bar",
                    "encoding": {
                      "x": {
                        "axis": {
                          "title": "price (binned)"
                        },
                        "bin": {
                          "binned": true,
                          "step": 15864.900000000001
                        },
                        "field": "price",
                        "scale": {
                          "domain": [
                            1350,
                            159999
                          ]
                        },
                        "title": "price (binned)",
                        "type": "quantitative"
                      },
                      "x2": {
                        "field": "price_end"
                      },
                      "y": {
                        "field": "Number of Records",
                        "type": "quantitative"
                      }
                    },
                    "height": 150,
                    "width": 160,
                    "$schema": "https://vega.github.io/schema/vega-lite/v4.17.0.json",
                    "datasets": {
                      "data-ac2b5b679f5308af6355cd4b6f2ee48f": [
                        {
                          "price": 1350,
                          "Number of Records": 3070,
                          "price_end": 18008.14
                        },
                        {
                          "price": 17214.9,
                          "Number of Records": 7907,
                          "price_end": 33873.04
                        },
                        {
                          "price": 33079.8,
                          "Number of Records": 1502,
                          "price_end": 49737.94
                        },
                        {
                          "price": 48944.7,
                          "Number of Records": 370,
                          "price_end": 65602.84
                        },
                        {
                          "price": 64809.6,
                          "Number of Records": 92,
                          "price_end": 81467.73999999999
                        },
                        {
                          "price": 80674.5,
                          "Number of Records": 17,
                          "price_end": 97332.64
                        },
                        {
                          "price": 96539.4,
                          "Number of Records": 13,
                          "price_end": 113197.54
                        },
                        {
                          "price": 112404.3,
                          "Number of Records": 7,
                          "price_end": 129062.44
                        },
                        {
                          "price": 128269.2,
                          "Number of Records": 9,
                          "price_end": 144927.34
                        },
                        {
                          "price": 144134.1,
                          "Number of Records": 3,
                          "price_end": 160792.24
                        }
                      ]
                    },
                    "vislib": "vegalite"
                  },
                  {
                    "config": {
                      "view": {
                        "continuousWidth": 400,
                        "continuousHeight": 300
                      },
                      "axis": {
                        "labelColor": "#505050",
                        "labelFont": "Helvetica Neue",
                        "labelFontSize": 9,
                        "labelFontWeight": 400,
                        "titleFont": "Helvetica Neue",
                        "titleFontSize": 11,
                        "titleFontWeight": 500
                      },
                      "legend": {
                        "labelFont": "Helvetica Neue",
                        "labelFontSize": 9,
                        "labelFontWeight": 400,
                        "titleFont": "Helvetica Neue",
                        "titleFontSize": 10,
                        "titleFontWeight": 500
                      },
                      "title": {
                        "font": "Helvetica Neue",
                        "fontSize": 13,
                        "fontWeight": 500
                      }
                    },
                    "data": {
                      "name": "data-8ebacb45c33019755bc78ebdd8cd71dc"
                    },
                    "mark": "bar",
                    "encoding": {
                      "x": {
                        "axis": {
                          "title": "mpg (binned)"
                        },
                        "bin": {
                          "binned": true,
                          "step": 21.62
                        },
                        "field": "mpg",
                        "scale": {
                          "domain": [
                            1.1,
                            217.3
                          ]
                        },
                        "title": "mpg (binned)",
                        "type": "quantitative"
                      },
                      "x2": {
                        "field": "mpg_end"
                      },
                      "y": {
                        "field": "Number of Records",
                        "type": "quantitative"
                      }
                    },
                    "height": 150,
                    "width": 160,
                    "$schema": "https://vega.github.io/schema/vega-lite/v4.17.0.json",
                    "datasets": {
                      "data-8ebacb45c33019755bc78ebdd8cd71dc": [
                        {
                          "mpg": 1.1,
                          "Number of Records": 43,
                          "mpg_end": 23.8
                        },
                        {
                          "mpg": 22.720000000000002,
                          "Number of Records": 2621,
                          "mpg_end": 45.42
                        },
                        {
                          "mpg": 44.34,
                          "Number of Records": 7905,
                          "mpg_end": 67.04
                        },
                        {
                          "mpg": 65.96,
                          "Number of Records": 2302,
                          "mpg_end": 88.66
                        },
                        {
                          "mpg": 87.58,
                          "Number of Records": 3,
                          "mpg_end": 110.28
                        },
                        {
                          "mpg": 109.2,
                          "Number of Records": 4,
                          "mpg_end": 131.9
                        },
                        {
                          "mpg": 130.82,
                          "Number of Records": 85,
                          "mpg_end": 153.51999999999998
                        },
                        {
                          "mpg": 152.44,
                          "Number of Records": 0,
                          "mpg_end": 175.14
                        },
                        {
                          "mpg": 174.06,
                          "Number of Records": 25,
                          "mpg_end": 196.76
                        },
                        {
                          "mpg": 195.68,
                          "Number of Records": 2,
                          "mpg_end": 218.38
                        }
                      ]
                    },
                    "vislib": "vegalite"
                  }
                ]
              },
              {
                "action": "Occurrence",
                "description": "Show frequency of occurrence for <p class='highlight-descriptor'>categorical</p> attributes.",
                "long_description": "Occurence displays bar charts of counts for all categorical attributes (e.g., model). Visualizations are ranked from most to least uneven across the bars. ",
                "vspec": [
                  {
                    "config": {
                      "view": {
                        "continuousWidth": 400,
                        "continuousHeight": 300
                      },
                      "axis": {
                        "labelColor": "#505050",
                        "labelFont": "Helvetica Neue",
                        "labelFontSize": 9,
                        "labelFontWeight": 400,
                        "titleFont": "Helvetica Neue",
                        "titleFontSize": 11,
                        "titleFontWeight": 500
                      },
                      "legend": {
                        "labelFont": "Helvetica Neue",
                        "labelFontSize": 9,
                        "labelFontWeight": 400,
                        "titleFont": "Helvetica Neue",
                        "titleFontSize": 10,
                        "titleFontWeight": 500
                      },
                      "mark": {
                        "tooltip": {
                          "content": "encoding"
                        }
                      },
                      "title": {
                        "font": "Helvetica Neue",
                        "fontSize": 13,
                        "fontWeight": 500
                      }
                    },
                    "data": {
                      "name": "data-6a41b4787e962e07bcfb4b6cef5f87bf"
                    },
                    "mark": "bar",
                    "encoding": {
                      "x": {
                        "axis": {
                          "title": "Number of Records"
                        },
                        "field": "Record",
                        "title": "Number of Records",
                        "type": "quantitative"
                      },
                      "y": {
                        "axis": {
                          "labelOverlap": true,
                          "title": "fuelType"
                        },
                        "field": "fuelType",
                        "type": "nominal"
                      }
                    },
                    "height": 150,
                    "width": 160,
                    "$schema": "https://vega.github.io/schema/vega-lite/v4.17.0.json",
                    "datasets": {
                      "data-6a41b4787e962e07bcfb4b6cef5f87bf": [
                        {
                          "fuelType": "Diesel",
                          "Record": 9138
                        },
                        {
                          "fuelType": "Hybrid",
                          "Record": 173
                        },
                        {
                          "fuelType": "Petrol",
                          "Record": 3679
                        }
                      ]
                    },
                    "vislib": "vegalite"
                  },
                  {
                    "config": {
                      "view": {
                        "continuousWidth": 400,
                        "continuousHeight": 300
                      },
                      "axis": {
                        "labelColor": "#505050",
                        "labelFont": "Helvetica Neue",
                        "labelFontSize": 9,
                        "labelFontWeight": 400,
                        "titleFont": "Helvetica Neue",
                        "titleFontSize": 11,
                        "titleFontWeight": 500
                      },
                      "legend": {
                        "labelFont": "Helvetica Neue",
                        "labelFontSize": 9,
                        "labelFontWeight": 400,
                        "titleFont": "Helvetica Neue",
                        "titleFontSize": 10,
                        "titleFontWeight": 500
                      },
                      "mark": {
                        "tooltip": {
                          "content": "encoding"
                        }
                      },
                      "title": {
                        "font": "Helvetica Neue",
                        "fontSize": 13,
                        "fontWeight": 500
                      }
                    },
                    "data": {
                      "name": "data-a2b10f0c8b6ff29b5772973c7ecae42c"
                    },
                    "mark": "bar",
                    "encoding": {
                      "x": {
                        "axis": {
                          "title": "Number of Records"
                        },
                        "field": "Record",
                        "title": "Number of Records",
                        "type": "quantitative"
                      },
                      "y": {
                        "axis": {
                          "labelOverlap": true,
                          "title": "transmission"
                        },
                        "field": "transmission",
                        "type": "nominal"
                      }
                    },
                    "height": 150,
                    "width": 160,
                    "$schema": "https://vega.github.io/schema/vega-lite/v4.17.0.json",
                    "datasets": {
                      "data-a2b10f0c8b6ff29b5772973c7ecae42c": [
                        {
                          "transmission": "Automatic",
                          "Record": 4710
                        },
                        {
                          "transmission": "Manual",
                          "Record": 1436
                        },
                        {
                          "transmission": "Semi-Auto",
                          "Record": 6844
                        }
                      ]
                    },
                    "vislib": "vegalite"
                  },
                  {
                    "config": {
                      "view": {
                        "continuousWidth": 400,
                        "continuousHeight": 300
                      },
                      "axis": {
                        "labelColor": "#505050",
                        "labelFont": "Helvetica Neue",
                        "labelFontSize": 9,
                        "labelFontWeight": 400,
                        "titleFont": "Helvetica Neue",
                        "titleFontSize": 11,
                        "titleFontWeight": 500
                      },
                      "legend": {
                        "labelFont": "Helvetica Neue",
                        "labelFontSize": 9,
                        "labelFontWeight": 400,
                        "titleFont": "Helvetica Neue",
                        "titleFontSize": 10,
                        "titleFontWeight": 500
                      },
                      "mark": {
                        "tooltip": {
                          "content": "encoding"
                        }
                      },
                      "title": {
                        "font": "Helvetica Neue",
                        "fontSize": 13,
                        "fontWeight": 500
                      }
                    },
                    "layer": [
                      {
                        "data": {
                          "name": "data-54769c2b5a8e2f8c8bebea2c18c29786"
                        },
                        "mark": "bar",
                        "encoding": {
                          "x": {
                            "axis": {
                              "title": "Number of Records"
                            },
                            "field": "Record",
                            "title": "Number of Records",
                            "type": "quantitative"
                          },
                          "y": {
                            "axis": {
                              "labelOverlap": true,
                              "title": "engineSize"
                            },
                            "field": "engineSize",
                            "sort": "-x",
                            "type": "nominal"
                          }
                        }
                      },
                      {
                        "data": {
                          "name": "data-54769c2b5a8e2f8c8bebea2c18c29786"
                        },
                        "mark": {
                          "type": "text",
                          "align": "right",
                          "color": "#ff8e04",
                          "fontSize": 11,
                          "text": "+ 8 more ...",
                          "x": 155,
                          "y": 142
                        }
                      }
                    ],
                    "height": 150,
                    "width": 160,
                    "$schema": "https://vega.github.io/schema/vega-lite/v4.17.0.json",
                    "datasets": {
                      "data-54769c2b5a8e2f8c8bebea2c18c29786": [
                        {
                          "engineSize": 2.1,
                          "Record": 4005
                        },
                        {
                          "engineSize": 2,
                          "Record": 3720
                        },
                        {
                          "engineSize": 1.5,
                          "Record": 1672
                        },
                        {
                          "engineSize": 3,
                          "Record": 1335
                        },
                        {
                          "engineSize": 1.6,
                          "Record": 841
                        },
                        {
                          "engineSize": 1.3,
                          "Record": 716
                        },
                        {
                          "engineSize": 4,
                          "Record": 197
                        },
                        {
                          "engineSize": 2.2,
                          "Record": 121
                        },
                        {
                          "engineSize": 2.9,
                          "Record": 120
                        },
                        {
                          "engineSize": 1.8,
                          "Record": 96
                        }
                      ]
                    },
                    "vislib": "vegalite"
                  },
                  {
                    "config": {
                      "view": {
                        "continuousWidth": 400,
                        "continuousHeight": 300
                      },
                      "axis": {
                        "labelColor": "#505050",
                        "labelFont": "Helvetica Neue",
                        "labelFontSize": 9,
                        "labelFontWeight": 400,
                        "titleFont": "Helvetica Neue",
                        "titleFontSize": 11,
                        "titleFontWeight": 500
                      },
                      "legend": {
                        "labelFont": "Helvetica Neue",
                        "labelFontSize": 9,
                        "labelFontWeight": 400,
                        "titleFont": "Helvetica Neue",
                        "titleFontSize": 10,
                        "titleFontWeight": 500
                      },
                      "mark": {
                        "tooltip": {
                          "content": "encoding"
                        }
                      },
                      "title": {
                        "font": "Helvetica Neue",
                        "fontSize": 13,
                        "fontWeight": 500
                      }
                    },
                    "layer": [
                      {
                        "data": {
                          "name": "data-97f1b0afc874a6ce72bcdbd3e83fc196"
                        },
                        "mark": "bar",
                        "encoding": {
                          "x": {
                            "axis": {
                              "title": "Number of Records"
                            },
                            "field": "Record",
                            "title": "Number of Records",
                            "type": "quantitative"
                          },
                          "y": {
                            "axis": {
                              "labelOverlap": true,
                              "title": "model"
                            },
                            "field": "model",
                            "sort": "-x",
                            "type": "nominal"
                          }
                        }
                      },
                      {
                        "data": {
                          "name": "data-97f1b0afc874a6ce72bcdbd3e83fc196"
                        },
                        "mark": {
                          "type": "text",
                          "align": "right",
                          "color": "#ff8e04",
                          "fontSize": 11,
                          "text": "+ 15 more ...",
                          "x": 155,
                          "y": 142
                        }
                      }
                    ],
                    "height": 150,
                    "width": 160,
                    "$schema": "https://vega.github.io/schema/vega-lite/v4.17.0.json",
                    "datasets": {
                      "data-97f1b0afc874a6ce72bcdbd3e83fc196": [
                        {
                          "model": " C Class",
                          "Record": 3714
                        },
                        {
                          "model": " A Class",
                          "Record": 2555
                        },
                        {
                          "model": " E Class",
                          "Record": 1943
                        },
                        {
                          "model": " GLC Class",
                          "Record": 960
                        },
                        {
                          "model": " GLA Class",
                          "Record": 846
                        },
                        {
                          "model": " B Class",
                          "Record": 585
                        },
                        {
                          "model": " CL Class",
                          "Record": 509
                        },
                        {
                          "model": " GLE Class",
                          "Record": 460
                        },
                        {
                          "model": " SL CLASS",
                          "Record": 252
                        },
                        {
                          "model": " CLS Class",
                          "Record": 236
                        }
                      ]
                    },
                    "vislib": "vegalite"
                  }
                ]
              },
              {
                "action": "Temporal",
                "description": "Show trends over <p class='highlight-descriptor'>time-related</p> attributes.",
                "long_description": "Temporal displays line charts for all attributes related to datetimes in the dataframe. Lux displays the overall temporal trend first, followed by trends across other timescales (e.g., year, month, week, day).",
                "vspec": [
                  {
                    "config": {
                      "view": {
                        "continuousWidth": 400,
                        "continuousHeight": 300
                      },
                      "axis": {
                        "labelColor": "#505050",
                        "labelFont": "Helvetica Neue",
                        "labelFontSize": 9,
                        "labelFontWeight": 400,
                        "titleFont": "Helvetica Neue",
                        "titleFontSize": 11,
                        "titleFontWeight": 500
                      },
                      "legend": {
                        "labelFont": "Helvetica Neue",
                        "labelFontSize": 9,
                        "labelFontWeight": 400,
                        "titleFont": "Helvetica Neue",
                        "titleFontSize": 10,
                        "titleFontWeight": 500
                      },
                      "title": {
                        "font": "Helvetica Neue",
                        "fontSize": 13,
                        "fontWeight": 500
                      }
                    },
                    "data": {
                      "name": "data-f7911c4bf622d18d434a7e6ddc3a475f"
                    },
                    "mark": "line",
                    "encoding": {
                      "x": {
                        "axis": {
                          "title": "year"
                        },
                        "field": "year",
                        "type": "temporal"
                      },
                      "y": {
                        "axis": {
                          "title": "Record"
                        },
                        "field": "Record",
                        "title": "Number of Records",
                        "type": "quantitative"
                      }
                    },
                    "height": 150,
                    "selection": {
                      "selector007": {
                        "type": "interval",
                        "bind": "scales",
                        "encodings": [
                          "x",
                          "y"
                        ]
                      }
                    },
                    "width": 160,
                    "$schema": "https://vega.github.io/schema/vega-lite/v4.17.0.json",
                    "datasets": {
                      "data-f7911c4bf622d18d434a7e6ddc3a475f": [
                        {
                          "year": "2010-01-01T00:00:00",
                          "Record": 38
                        },
                        {
                          "year": "2011-01-01T00:00:00",
                          "Record": 38
                        },
                        {
                          "year": "2012-01-01T00:00:00",
                          "Record": 57
                        },
                        {
                          "year": "2013-01-01T00:00:00",
                          "Record": 292
                        },
                        {
                          "year": "2014-01-01T00:00:00",
                          "Record": 491
                        },
                        {
                          "year": "2015-01-01T00:00:00",
                          "Record": 989
                        },
                        {
                          "year": "2016-01-01T00:00:00",
                          "Record": 1968
                        },
                        {
                          "year": "2017-01-01T00:00:00",
                          "Record": 2379
                        },
                        {
                          "year": "2018-01-01T00:00:00",
                          "Record": 1467
                        },
                        {
                          "year": "2019-01-01T00:00:00",
                          "Record": 4553
                        },
                        {
                          "year": "2020-01-01T00:00:00",
                          "Record": 718
                        }
                      ]
                    },
                    "vislib": "vegalite"
                  },
                  {
                    "config": {
                      "view": {
                        "continuousWidth": 400,
                        "continuousHeight": 300
                      },
                      "axis": {
                        "labelColor": "#505050",
                        "labelFont": "Helvetica Neue",
                        "labelFontSize": 9,
                        "labelFontWeight": 400,
                        "titleFont": "Helvetica Neue",
                        "titleFontSize": 11,
                        "titleFontWeight": 500
                      },
                      "legend": {
                        "labelFont": "Helvetica Neue",
                        "labelFontSize": 9,
                        "labelFontWeight": 400,
                        "titleFont": "Helvetica Neue",
                        "titleFontSize": 10,
                        "titleFontWeight": 500
                      },
                      "title": {
                        "font": "Helvetica Neue",
                        "fontSize": 13,
                        "fontWeight": 500
                      }
                    },
                    "data": {
                      "name": "data-08e6a646df30fe873e1bcb7f5bbfb8a7"
                    },
                    "mark": "line",
                    "encoding": {
                      "x": {
                        "axis": {
                          "title": "year (year)"
                        },
                        "field": "year (year)",
                        "type": "temporal"
                      },
                      "y": {
                        "axis": {
                          "title": "Record"
                        },
                        "field": "Record",
                        "title": "Number of Records",
                        "type": "quantitative"
                      }
                    },
                    "height": 150,
                    "selection": {
                      "selector008": {
                        "type": "interval",
                        "bind": "scales",
                        "encodings": [
                          "x",
                          "y"
                        ]
                      }
                    },
                    "width": 160,
                    "$schema": "https://vega.github.io/schema/vega-lite/v4.17.0.json",
                    "datasets": {
                      "data-08e6a646df30fe873e1bcb7f5bbfb8a7": [
                        {
                          "year (year)": "2010-01-01T00:00:00",
                          "Record": 38
                        },
                        {
                          "year (year)": "2011-01-01T00:00:00",
                          "Record": 38
                        },
                        {
                          "year (year)": "2012-01-01T00:00:00",
                          "Record": 57
                        },
                        {
                          "year (year)": "2013-01-01T00:00:00",
                          "Record": 292
                        },
                        {
                          "year (year)": "2014-01-01T00:00:00",
                          "Record": 491
                        },
                        {
                          "year (year)": "2015-01-01T00:00:00",
                          "Record": 989
                        },
                        {
                          "year (year)": "2016-01-01T00:00:00",
                          "Record": 1968
                        },
                        {
                          "year (year)": "2017-01-01T00:00:00",
                          "Record": 2379
                        },
                        {
                          "year (year)": "2018-01-01T00:00:00",
                          "Record": 1467
                        },
                        {
                          "year (year)": "2019-01-01T00:00:00",
                          "Record": 4553
                        },
                        {
                          "year (year)": "2020-01-01T00:00:00",
                          "Record": 718
                        }
                      ]
                    },
                    "vislib": "vegalite"
                  },
                  {
                    "config": {
                      "view": {
                        "continuousWidth": 400,
                        "continuousHeight": 300
                      },
                      "axis": {
                        "labelColor": "#505050",
                        "labelFont": "Helvetica Neue",
                        "labelFontSize": 9,
                        "labelFontWeight": 400,
                        "titleFont": "Helvetica Neue",
                        "titleFontSize": 11,
                        "titleFontWeight": 500
                      },
                      "legend": {
                        "labelFont": "Helvetica Neue",
                        "labelFontSize": 9,
                        "labelFontWeight": 400,
                        "titleFont": "Helvetica Neue",
                        "titleFontSize": 10,
                        "titleFontWeight": 500
                      },
                      "title": {
                        "font": "Helvetica Neue",
                        "fontSize": 13,
                        "fontWeight": 500
                      }
                    },
                    "data": {
                      "name": "data-8e0381d4c214ca69cd43fece85d18e0e"
                    },
                    "mark": "line",
                    "encoding": {
                      "x": {
                        "axis": {
                          "title": "year (day of week)"
                        },
                        "field": "year (day of week)",
                        "type": "ordinal"
                      },
                      "y": {
                        "axis": {
                          "title": "Record"
                        },
                        "field": "Record",
                        "title": "Number of Records",
                        "type": "quantitative"
                      }
                    },
                    "height": 150,
                    "selection": {
                      "selector009": {
                        "type": "interval",
                        "bind": "scales",
                        "encodings": [
                          "x",
                          "y"
                        ]
                      }
                    },
                    "width": 160,
                    "$schema": "https://vega.github.io/schema/vega-lite/v4.17.0.json",
                    "datasets": {
                      "data-8e0381d4c214ca69cd43fece85d18e0e": [
                        {
                          "year (day of week)": 0,
                          "Record": 1467
                        },
                        {
                          "year (day of week)": 1,
                          "Record": 4845
                        },
                        {
                          "year (day of week)": 2,
                          "Record": 1209
                        },
                        {
                          "year (day of week)": 3,
                          "Record": 989
                        },
                        {
                          "year (day of week)": 4,
                          "Record": 2006
                        },
                        {
                          "year (day of week)": 5,
                          "Record": 38
                        },
                        {
                          "year (day of week)": 6,
                          "Record": 2436
                        }
                      ]
                    },
                    "vislib": "vegalite"
                  }
                ]
              }
            ],
            "selectedIntentIndex": {}
          }
        },
        "a954483da04d4b8e807a088feefa09c4": {
          "model_module": "@jupyter-widgets/base",
          "model_name": "LayoutModel",
          "model_module_version": "1.2.0",
          "state": {
            "_model_module": "@jupyter-widgets/base",
            "_model_module_version": "1.2.0",
            "_model_name": "LayoutModel",
            "_view_count": null,
            "_view_module": "@jupyter-widgets/base",
            "_view_module_version": "1.2.0",
            "_view_name": "LayoutView",
            "align_content": null,
            "align_items": null,
            "align_self": null,
            "border": null,
            "bottom": null,
            "display": null,
            "flex": null,
            "flex_flow": null,
            "grid_area": null,
            "grid_auto_columns": null,
            "grid_auto_flow": null,
            "grid_auto_rows": null,
            "grid_column": null,
            "grid_gap": null,
            "grid_row": null,
            "grid_template_areas": null,
            "grid_template_columns": null,
            "grid_template_rows": null,
            "height": null,
            "justify_content": null,
            "justify_items": null,
            "left": null,
            "margin": null,
            "max_height": null,
            "max_width": null,
            "min_height": null,
            "min_width": null,
            "object_fit": null,
            "object_position": null,
            "order": null,
            "overflow": null,
            "overflow_x": null,
            "overflow_y": null,
            "padding": null,
            "right": null,
            "top": null,
            "visibility": null,
            "width": null
          }
        }
      }
    }
  },
  "cells": [
    {
      "cell_type": "markdown",
      "metadata": {
        "id": "view-in-github",
        "colab_type": "text"
      },
      "source": [
        "<a href=\"https://colab.research.google.com/github/AbdulxoliqMirzayev/Vizualizatsiya-/blob/main/Untitled31.ipynb\" target=\"_parent\"><img src=\"https://colab.research.google.com/assets/colab-badge.svg\" alt=\"Open In Colab\"/></a>"
      ]
    },
    {
      "cell_type": "code",
      "execution_count": 4,
      "metadata": {
        "colab": {
          "base_uri": "https://localhost:8080/"
        },
        "id": "ElujIRsfoywk",
        "outputId": "d169ddb9-62b9-4aa5-e3e3-12898026a7e2"
      },
      "outputs": [
        {
          "output_type": "stream",
          "name": "stdout",
          "text": [
            "Requirement already satisfied: lux-api in /usr/local/lib/python3.10/dist-packages (0.5.1)\n",
            "Requirement already satisfied: scipy>=1.3.3 in /usr/local/lib/python3.10/dist-packages (from lux-api) (1.13.1)\n",
            "Requirement already satisfied: altair>=4.0.0 in /usr/local/lib/python3.10/dist-packages (from lux-api) (4.2.2)\n",
            "Requirement already satisfied: numpy>=1.16.5 in /usr/local/lib/python3.10/dist-packages (from lux-api) (1.26.4)\n",
            "Requirement already satisfied: pandas in /usr/local/lib/python3.10/dist-packages (from lux-api) (2.1.4)\n",
            "Requirement already satisfied: scikit-learn>=0.22 in /usr/local/lib/python3.10/dist-packages (from lux-api) (1.3.2)\n",
            "Requirement already satisfied: matplotlib>=3.0.0 in /usr/local/lib/python3.10/dist-packages (from lux-api) (3.7.1)\n",
            "Requirement already satisfied: lux-widget>=0.1.4 in /usr/local/lib/python3.10/dist-packages (from lux-api) (0.1.11)\n",
            "Requirement already satisfied: autopep8>=1.5 in /usr/local/lib/python3.10/dist-packages (from lux-api) (2.3.1)\n",
            "Requirement already satisfied: iso3166 in /usr/local/lib/python3.10/dist-packages (from lux-api) (2.1.1)\n",
            "Requirement already satisfied: psutil>=5.9.0 in /usr/local/lib/python3.10/dist-packages (from lux-api) (5.9.5)\n",
            "Requirement already satisfied: sh in /usr/local/lib/python3.10/dist-packages (from lux-api) (2.0.7)\n",
            "Requirement already satisfied: entrypoints in /usr/local/lib/python3.10/dist-packages (from altair>=4.0.0->lux-api) (0.4)\n",
            "Requirement already satisfied: jinja2 in /usr/local/lib/python3.10/dist-packages (from altair>=4.0.0->lux-api) (3.1.4)\n",
            "Requirement already satisfied: jsonschema>=3.0 in /usr/local/lib/python3.10/dist-packages (from altair>=4.0.0->lux-api) (4.23.0)\n",
            "Requirement already satisfied: toolz in /usr/local/lib/python3.10/dist-packages (from altair>=4.0.0->lux-api) (0.12.1)\n",
            "Requirement already satisfied: pycodestyle>=2.12.0 in /usr/local/lib/python3.10/dist-packages (from autopep8>=1.5->lux-api) (2.12.1)\n",
            "Requirement already satisfied: tomli in /usr/local/lib/python3.10/dist-packages (from autopep8>=1.5->lux-api) (2.0.1)\n",
            "Requirement already satisfied: notebook>=4.0.0 in /usr/local/lib/python3.10/dist-packages (from lux-widget>=0.1.4->lux-api) (6.5.5)\n",
            "Requirement already satisfied: ipywidgets>=7.5.0 in /usr/local/lib/python3.10/dist-packages (from lux-widget>=0.1.4->lux-api) (7.7.1)\n",
            "Requirement already satisfied: contourpy>=1.0.1 in /usr/local/lib/python3.10/dist-packages (from matplotlib>=3.0.0->lux-api) (1.3.0)\n",
            "Requirement already satisfied: cycler>=0.10 in /usr/local/lib/python3.10/dist-packages (from matplotlib>=3.0.0->lux-api) (0.12.1)\n",
            "Requirement already satisfied: fonttools>=4.22.0 in /usr/local/lib/python3.10/dist-packages (from matplotlib>=3.0.0->lux-api) (4.53.1)\n",
            "Requirement already satisfied: kiwisolver>=1.0.1 in /usr/local/lib/python3.10/dist-packages (from matplotlib>=3.0.0->lux-api) (1.4.5)\n",
            "Requirement already satisfied: packaging>=20.0 in /usr/local/lib/python3.10/dist-packages (from matplotlib>=3.0.0->lux-api) (24.1)\n",
            "Requirement already satisfied: pillow>=6.2.0 in /usr/local/lib/python3.10/dist-packages (from matplotlib>=3.0.0->lux-api) (9.4.0)\n",
            "Requirement already satisfied: pyparsing>=2.3.1 in /usr/local/lib/python3.10/dist-packages (from matplotlib>=3.0.0->lux-api) (3.1.4)\n",
            "Requirement already satisfied: python-dateutil>=2.7 in /usr/local/lib/python3.10/dist-packages (from matplotlib>=3.0.0->lux-api) (2.8.2)\n",
            "Requirement already satisfied: pytz>=2020.1 in /usr/local/lib/python3.10/dist-packages (from pandas->lux-api) (2024.1)\n",
            "Requirement already satisfied: tzdata>=2022.1 in /usr/local/lib/python3.10/dist-packages (from pandas->lux-api) (2024.1)\n",
            "Requirement already satisfied: joblib>=1.1.1 in /usr/local/lib/python3.10/dist-packages (from scikit-learn>=0.22->lux-api) (1.4.2)\n",
            "Requirement already satisfied: threadpoolctl>=2.0.0 in /usr/local/lib/python3.10/dist-packages (from scikit-learn>=0.22->lux-api) (3.5.0)\n",
            "Requirement already satisfied: ipykernel>=4.5.1 in /usr/local/lib/python3.10/dist-packages (from ipywidgets>=7.5.0->lux-widget>=0.1.4->lux-api) (5.5.6)\n",
            "Requirement already satisfied: ipython-genutils~=0.2.0 in /usr/local/lib/python3.10/dist-packages (from ipywidgets>=7.5.0->lux-widget>=0.1.4->lux-api) (0.2.0)\n",
            "Requirement already satisfied: traitlets>=4.3.1 in /usr/local/lib/python3.10/dist-packages (from ipywidgets>=7.5.0->lux-widget>=0.1.4->lux-api) (5.7.1)\n",
            "Requirement already satisfied: widgetsnbextension~=3.6.0 in /usr/local/lib/python3.10/dist-packages (from ipywidgets>=7.5.0->lux-widget>=0.1.4->lux-api) (3.6.8)\n",
            "Requirement already satisfied: ipython>=4.0.0 in /usr/local/lib/python3.10/dist-packages (from ipywidgets>=7.5.0->lux-widget>=0.1.4->lux-api) (7.34.0)\n",
            "Requirement already satisfied: jupyterlab-widgets>=1.0.0 in /usr/local/lib/python3.10/dist-packages (from ipywidgets>=7.5.0->lux-widget>=0.1.4->lux-api) (3.0.13)\n",
            "Requirement already satisfied: attrs>=22.2.0 in /usr/local/lib/python3.10/dist-packages (from jsonschema>=3.0->altair>=4.0.0->lux-api) (24.2.0)\n",
            "Requirement already satisfied: jsonschema-specifications>=2023.03.6 in /usr/local/lib/python3.10/dist-packages (from jsonschema>=3.0->altair>=4.0.0->lux-api) (2023.12.1)\n",
            "Requirement already satisfied: referencing>=0.28.4 in /usr/local/lib/python3.10/dist-packages (from jsonschema>=3.0->altair>=4.0.0->lux-api) (0.35.1)\n",
            "Requirement already satisfied: rpds-py>=0.7.1 in /usr/local/lib/python3.10/dist-packages (from jsonschema>=3.0->altair>=4.0.0->lux-api) (0.20.0)\n",
            "Requirement already satisfied: tornado>=6.1 in /usr/local/lib/python3.10/dist-packages (from notebook>=4.0.0->lux-widget>=0.1.4->lux-api) (6.3.3)\n",
            "Requirement already satisfied: pyzmq<25,>=17 in /usr/local/lib/python3.10/dist-packages (from notebook>=4.0.0->lux-widget>=0.1.4->lux-api) (24.0.1)\n",
            "Requirement already satisfied: argon2-cffi in /usr/local/lib/python3.10/dist-packages (from notebook>=4.0.0->lux-widget>=0.1.4->lux-api) (23.1.0)\n",
            "Requirement already satisfied: jupyter-core>=4.6.1 in /usr/local/lib/python3.10/dist-packages (from notebook>=4.0.0->lux-widget>=0.1.4->lux-api) (5.7.2)\n",
            "Requirement already satisfied: jupyter-client<8,>=5.3.4 in /usr/local/lib/python3.10/dist-packages (from notebook>=4.0.0->lux-widget>=0.1.4->lux-api) (6.1.12)\n",
            "Requirement already satisfied: nbformat in /usr/local/lib/python3.10/dist-packages (from notebook>=4.0.0->lux-widget>=0.1.4->lux-api) (5.10.4)\n",
            "Requirement already satisfied: nbconvert>=5 in /usr/local/lib/python3.10/dist-packages (from notebook>=4.0.0->lux-widget>=0.1.4->lux-api) (6.5.4)\n",
            "Requirement already satisfied: nest-asyncio>=1.5 in /usr/local/lib/python3.10/dist-packages (from notebook>=4.0.0->lux-widget>=0.1.4->lux-api) (1.6.0)\n",
            "Requirement already satisfied: Send2Trash>=1.8.0 in /usr/local/lib/python3.10/dist-packages (from notebook>=4.0.0->lux-widget>=0.1.4->lux-api) (1.8.3)\n",
            "Requirement already satisfied: terminado>=0.8.3 in /usr/local/lib/python3.10/dist-packages (from notebook>=4.0.0->lux-widget>=0.1.4->lux-api) (0.18.1)\n",
            "Requirement already satisfied: prometheus-client in /usr/local/lib/python3.10/dist-packages (from notebook>=4.0.0->lux-widget>=0.1.4->lux-api) (0.20.0)\n",
            "Requirement already satisfied: nbclassic>=0.4.7 in /usr/local/lib/python3.10/dist-packages (from notebook>=4.0.0->lux-widget>=0.1.4->lux-api) (1.1.0)\n",
            "Requirement already satisfied: six>=1.5 in /usr/local/lib/python3.10/dist-packages (from python-dateutil>=2.7->matplotlib>=3.0.0->lux-api) (1.16.0)\n",
            "Requirement already satisfied: MarkupSafe>=2.0 in /usr/local/lib/python3.10/dist-packages (from jinja2->altair>=4.0.0->lux-api) (2.1.5)\n",
            "Requirement already satisfied: setuptools>=18.5 in /usr/local/lib/python3.10/dist-packages (from ipython>=4.0.0->ipywidgets>=7.5.0->lux-widget>=0.1.4->lux-api) (71.0.4)\n",
            "Requirement already satisfied: jedi>=0.16 in /usr/local/lib/python3.10/dist-packages (from ipython>=4.0.0->ipywidgets>=7.5.0->lux-widget>=0.1.4->lux-api) (0.19.1)\n",
            "Requirement already satisfied: decorator in /usr/local/lib/python3.10/dist-packages (from ipython>=4.0.0->ipywidgets>=7.5.0->lux-widget>=0.1.4->lux-api) (4.4.2)\n",
            "Requirement already satisfied: pickleshare in /usr/local/lib/python3.10/dist-packages (from ipython>=4.0.0->ipywidgets>=7.5.0->lux-widget>=0.1.4->lux-api) (0.7.5)\n",
            "Requirement already satisfied: prompt-toolkit!=3.0.0,!=3.0.1,<3.1.0,>=2.0.0 in /usr/local/lib/python3.10/dist-packages (from ipython>=4.0.0->ipywidgets>=7.5.0->lux-widget>=0.1.4->lux-api) (3.0.47)\n",
            "Requirement already satisfied: pygments in /usr/local/lib/python3.10/dist-packages (from ipython>=4.0.0->ipywidgets>=7.5.0->lux-widget>=0.1.4->lux-api) (2.16.1)\n",
            "Requirement already satisfied: backcall in /usr/local/lib/python3.10/dist-packages (from ipython>=4.0.0->ipywidgets>=7.5.0->lux-widget>=0.1.4->lux-api) (0.2.0)\n",
            "Requirement already satisfied: matplotlib-inline in /usr/local/lib/python3.10/dist-packages (from ipython>=4.0.0->ipywidgets>=7.5.0->lux-widget>=0.1.4->lux-api) (0.1.7)\n",
            "Requirement already satisfied: pexpect>4.3 in /usr/local/lib/python3.10/dist-packages (from ipython>=4.0.0->ipywidgets>=7.5.0->lux-widget>=0.1.4->lux-api) (4.9.0)\n",
            "Requirement already satisfied: platformdirs>=2.5 in /usr/local/lib/python3.10/dist-packages (from jupyter-core>=4.6.1->notebook>=4.0.0->lux-widget>=0.1.4->lux-api) (4.2.2)\n",
            "Requirement already satisfied: notebook-shim>=0.2.3 in /usr/local/lib/python3.10/dist-packages (from nbclassic>=0.4.7->notebook>=4.0.0->lux-widget>=0.1.4->lux-api) (0.2.4)\n",
            "Requirement already satisfied: lxml in /usr/local/lib/python3.10/dist-packages (from nbconvert>=5->notebook>=4.0.0->lux-widget>=0.1.4->lux-api) (4.9.4)\n",
            "Requirement already satisfied: beautifulsoup4 in /usr/local/lib/python3.10/dist-packages (from nbconvert>=5->notebook>=4.0.0->lux-widget>=0.1.4->lux-api) (4.12.3)\n",
            "Requirement already satisfied: bleach in /usr/local/lib/python3.10/dist-packages (from nbconvert>=5->notebook>=4.0.0->lux-widget>=0.1.4->lux-api) (6.1.0)\n",
            "Requirement already satisfied: defusedxml in /usr/local/lib/python3.10/dist-packages (from nbconvert>=5->notebook>=4.0.0->lux-widget>=0.1.4->lux-api) (0.7.1)\n",
            "Requirement already satisfied: jupyterlab-pygments in /usr/local/lib/python3.10/dist-packages (from nbconvert>=5->notebook>=4.0.0->lux-widget>=0.1.4->lux-api) (0.3.0)\n",
            "Requirement already satisfied: mistune<2,>=0.8.1 in /usr/local/lib/python3.10/dist-packages (from nbconvert>=5->notebook>=4.0.0->lux-widget>=0.1.4->lux-api) (0.8.4)\n",
            "Requirement already satisfied: nbclient>=0.5.0 in /usr/local/lib/python3.10/dist-packages (from nbconvert>=5->notebook>=4.0.0->lux-widget>=0.1.4->lux-api) (0.10.0)\n",
            "Requirement already satisfied: pandocfilters>=1.4.1 in /usr/local/lib/python3.10/dist-packages (from nbconvert>=5->notebook>=4.0.0->lux-widget>=0.1.4->lux-api) (1.5.1)\n",
            "Requirement already satisfied: tinycss2 in /usr/local/lib/python3.10/dist-packages (from nbconvert>=5->notebook>=4.0.0->lux-widget>=0.1.4->lux-api) (1.3.0)\n",
            "Requirement already satisfied: fastjsonschema>=2.15 in /usr/local/lib/python3.10/dist-packages (from nbformat->notebook>=4.0.0->lux-widget>=0.1.4->lux-api) (2.20.0)\n",
            "Requirement already satisfied: ptyprocess in /usr/local/lib/python3.10/dist-packages (from terminado>=0.8.3->notebook>=4.0.0->lux-widget>=0.1.4->lux-api) (0.7.0)\n",
            "Requirement already satisfied: argon2-cffi-bindings in /usr/local/lib/python3.10/dist-packages (from argon2-cffi->notebook>=4.0.0->lux-widget>=0.1.4->lux-api) (21.2.0)\n",
            "Requirement already satisfied: parso<0.9.0,>=0.8.3 in /usr/local/lib/python3.10/dist-packages (from jedi>=0.16->ipython>=4.0.0->ipywidgets>=7.5.0->lux-widget>=0.1.4->lux-api) (0.8.4)\n",
            "Requirement already satisfied: jupyter-server<3,>=1.8 in /usr/local/lib/python3.10/dist-packages (from notebook-shim>=0.2.3->nbclassic>=0.4.7->notebook>=4.0.0->lux-widget>=0.1.4->lux-api) (1.24.0)\n",
            "Requirement already satisfied: wcwidth in /usr/local/lib/python3.10/dist-packages (from prompt-toolkit!=3.0.0,!=3.0.1,<3.1.0,>=2.0.0->ipython>=4.0.0->ipywidgets>=7.5.0->lux-widget>=0.1.4->lux-api) (0.2.13)\n",
            "Requirement already satisfied: cffi>=1.0.1 in /usr/local/lib/python3.10/dist-packages (from argon2-cffi-bindings->argon2-cffi->notebook>=4.0.0->lux-widget>=0.1.4->lux-api) (1.17.0)\n",
            "Requirement already satisfied: soupsieve>1.2 in /usr/local/lib/python3.10/dist-packages (from beautifulsoup4->nbconvert>=5->notebook>=4.0.0->lux-widget>=0.1.4->lux-api) (2.6)\n",
            "Requirement already satisfied: webencodings in /usr/local/lib/python3.10/dist-packages (from bleach->nbconvert>=5->notebook>=4.0.0->lux-widget>=0.1.4->lux-api) (0.5.1)\n",
            "Requirement already satisfied: pycparser in /usr/local/lib/python3.10/dist-packages (from cffi>=1.0.1->argon2-cffi-bindings->argon2-cffi->notebook>=4.0.0->lux-widget>=0.1.4->lux-api) (2.22)\n",
            "Requirement already satisfied: anyio<4,>=3.1.0 in /usr/local/lib/python3.10/dist-packages (from jupyter-server<3,>=1.8->notebook-shim>=0.2.3->nbclassic>=0.4.7->notebook>=4.0.0->lux-widget>=0.1.4->lux-api) (3.7.1)\n",
            "Requirement already satisfied: websocket-client in /usr/local/lib/python3.10/dist-packages (from jupyter-server<3,>=1.8->notebook-shim>=0.2.3->nbclassic>=0.4.7->notebook>=4.0.0->lux-widget>=0.1.4->lux-api) (1.8.0)\n",
            "Requirement already satisfied: idna>=2.8 in /usr/local/lib/python3.10/dist-packages (from anyio<4,>=3.1.0->jupyter-server<3,>=1.8->notebook-shim>=0.2.3->nbclassic>=0.4.7->notebook>=4.0.0->lux-widget>=0.1.4->lux-api) (3.8)\n",
            "Requirement already satisfied: sniffio>=1.1 in /usr/local/lib/python3.10/dist-packages (from anyio<4,>=3.1.0->jupyter-server<3,>=1.8->notebook-shim>=0.2.3->nbclassic>=0.4.7->notebook>=4.0.0->lux-widget>=0.1.4->lux-api) (1.3.1)\n",
            "Requirement already satisfied: exceptiongroup in /usr/local/lib/python3.10/dist-packages (from anyio<4,>=3.1.0->jupyter-server<3,>=1.8->notebook-shim>=0.2.3->nbclassic>=0.4.7->notebook>=4.0.0->lux-widget>=0.1.4->lux-api) (1.2.2)\n"
          ]
        }
      ],
      "source": [
        "pip install lux-api"
      ]
    },
    {
      "cell_type": "code",
      "source": [
        "from google.colab import output\n",
        "output.enable_custom_widget_manager()"
      ],
      "metadata": {
        "id": "Q3HfrHfDo2Qr"
      },
      "execution_count": 5,
      "outputs": []
    },
    {
      "cell_type": "code",
      "source": [
        "import lux\n",
        "import pandas as pd\n",
        "import numpy as np"
      ],
      "metadata": {
        "id": "GeiyAEo_pKzi"
      },
      "execution_count": 6,
      "outputs": []
    },
    {
      "cell_type": "code",
      "source": [
        "df = pd.read_csv(\"https://raw.githubusercontent.com/anvarnarz/praktikum_datasets/main/merc.csv\")\n",
        "df=df[df.year>=2010] # 2010-yildan keyin chiqqan mashinalarni saqlab qolamiz\n",
        "df=df[df.transmission!='Other'] # Faqat avtomat, mexanik va yarim-avtomat mashinalarni olib qolamiz\n",
        "df=df[df.fuelType!='Other'] # Faqat benzin, dizel va gibrid mashinalarni olib qolamiz\n",
        "df['year'] = pd.to_datetime(df['year'], format='%Y')\n",
        "df.head()"
      ],
      "metadata": {
        "colab": {
          "base_uri": "https://localhost:8080/",
          "height": 897,
          "referenced_widgets": [
            "bdaf27de8ac745a7b1381adee39dc505",
            "4de5766e2b504d97af35807718c5c5b8",
            "c065cc4c011b4aaaa6e519fa6a3cbe02",
            "3f18973518ad4651b111f712eb3667a7",
            "fc28e8e861b64a66a66e18e135ff5ded",
            "be48bcfb509f4fecac38bda052721477",
            "a954483da04d4b8e807a088feefa09c4"
          ]
        },
        "id": "2-3Ua7pMqfmY",
        "outputId": "0be6d831-267b-48e6-f132-3ed0198738ed"
      },
      "execution_count": 7,
      "outputs": [
        {
          "output_type": "stream",
          "name": "stderr",
          "text": [
            "/usr/local/lib/python3.10/dist-packages/lux/executor/PandasExecutor.py:548: UserWarning:Could not infer format, so each element will be parsed individually, falling back to `dateutil`. To ensure parsing is consistent and as-expected, please specify a format.\n",
            "/usr/local/lib/python3.10/dist-packages/lux/executor/PandasExecutor.py:567: UserWarning:Could not infer format, so each element will be parsed individually, falling back to `dateutil`. To ensure parsing is consistent and as-expected, please specify a format.\n",
            "/usr/local/lib/python3.10/dist-packages/lux/executor/PandasExecutor.py:548: UserWarning:Could not infer format, so each element will be parsed individually, falling back to `dateutil`. To ensure parsing is consistent and as-expected, please specify a format.\n",
            "/usr/local/lib/python3.10/dist-packages/lux/executor/PandasExecutor.py:567: UserWarning:Could not infer format, so each element will be parsed individually, falling back to `dateutil`. To ensure parsing is consistent and as-expected, please specify a format.\n",
            "/usr/local/lib/python3.10/dist-packages/lux/executor/PandasExecutor.py:548: UserWarning:Could not infer format, so each element will be parsed individually, falling back to `dateutil`. To ensure parsing is consistent and as-expected, please specify a format.\n",
            "/usr/local/lib/python3.10/dist-packages/lux/executor/PandasExecutor.py:567: UserWarning:Could not infer format, so each element will be parsed individually, falling back to `dateutil`. To ensure parsing is consistent and as-expected, please specify a format.\n",
            "/usr/local/lib/python3.10/dist-packages/lux/executor/PandasExecutor.py:548: UserWarning:Could not infer format, so each element will be parsed individually, falling back to `dateutil`. To ensure parsing is consistent and as-expected, please specify a format.\n",
            "/usr/local/lib/python3.10/dist-packages/lux/executor/PandasExecutor.py:567: UserWarning:Could not infer format, so each element will be parsed individually, falling back to `dateutil`. To ensure parsing is consistent and as-expected, please specify a format.\n",
            "/usr/local/lib/python3.10/dist-packages/lux/executor/PandasExecutor.py:548: UserWarning:Could not infer format, so each element will be parsed individually, falling back to `dateutil`. To ensure parsing is consistent and as-expected, please specify a format.\n",
            "/usr/local/lib/python3.10/dist-packages/lux/executor/PandasExecutor.py:567: UserWarning:Could not infer format, so each element will be parsed individually, falling back to `dateutil`. To ensure parsing is consistent and as-expected, please specify a format.\n",
            "/usr/local/lib/python3.10/dist-packages/lux/executor/PandasExecutor.py:548: UserWarning:Could not infer format, so each element will be parsed individually, falling back to `dateutil`. To ensure parsing is consistent and as-expected, please specify a format.\n",
            "/usr/local/lib/python3.10/dist-packages/lux/executor/PandasExecutor.py:567: UserWarning:Could not infer format, so each element will be parsed individually, falling back to `dateutil`. To ensure parsing is consistent and as-expected, please specify a format.\n",
            "/usr/local/lib/python3.10/dist-packages/lux/core/groupby.py:29: FutureWarning:The default of observed=False is deprecated and will be changed to True in a future version of pandas. Pass observed=False to retain current behavior or observed=True to adopt the future default and silence this warning.\n",
            "/usr/local/lib/python3.10/dist-packages/lux/core/groupby.py:29: FutureWarning:The default of observed=False is deprecated and will be changed to True in a future version of pandas. Pass observed=False to retain current behavior or observed=True to adopt the future default and silence this warning.\n",
            "/usr/local/lib/python3.10/dist-packages/lux/core/groupby.py:29: FutureWarning:The default of observed=False is deprecated and will be changed to True in a future version of pandas. Pass observed=False to retain current behavior or observed=True to adopt the future default and silence this warning.\n",
            "/usr/local/lib/python3.10/dist-packages/lux/core/groupby.py:29: FutureWarning:The default of observed=False is deprecated and will be changed to True in a future version of pandas. Pass observed=False to retain current behavior or observed=True to adopt the future default and silence this warning.\n",
            "/usr/local/lib/python3.10/dist-packages/lux/core/groupby.py:29: FutureWarning:The default of observed=False is deprecated and will be changed to True in a future version of pandas. Pass observed=False to retain current behavior or observed=True to adopt the future default and silence this warning.\n",
            "/usr/local/lib/python3.10/dist-packages/lux/core/groupby.py:29: FutureWarning:The default of observed=False is deprecated and will be changed to True in a future version of pandas. Pass observed=False to retain current behavior or observed=True to adopt the future default and silence this warning.\n",
            "/usr/local/lib/python3.10/dist-packages/lux/core/groupby.py:29: FutureWarning:The default of observed=False is deprecated and will be changed to True in a future version of pandas. Pass observed=False to retain current behavior or observed=True to adopt the future default and silence this warning.\n",
            "/usr/local/lib/python3.10/dist-packages/lux/core/groupby.py:29: FutureWarning:The default of observed=False is deprecated and will be changed to True in a future version of pandas. Pass observed=False to retain current behavior or observed=True to adopt the future default and silence this warning.\n",
            "/usr/local/lib/python3.10/dist-packages/lux/core/groupby.py:29: FutureWarning:The default of observed=False is deprecated and will be changed to True in a future version of pandas. Pass observed=False to retain current behavior or observed=True to adopt the future default and silence this warning.\n",
            "/usr/local/lib/python3.10/dist-packages/lux/core/groupby.py:29: FutureWarning:The default of observed=False is deprecated and will be changed to True in a future version of pandas. Pass observed=False to retain current behavior or observed=True to adopt the future default and silence this warning.\n",
            "/usr/local/lib/python3.10/dist-packages/lux/core/groupby.py:29: FutureWarning:The default of observed=False is deprecated and will be changed to True in a future version of pandas. Pass observed=False to retain current behavior or observed=True to adopt the future default and silence this warning.\n",
            "/usr/local/lib/python3.10/dist-packages/lux/core/groupby.py:29: FutureWarning:The default of observed=False is deprecated and will be changed to True in a future version of pandas. Pass observed=False to retain current behavior or observed=True to adopt the future default and silence this warning.\n",
            "/usr/local/lib/python3.10/dist-packages/lux/executor/PandasExecutor.py:567: UserWarning:Could not infer format, so each element will be parsed individually, falling back to `dateutil`. To ensure parsing is consistent and as-expected, please specify a format.\n",
            "/usr/local/lib/python3.10/dist-packages/altair/utils/core.py:384: FutureWarning:the convert_dtype parameter is deprecated and will be removed in a future version.  Do ``ser.astype(object).apply()`` instead if you want ``convert_dtype=False``.\n",
            "/usr/local/lib/python3.10/dist-packages/altair/utils/core.py:384: FutureWarning:the convert_dtype parameter is deprecated and will be removed in a future version.  Do ``ser.astype(object).apply()`` instead if you want ``convert_dtype=False``.\n",
            "/usr/local/lib/python3.10/dist-packages/altair/utils/core.py:384: FutureWarning:the convert_dtype parameter is deprecated and will be removed in a future version.  Do ``ser.astype(object).apply()`` instead if you want ``convert_dtype=False``.\n",
            "/usr/local/lib/python3.10/dist-packages/altair/utils/core.py:384: FutureWarning:the convert_dtype parameter is deprecated and will be removed in a future version.  Do ``ser.astype(object).apply()`` instead if you want ``convert_dtype=False``.\n"
          ]
        },
        {
          "output_type": "display_data",
          "data": {
            "text/plain": [
              "Button(description='Toggle Pandas/Lux', layout=Layout(top='5px', width='140px'), style=ButtonStyle())"
            ],
            "application/vnd.jupyter.widget-view+json": {
              "version_major": 2,
              "version_minor": 0,
              "model_id": "bdaf27de8ac745a7b1381adee39dc505"
            }
          },
          "metadata": {
            "application/vnd.jupyter.widget-view+json": {
              "colab": {
                "custom_widget_manager": {
                  "url": "https://ssl.gstatic.com/colaboratory-static/widgets/colab-cdn-widget-manager/2b70e893a8ba7c0f/manager.min.js"
                }
              }
            }
          }
        },
        {
          "output_type": "display_data",
          "data": {
            "text/plain": [
              "Output()"
            ],
            "application/vnd.jupyter.widget-view+json": {
              "version_major": 2,
              "version_minor": 0,
              "model_id": "3f18973518ad4651b111f712eb3667a7"
            }
          },
          "metadata": {
            "application/vnd.jupyter.widget-view+json": {
              "colab": {
                "custom_widget_manager": {
                  "url": "https://ssl.gstatic.com/colaboratory-static/widgets/colab-cdn-widget-manager/2b70e893a8ba7c0f/manager.min.js"
                }
              }
            }
          }
        }
      ]
    }
  ]
}